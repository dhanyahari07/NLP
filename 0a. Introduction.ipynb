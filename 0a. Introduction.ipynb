{
 "cells": [
  {
   "cell_type": "code",
   "execution_count": 1,
   "metadata": {},
   "outputs": [
    {
     "name": "stdout",
     "output_type": "stream",
     "text": [
      "the cities i like most in india are mumbai, bangalore, dharamsala and allahabad.\n"
     ]
    }
   ],
   "source": [
    "s = \"The cities I like most in India are Mumbai, Bangalore, Dharamsala and Allahabad.\"\n",
    "s = s.lower()\n",
    "print(s)"
   ]
  },
  {
   "cell_type": "markdown",
   "metadata": {},
   "source": [
    "# Lowercase"
   ]
  },
  {
   "cell_type": "code",
   "execution_count": 2,
   "metadata": {},
   "outputs": [
    {
     "name": "stdout",
     "output_type": "stream",
     "text": [
      "['india', 'india', 'india', 'india']\n"
     ]
    }
   ],
   "source": [
    "words = ['indiA', 'India', 'india', 'iNDia']\n",
    "words = [word.lower() for word in words]\n",
    "print(words)"
   ]
  },
  {
   "cell_type": "markdown",
   "metadata": {},
   "source": [
    "# Removing noise"
   ]
  },
  {
   "cell_type": "code",
   "execution_count": 3,
   "metadata": {},
   "outputs": [],
   "source": [
    "import re\n",
    "def clean_words(text):\n",
    "  text = re.sub(\"(<.*?>)\",\"\",text)\n",
    "  text=re.sub(\"(\\W|\\d+)\",\" \",text)\n",
    "  text=text.strip()\n",
    "  \n",
    "  return text"
   ]
  },
  {
   "cell_type": "code",
   "execution_count": 4,
   "metadata": {},
   "outputs": [],
   "source": [
    "raw = ['..sleepy', 'sleepy!!', '#sleepy', '>>>>>sleepy>>>>', '<a>sleepy</a>']"
   ]
  },
  {
   "cell_type": "code",
   "execution_count": 5,
   "metadata": {},
   "outputs": [
    {
     "name": "stdout",
     "output_type": "stream",
     "text": [
      "['sleepy', 'sleepy', 'sleepy', 'sleepy', 'sleepy']\n"
     ]
    }
   ],
   "source": [
    "clean = [clean_words(r) for r in raw]\n",
    "print(clean)"
   ]
  },
  {
   "cell_type": "markdown",
   "metadata": {},
   "source": [
    "# Stemming"
   ]
  },
  {
   "cell_type": "code",
   "execution_count": 1,
   "metadata": {},
   "outputs": [],
   "source": [
    "import nltk\n",
    "import pandas as pd\n",
    "from nltk.stem import PorterStemmer as ps\n",
    "stemmer = ps()"
   ]
  },
  {
   "cell_type": "code",
   "execution_count": 2,
   "metadata": {},
   "outputs": [],
   "source": [
    "words=['annoying', 'annoys', 'annoyed', 'annoy']\n",
    "stems =[stemmer.stem(word = word) for word in words]"
   ]
  },
  {
   "cell_type": "code",
   "execution_count": 3,
   "metadata": {},
   "outputs": [
    {
     "data": {
      "text/html": [
       "<div>\n",
       "<style scoped>\n",
       "    .dataframe tbody tr th:only-of-type {\n",
       "        vertical-align: middle;\n",
       "    }\n",
       "\n",
       "    .dataframe tbody tr th {\n",
       "        vertical-align: top;\n",
       "    }\n",
       "\n",
       "    .dataframe thead th {\n",
       "        text-align: right;\n",
       "    }\n",
       "</style>\n",
       "<table border=\"1\" class=\"dataframe\">\n",
       "  <thead>\n",
       "    <tr style=\"text-align: right;\">\n",
       "      <th></th>\n",
       "      <th>raw word</th>\n",
       "      <th>stem</th>\n",
       "    </tr>\n",
       "  </thead>\n",
       "  <tbody>\n",
       "    <tr>\n",
       "      <th>0</th>\n",
       "      <td>annoying</td>\n",
       "      <td>annoy</td>\n",
       "    </tr>\n",
       "    <tr>\n",
       "      <th>1</th>\n",
       "      <td>annoys</td>\n",
       "      <td>annoy</td>\n",
       "    </tr>\n",
       "    <tr>\n",
       "      <th>2</th>\n",
       "      <td>annoyed</td>\n",
       "      <td>annoy</td>\n",
       "    </tr>\n",
       "    <tr>\n",
       "      <th>3</th>\n",
       "      <td>annoy</td>\n",
       "      <td>annoy</td>\n",
       "    </tr>\n",
       "  </tbody>\n",
       "</table>\n",
       "</div>"
      ],
      "text/plain": [
       "   raw word   stem\n",
       "0  annoying  annoy\n",
       "1    annoys  annoy\n",
       "2   annoyed  annoy\n",
       "3     annoy  annoy"
      ]
     },
     "execution_count": 3,
     "metadata": {},
     "output_type": "execute_result"
    }
   ],
   "source": [
    "sdf = pd.DataFrame({'raw word': words,'stem': stems})\n",
    "sdf"
   ]
  },
  {
   "cell_type": "markdown",
   "metadata": {},
   "source": [
    "# Lemmatization"
   ]
  },
  {
   "cell_type": "code",
   "execution_count": 4,
   "metadata": {},
   "outputs": [
    {
     "name": "stderr",
     "output_type": "stream",
     "text": [
      "[nltk_data] Downloading package wordnet to\n",
      "[nltk_data]     /home/dhanyaharish/nltk_data...\n",
      "[nltk_data]   Package wordnet is already up-to-date!\n"
     ]
    },
    {
     "data": {
      "text/plain": [
       "True"
      ]
     },
     "execution_count": 4,
     "metadata": {},
     "output_type": "execute_result"
    }
   ],
   "source": [
    "from nltk.stem import WordNetLemmatizer as wnl\n",
    "nltk.download('wordnet')"
   ]
  },
  {
   "cell_type": "code",
   "execution_count": 5,
   "metadata": {},
   "outputs": [],
   "source": [
    "lemmatizer = wnl()\n",
    "words = ['troubling', 'troubled', 'troubles', 'trouble']"
   ]
  },
  {
   "cell_type": "code",
   "execution_count": 6,
   "metadata": {},
   "outputs": [],
   "source": [
    "lemmatized = [lemmatizer.lemmatize(word = word, pos = 'v') for word in words]"
   ]
  },
  {
   "cell_type": "code",
   "execution_count": 7,
   "metadata": {},
   "outputs": [
    {
     "data": {
      "text/html": [
       "<div>\n",
       "<style scoped>\n",
       "    .dataframe tbody tr th:only-of-type {\n",
       "        vertical-align: middle;\n",
       "    }\n",
       "\n",
       "    .dataframe tbody tr th {\n",
       "        vertical-align: top;\n",
       "    }\n",
       "\n",
       "    .dataframe thead th {\n",
       "        text-align: right;\n",
       "    }\n",
       "</style>\n",
       "<table border=\"1\" class=\"dataframe\">\n",
       "  <thead>\n",
       "    <tr style=\"text-align: right;\">\n",
       "      <th></th>\n",
       "      <th>raw word</th>\n",
       "      <th>lemmatized</th>\n",
       "    </tr>\n",
       "  </thead>\n",
       "  <tbody>\n",
       "    <tr>\n",
       "      <th>0</th>\n",
       "      <td>troubling</td>\n",
       "      <td>trouble</td>\n",
       "    </tr>\n",
       "    <tr>\n",
       "      <th>1</th>\n",
       "      <td>troubled</td>\n",
       "      <td>trouble</td>\n",
       "    </tr>\n",
       "    <tr>\n",
       "      <th>2</th>\n",
       "      <td>troubles</td>\n",
       "      <td>trouble</td>\n",
       "    </tr>\n",
       "    <tr>\n",
       "      <th>3</th>\n",
       "      <td>trouble</td>\n",
       "      <td>trouble</td>\n",
       "    </tr>\n",
       "  </tbody>\n",
       "</table>\n",
       "</div>"
      ],
      "text/plain": [
       "    raw word lemmatized\n",
       "0  troubling    trouble\n",
       "1   troubled    trouble\n",
       "2   troubles    trouble\n",
       "3    trouble    trouble"
      ]
     },
     "execution_count": 7,
     "metadata": {},
     "output_type": "execute_result"
    }
   ],
   "source": [
    "ldf = pd.DataFrame({'raw word': words,'lemmatized': lemmatized})\n",
    "ldf = ldf[['raw word','lemmatized']]\n",
    "ldf"
   ]
  },
  {
   "cell_type": "markdown",
   "metadata": {},
   "source": [
    "# word tokenizer"
   ]
  },
  {
   "cell_type": "code",
   "execution_count": 8,
   "metadata": {},
   "outputs": [],
   "source": [
    "from nltk import word_tokenize"
   ]
  },
  {
   "cell_type": "code",
   "execution_count": 9,
   "metadata": {},
   "outputs": [
    {
     "name": "stderr",
     "output_type": "stream",
     "text": [
      "[nltk_data] Downloading package punkt to\n",
      "[nltk_data]     /home/dhanyaharish/nltk_data...\n",
      "[nltk_data]   Package punkt is already up-to-date!\n"
     ]
    },
    {
     "data": {
      "text/plain": [
       "True"
      ]
     },
     "execution_count": 9,
     "metadata": {},
     "output_type": "execute_result"
    }
   ],
   "source": [
    "import nltk\n",
    "nltk.download('punkt')"
   ]
  },
  {
   "cell_type": "code",
   "execution_count": 10,
   "metadata": {},
   "outputs": [
    {
     "data": {
      "text/plain": [
       "['hi', '!', 'my', 'name', 'is', 'john', '.']"
      ]
     },
     "execution_count": 10,
     "metadata": {},
     "output_type": "execute_result"
    }
   ],
   "source": [
    "s = \"hi! my name is john.\"\n",
    "tokens = word_tokenize(s)\n",
    "tokens"
   ]
  },
  {
   "cell_type": "markdown",
   "metadata": {},
   "source": [
    "# Sentence tokenize"
   ]
  },
  {
   "cell_type": "code",
   "execution_count": 11,
   "metadata": {},
   "outputs": [],
   "source": [
    "from nltk import sent_tokenize"
   ]
  },
  {
   "cell_type": "code",
   "execution_count": 12,
   "metadata": {},
   "outputs": [
    {
     "data": {
      "text/plain": [
       "['hi!', 'my name is john.']"
      ]
     },
     "execution_count": 12,
     "metadata": {},
     "output_type": "execute_result"
    }
   ],
   "source": [
    "s = \"hi! my name is john.\"\n",
    "tokens = sent_tokenize(s)\n",
    "tokens"
   ]
  },
  {
   "cell_type": "markdown",
   "metadata": {},
   "source": [
    "# removing stop words"
   ]
  },
  {
   "cell_type": "code",
   "execution_count": 13,
   "metadata": {},
   "outputs": [
    {
     "name": "stderr",
     "output_type": "stream",
     "text": [
      "[nltk_data] Downloading package stopwords to\n",
      "[nltk_data]     /home/dhanyaharish/nltk_data...\n",
      "[nltk_data]   Package stopwords is already up-to-date!\n"
     ]
    },
    {
     "data": {
      "text/plain": [
       "True"
      ]
     },
     "execution_count": 13,
     "metadata": {},
     "output_type": "execute_result"
    }
   ],
   "source": [
    "nltk.download('stopwords')"
   ]
  },
  {
   "cell_type": "code",
   "execution_count": 14,
   "metadata": {},
   "outputs": [],
   "source": [
    "s = \"the weather is really hot and i want to go for a swim\""
   ]
  },
  {
   "cell_type": "code",
   "execution_count": 15,
   "metadata": {},
   "outputs": [],
   "source": [
    "from nltk.corpus import stopwords\n",
    "stop_words = set(stopwords.words('english'))"
   ]
  },
  {
   "cell_type": "code",
   "execution_count": 16,
   "metadata": {},
   "outputs": [
    {
     "name": "stdout",
     "output_type": "stream",
     "text": [
      "['weather', 'really', 'hot', 'want', 'go', 'swim']\n"
     ]
    }
   ],
   "source": [
    "tokens = word_tokenize(s)\n",
    "tokens = [word for word in tokens if not word in stop_words]\n",
    "print(tokens)"
   ]
  },
  {
   "cell_type": "markdown",
   "metadata": {},
   "source": [
    "# embedding word2vec"
   ]
  },
  {
   "cell_type": "code",
   "execution_count": 17,
   "metadata": {},
   "outputs": [],
   "source": [
    "from gensim.models import Word2Vec as wtv\n",
    "from nltk import word_tokenize"
   ]
  },
  {
   "cell_type": "code",
   "execution_count": 18,
   "metadata": {},
   "outputs": [],
   "source": [
    "s1 = \"Ariana Grande is a singer\"\n",
    "s2 = \"She has been a singer for many years\"\n",
    "s3 = \"Ariana is a great singer\"\n",
    "sentences = [word_tokenize(s1), word_tokenize(s2), word_tokenize(s3)]"
   ]
  },
  {
   "cell_type": "code",
   "execution_count": 19,
   "metadata": {},
   "outputs": [],
   "source": [
    "model = wtv(sentences, min_count = 1)"
   ]
  },
  {
   "cell_type": "code",
   "execution_count": 20,
   "metadata": {},
   "outputs": [
    {
     "name": "stdout",
     "output_type": "stream",
     "text": [
      "this is the summary of the model: \n",
      "Word2Vec(vocab=12, vector_size=100, alpha=0.025)\n"
     ]
    }
   ],
   "source": [
    "print('this is the summary of the model: ')\n",
    "print(model)"
   ]
  },
  {
   "cell_type": "code",
   "execution_count": 22,
   "metadata": {},
   "outputs": [
    {
     "ename": "AttributeError",
     "evalue": "The vocab attribute was removed from KeyedVector in Gensim 4.0.0.\nUse KeyedVector's .key_to_index dict, .index_to_key list, and methods .get_vecattr(key, attr) and .set_vecattr(key, attr, new_val) instead.\nSee https://github.com/RaRe-Technologies/gensim/wiki/Migrating-from-Gensim-3.x-to-4",
     "output_type": "error",
     "traceback": [
      "\u001b[0;31m---------------------------------------------------------------------------\u001b[0m",
      "\u001b[0;31mAttributeError\u001b[0m                            Traceback (most recent call last)",
      "\u001b[0;32m/tmp/ipykernel_288/2038437381.py\u001b[0m in \u001b[0;36m<module>\u001b[0;34m\u001b[0m\n\u001b[0;32m----> 1\u001b[0;31m \u001b[0mwords\u001b[0m \u001b[0;34m=\u001b[0m \u001b[0mlist\u001b[0m\u001b[0;34m(\u001b[0m\u001b[0mmodel\u001b[0m\u001b[0;34m.\u001b[0m\u001b[0mwv\u001b[0m\u001b[0;34m.\u001b[0m\u001b[0mvocab\u001b[0m\u001b[0;34m)\u001b[0m\u001b[0;34m\u001b[0m\u001b[0;34m\u001b[0m\u001b[0m\n\u001b[0m\u001b[1;32m      2\u001b[0m \u001b[0mprint\u001b[0m\u001b[0;34m(\u001b[0m\u001b[0;34m'this is the vocabulary for our corpus: '\u001b[0m\u001b[0;34m)\u001b[0m\u001b[0;34m\u001b[0m\u001b[0;34m\u001b[0m\u001b[0m\n\u001b[1;32m      3\u001b[0m \u001b[0mprint\u001b[0m\u001b[0;34m(\u001b[0m\u001b[0mwords\u001b[0m\u001b[0;34m)\u001b[0m\u001b[0;34m\u001b[0m\u001b[0;34m\u001b[0m\u001b[0m\n",
      "\u001b[0;32m~/Documents/GitHub/deep-learning/pytorch/DL/lib/python3.9/site-packages/gensim/models/keyedvectors.py\u001b[0m in \u001b[0;36mvocab\u001b[0;34m(self)\u001b[0m\n\u001b[1;32m    659\u001b[0m     \u001b[0;34m@\u001b[0m\u001b[0mproperty\u001b[0m\u001b[0;34m\u001b[0m\u001b[0;34m\u001b[0m\u001b[0m\n\u001b[1;32m    660\u001b[0m     \u001b[0;32mdef\u001b[0m \u001b[0mvocab\u001b[0m\u001b[0;34m(\u001b[0m\u001b[0mself\u001b[0m\u001b[0;34m)\u001b[0m\u001b[0;34m:\u001b[0m\u001b[0;34m\u001b[0m\u001b[0;34m\u001b[0m\u001b[0m\n\u001b[0;32m--> 661\u001b[0;31m         raise AttributeError(\n\u001b[0m\u001b[1;32m    662\u001b[0m             \u001b[0;34m\"The vocab attribute was removed from KeyedVector in Gensim 4.0.0.\\n\"\u001b[0m\u001b[0;34m\u001b[0m\u001b[0;34m\u001b[0m\u001b[0m\n\u001b[1;32m    663\u001b[0m             \u001b[0;34m\"Use KeyedVector's .key_to_index dict, .index_to_key list, and methods \"\u001b[0m\u001b[0;34m\u001b[0m\u001b[0;34m\u001b[0m\u001b[0m\n",
      "\u001b[0;31mAttributeError\u001b[0m: The vocab attribute was removed from KeyedVector in Gensim 4.0.0.\nUse KeyedVector's .key_to_index dict, .index_to_key list, and methods .get_vecattr(key, attr) and .set_vecattr(key, attr, new_val) instead.\nSee https://github.com/RaRe-Technologies/gensim/wiki/Migrating-from-Gensim-3.x-to-4"
     ]
    }
   ],
   "source": [
    "words = list(model.wv.vocab)\n",
    "print('this is the vocabulary for our corpus: ')\n",
    "print(words)"
   ]
  },
  {
   "cell_type": "code",
   "execution_count": 23,
   "metadata": {},
   "outputs": [
    {
     "name": "stdout",
     "output_type": "stream",
     "text": [
      "the vector for the word singer: \n"
     ]
    },
    {
     "ename": "TypeError",
     "evalue": "'Word2Vec' object is not subscriptable",
     "output_type": "error",
     "traceback": [
      "\u001b[0;31m---------------------------------------------------------------------------\u001b[0m",
      "\u001b[0;31mTypeError\u001b[0m                                 Traceback (most recent call last)",
      "\u001b[0;32m/tmp/ipykernel_288/1446680597.py\u001b[0m in \u001b[0;36m<module>\u001b[0;34m\u001b[0m\n\u001b[1;32m      1\u001b[0m \u001b[0mprint\u001b[0m\u001b[0;34m(\u001b[0m\u001b[0;34m\"the vector for the word singer: \"\u001b[0m\u001b[0;34m)\u001b[0m\u001b[0;34m\u001b[0m\u001b[0;34m\u001b[0m\u001b[0m\n\u001b[0;32m----> 2\u001b[0;31m \u001b[0mprint\u001b[0m\u001b[0;34m(\u001b[0m\u001b[0mmodel\u001b[0m\u001b[0;34m[\u001b[0m\u001b[0;34m'singer'\u001b[0m\u001b[0;34m]\u001b[0m\u001b[0;34m)\u001b[0m\u001b[0;34m\u001b[0m\u001b[0;34m\u001b[0m\u001b[0m\n\u001b[0m",
      "\u001b[0;31mTypeError\u001b[0m: 'Word2Vec' object is not subscriptable"
     ]
    }
   ],
   "source": [
    "print(\"the vector for the word singer: \")\n",
    "print(model['singer'])"
   ]
  },
  {
   "cell_type": "markdown",
   "metadata": {},
   "source": [
    "# Embedding GloVe"
   ]
  },
  {
   "cell_type": "code",
   "execution_count": 24,
   "metadata": {},
   "outputs": [
    {
     "name": "stdout",
     "output_type": "stream",
     "text": [
      "Collecting glove_python\n",
      "  Downloading glove_python-0.1.0.tar.gz (263 kB)\n",
      "     |████████████████████████████████| 263 kB 64 kB/s             \n",
      "\u001b[?25h  Preparing metadata (setup.py) ... \u001b[?25ldone\n",
      "\u001b[?25hRequirement already satisfied: numpy in /home/dhanyaharish/Documents/GitHub/deep-learning/pytorch/DL/lib/python3.9/site-packages (from glove_python) (1.21.4)\n",
      "Requirement already satisfied: scipy in /home/dhanyaharish/Documents/GitHub/deep-learning/pytorch/DL/lib/python3.9/site-packages (from glove_python) (1.7.2)\n",
      "Building wheels for collected packages: glove-python\n",
      "  Building wheel for glove-python (setup.py) ... \u001b[?25lerror\n",
      "\u001b[31m  ERROR: Command errored out with exit status 1:\n",
      "   command: /home/dhanyaharish/Documents/GitHub/deep-learning/pytorch/DL/bin/python -u -c 'import io, os, sys, setuptools, tokenize; sys.argv[0] = '\"'\"'/tmp/pip-install-s96xt634/glove-python_44e580ab6cf8491a9a17a8226f53f9ba/setup.py'\"'\"'; __file__='\"'\"'/tmp/pip-install-s96xt634/glove-python_44e580ab6cf8491a9a17a8226f53f9ba/setup.py'\"'\"';f = getattr(tokenize, '\"'\"'open'\"'\"', open)(__file__) if os.path.exists(__file__) else io.StringIO('\"'\"'from setuptools import setup; setup()'\"'\"');code = f.read().replace('\"'\"'\\r\\n'\"'\"', '\"'\"'\\n'\"'\"');f.close();exec(compile(code, __file__, '\"'\"'exec'\"'\"'))' bdist_wheel -d /tmp/pip-wheel-08wy7dz_\n",
      "       cwd: /tmp/pip-install-s96xt634/glove-python_44e580ab6cf8491a9a17a8226f53f9ba/\n",
      "  Complete output (246 lines):\n",
      "  /home/dhanyaharish/Documents/GitHub/deep-learning/pytorch/DL/lib/python3.9/site-packages/setuptools/dist.py:717: UserWarning: Usage of dash-separated 'description-file' will not be supported in future versions. Please use the underscore name 'description_file' instead\n",
      "    warnings.warn(\n",
      "  running bdist_wheel\n",
      "  running build\n",
      "  running build_py\n",
      "  creating build\n",
      "  creating build/lib.linux-x86_64-3.9\n",
      "  creating build/lib.linux-x86_64-3.9/glove\n",
      "  copying glove/corpus.py -> build/lib.linux-x86_64-3.9/glove\n",
      "  copying glove/__init__.py -> build/lib.linux-x86_64-3.9/glove\n",
      "  copying glove/glove.py -> build/lib.linux-x86_64-3.9/glove\n",
      "  running build_ext\n",
      "  building 'glove.glove_cython' extension\n",
      "  creating build/temp.linux-x86_64-3.9\n",
      "  creating build/temp.linux-x86_64-3.9/glove\n",
      "  x86_64-unknown-linux-gnu-gcc -pthread -Wno-unused-result -Wsign-compare -DNDEBUG -g -fwrapv -O3 -Wall -O2 -g -pipe -Wp,-D_FORTIFY_SOURCE=2 -Wp,-D_GLIBCXX_ASSERTIONS -fexceptions -fstack-protector-strong -grecord-gcc-switches -fasynchronous-unwind-tables -fstack-clash-protection -fcf-protection -fno-omit-frame-pointer -O2 -g -pipe -Wp,-D_FORTIFY_SOURCE=2 -Wp,-D_GLIBCXX_ASSERTIONS -fexceptions -fstack-protector-strong -grecord-gcc-switches -fasynchronous-unwind-tables -fstack-clash-protection -fcf-protection -fno-omit-frame-pointer -fPIC -I/home/dhanyaharish/Documents/GitHub/deep-learning/pytorch/DL/include -I/usr/include/python3.9 -c glove/glove_cython.c -o build/temp.linux-x86_64-3.9/glove/glove_cython.o -fopenmp -ffast-math -march=native\n",
      "  glove/glove_cython.c: In function ‘__Pyx_InitGlobals’:\n",
      "  glove/glove_cython.c:15114:1: warning: ‘PyEval_InitThreads’ is deprecated [-Wdeprecated-declarations]\n",
      "  15114 | PyEval_InitThreads();\n",
      "        | ^~~~~~~~~~~~~~~~~~\n",
      "  In file included from /usr/include/python3.9/Python.h:141,\n",
      "                   from glove/glove_cython.c:20:\n",
      "  /usr/include/python3.9/ceval.h:130:37: note: declared here\n",
      "    130 | Py_DEPRECATED(3.9) PyAPI_FUNC(void) PyEval_InitThreads(void);\n",
      "        |                                     ^~~~~~~~~~~~~~~~~~\n",
      "  glove/glove_cython.c: In function ‘PyInit_glove_cython’:\n",
      "  glove/glove_cython.c:15221:25: error: ‘PyTypeObject’ {aka ‘struct _typeobject’} has no member named ‘tp_print’\n",
      "  15221 |   __pyx_type___pyx_array.tp_print = 0;\n",
      "        |                         ^\n",
      "  glove/glove_cython.c:15224:31: error: ‘PyTypeObject’ {aka ‘struct _typeobject’} has no member named ‘tp_print’\n",
      "  15224 |   __pyx_type___pyx_MemviewEnum.tp_print = 0;\n",
      "        |                               ^\n",
      "  glove/glove_cython.c:15235:30: error: ‘PyTypeObject’ {aka ‘struct _typeobject’} has no member named ‘tp_print’\n",
      "  15235 |   __pyx_type___pyx_memoryview.tp_print = 0;\n",
      "        |                              ^\n",
      "  glove/glove_cython.c:15244:35: error: ‘PyTypeObject’ {aka ‘struct _typeobject’} has no member named ‘tp_print’\n",
      "  15244 |   __pyx_type___pyx_memoryviewslice.tp_print = 0;\n",
      "        |                                   ^\n",
      "  glove/glove_cython.c: In function ‘__Pyx_ParseOptionalKeywords’:\n",
      "  glove/glove_cython.c:15587:21: warning: ‘_PyUnicode_get_wstr_length’ is deprecated [-Wdeprecated-declarations]\n",
      "  15587 |                     (PyUnicode_GET_SIZE(**name) != PyUnicode_GET_SIZE(key)) ? 1 :\n",
      "        |                     ^\n",
      "  In file included from /usr/include/python3.9/unicodeobject.h:1026,\n",
      "                   from /usr/include/python3.9/Python.h:93,\n",
      "                   from glove/glove_cython.c:20:\n",
      "  /usr/include/python3.9/cpython/unicodeobject.h:446:26: note: declared here\n",
      "    446 | static inline Py_ssize_t _PyUnicode_get_wstr_length(PyObject *op) {\n",
      "        |                          ^~~~~~~~~~~~~~~~~~~~~~~~~~\n",
      "  glove/glove_cython.c:15587:21: warning: ‘PyUnicode_AsUnicode’ is deprecated [-Wdeprecated-declarations]\n",
      "  15587 |                     (PyUnicode_GET_SIZE(**name) != PyUnicode_GET_SIZE(key)) ? 1 :\n",
      "        |                     ^\n",
      "  In file included from /usr/include/python3.9/unicodeobject.h:1026,\n",
      "                   from /usr/include/python3.9/Python.h:93,\n",
      "                   from glove/glove_cython.c:20:\n",
      "  /usr/include/python3.9/cpython/unicodeobject.h:580:45: note: declared here\n",
      "    580 | Py_DEPRECATED(3.3) PyAPI_FUNC(Py_UNICODE *) PyUnicode_AsUnicode(\n",
      "        |                                             ^~~~~~~~~~~~~~~~~~~\n",
      "  glove/glove_cython.c:15587:21: warning: ‘_PyUnicode_get_wstr_length’ is deprecated [-Wdeprecated-declarations]\n",
      "  15587 |                     (PyUnicode_GET_SIZE(**name) != PyUnicode_GET_SIZE(key)) ? 1 :\n",
      "        |                     ^\n",
      "  In file included from /usr/include/python3.9/unicodeobject.h:1026,\n",
      "                   from /usr/include/python3.9/Python.h:93,\n",
      "                   from glove/glove_cython.c:20:\n",
      "  /usr/include/python3.9/cpython/unicodeobject.h:446:26: note: declared here\n",
      "    446 | static inline Py_ssize_t _PyUnicode_get_wstr_length(PyObject *op) {\n",
      "        |                          ^~~~~~~~~~~~~~~~~~~~~~~~~~\n",
      "  glove/glove_cython.c:15587:21: warning: ‘_PyUnicode_get_wstr_length’ is deprecated [-Wdeprecated-declarations]\n",
      "  15587 |                     (PyUnicode_GET_SIZE(**name) != PyUnicode_GET_SIZE(key)) ? 1 :\n",
      "        |                     ^\n",
      "  In file included from /usr/include/python3.9/unicodeobject.h:1026,\n",
      "                   from /usr/include/python3.9/Python.h:93,\n",
      "                   from glove/glove_cython.c:20:\n",
      "  /usr/include/python3.9/cpython/unicodeobject.h:446:26: note: declared here\n",
      "    446 | static inline Py_ssize_t _PyUnicode_get_wstr_length(PyObject *op) {\n",
      "        |                          ^~~~~~~~~~~~~~~~~~~~~~~~~~\n",
      "  glove/glove_cython.c:15587:21: warning: ‘PyUnicode_AsUnicode’ is deprecated [-Wdeprecated-declarations]\n",
      "  15587 |                     (PyUnicode_GET_SIZE(**name) != PyUnicode_GET_SIZE(key)) ? 1 :\n",
      "        |                     ^\n",
      "  In file included from /usr/include/python3.9/unicodeobject.h:1026,\n",
      "                   from /usr/include/python3.9/Python.h:93,\n",
      "                   from glove/glove_cython.c:20:\n",
      "  /usr/include/python3.9/cpython/unicodeobject.h:580:45: note: declared here\n",
      "    580 | Py_DEPRECATED(3.3) PyAPI_FUNC(Py_UNICODE *) PyUnicode_AsUnicode(\n",
      "        |                                             ^~~~~~~~~~~~~~~~~~~\n",
      "  glove/glove_cython.c:15587:21: warning: ‘_PyUnicode_get_wstr_length’ is deprecated [-Wdeprecated-declarations]\n",
      "  15587 |                     (PyUnicode_GET_SIZE(**name) != PyUnicode_GET_SIZE(key)) ? 1 :\n",
      "        |                     ^\n",
      "  In file included from /usr/include/python3.9/unicodeobject.h:1026,\n",
      "                   from /usr/include/python3.9/Python.h:93,\n",
      "                   from glove/glove_cython.c:20:\n",
      "  /usr/include/python3.9/cpython/unicodeobject.h:446:26: note: declared here\n",
      "    446 | static inline Py_ssize_t _PyUnicode_get_wstr_length(PyObject *op) {\n",
      "        |                          ^~~~~~~~~~~~~~~~~~~~~~~~~~\n",
      "  glove/glove_cython.c:15603:25: warning: ‘_PyUnicode_get_wstr_length’ is deprecated [-Wdeprecated-declarations]\n",
      "  15603 |                         (PyUnicode_GET_SIZE(**argname) != PyUnicode_GET_SIZE(key)) ? 1 :\n",
      "        |                         ^\n",
      "  In file included from /usr/include/python3.9/unicodeobject.h:1026,\n",
      "                   from /usr/include/python3.9/Python.h:93,\n",
      "                   from glove/glove_cython.c:20:\n",
      "  /usr/include/python3.9/cpython/unicodeobject.h:446:26: note: declared here\n",
      "    446 | static inline Py_ssize_t _PyUnicode_get_wstr_length(PyObject *op) {\n",
      "        |                          ^~~~~~~~~~~~~~~~~~~~~~~~~~\n",
      "  glove/glove_cython.c:15603:25: warning: ‘PyUnicode_AsUnicode’ is deprecated [-Wdeprecated-declarations]\n",
      "  15603 |                         (PyUnicode_GET_SIZE(**argname) != PyUnicode_GET_SIZE(key)) ? 1 :\n",
      "        |                         ^\n",
      "  In file included from /usr/include/python3.9/unicodeobject.h:1026,\n",
      "                   from /usr/include/python3.9/Python.h:93,\n",
      "                   from glove/glove_cython.c:20:\n",
      "  /usr/include/python3.9/cpython/unicodeobject.h:580:45: note: declared here\n",
      "    580 | Py_DEPRECATED(3.3) PyAPI_FUNC(Py_UNICODE *) PyUnicode_AsUnicode(\n",
      "        |                                             ^~~~~~~~~~~~~~~~~~~\n",
      "  glove/glove_cython.c:15603:25: warning: ‘_PyUnicode_get_wstr_length’ is deprecated [-Wdeprecated-declarations]\n",
      "  15603 |                         (PyUnicode_GET_SIZE(**argname) != PyUnicode_GET_SIZE(key)) ? 1 :\n",
      "        |                         ^\n",
      "  In file included from /usr/include/python3.9/unicodeobject.h:1026,\n",
      "                   from /usr/include/python3.9/Python.h:93,\n",
      "                   from glove/glove_cython.c:20:\n",
      "  /usr/include/python3.9/cpython/unicodeobject.h:446:26: note: declared here\n",
      "    446 | static inline Py_ssize_t _PyUnicode_get_wstr_length(PyObject *op) {\n",
      "        |                          ^~~~~~~~~~~~~~~~~~~~~~~~~~\n",
      "  glove/glove_cython.c:15603:25: warning: ‘_PyUnicode_get_wstr_length’ is deprecated [-Wdeprecated-declarations]\n",
      "  15603 |                         (PyUnicode_GET_SIZE(**argname) != PyUnicode_GET_SIZE(key)) ? 1 :\n",
      "        |                         ^\n",
      "  In file included from /usr/include/python3.9/unicodeobject.h:1026,\n",
      "                   from /usr/include/python3.9/Python.h:93,\n",
      "                   from glove/glove_cython.c:20:\n",
      "  /usr/include/python3.9/cpython/unicodeobject.h:446:26: note: declared here\n",
      "    446 | static inline Py_ssize_t _PyUnicode_get_wstr_length(PyObject *op) {\n",
      "        |                          ^~~~~~~~~~~~~~~~~~~~~~~~~~\n",
      "  glove/glove_cython.c:15603:25: warning: ‘PyUnicode_AsUnicode’ is deprecated [-Wdeprecated-declarations]\n",
      "  15603 |                         (PyUnicode_GET_SIZE(**argname) != PyUnicode_GET_SIZE(key)) ? 1 :\n",
      "        |                         ^\n",
      "  In file included from /usr/include/python3.9/unicodeobject.h:1026,\n",
      "                   from /usr/include/python3.9/Python.h:93,\n",
      "                   from glove/glove_cython.c:20:\n",
      "  /usr/include/python3.9/cpython/unicodeobject.h:580:45: note: declared here\n",
      "    580 | Py_DEPRECATED(3.3) PyAPI_FUNC(Py_UNICODE *) PyUnicode_AsUnicode(\n",
      "        |                                             ^~~~~~~~~~~~~~~~~~~\n",
      "  glove/glove_cython.c:15603:25: warning: ‘_PyUnicode_get_wstr_length’ is deprecated [-Wdeprecated-declarations]\n",
      "  15603 |                         (PyUnicode_GET_SIZE(**argname) != PyUnicode_GET_SIZE(key)) ? 1 :\n",
      "        |                         ^\n",
      "  In file included from /usr/include/python3.9/unicodeobject.h:1026,\n",
      "                   from /usr/include/python3.9/Python.h:93,\n",
      "                   from glove/glove_cython.c:20:\n",
      "  /usr/include/python3.9/cpython/unicodeobject.h:446:26: note: declared here\n",
      "    446 | static inline Py_ssize_t _PyUnicode_get_wstr_length(PyObject *op) {\n",
      "        |                          ^~~~~~~~~~~~~~~~~~~~~~~~~~\n",
      "  glove/glove_cython.c: In function ‘__Pyx_decode_c_string’:\n",
      "  glove/glove_cython.c:16714:9: warning: ‘PyUnicode_FromUnicode’ is deprecated [-Wdeprecated-declarations]\n",
      "  16714 |         return PyUnicode_FromUnicode(NULL, 0);\n",
      "        |         ^~~~~~\n",
      "  In file included from /usr/include/python3.9/unicodeobject.h:1026,\n",
      "                   from /usr/include/python3.9/Python.h:93,\n",
      "                   from glove/glove_cython.c:20:\n",
      "  /usr/include/python3.9/cpython/unicodeobject.h:551:42: note: declared here\n",
      "    551 | Py_DEPRECATED(3.3) PyAPI_FUNC(PyObject*) PyUnicode_FromUnicode(\n",
      "        |                                          ^~~~~~~~~~~~~~~~~~~~~\n",
      "  glove/glove_cython.c: In function ‘__Pyx_ExceptionSave’:\n",
      "  glove/glove_cython.c:16753:21: error: ‘PyThreadState’ {aka ‘struct _ts’} has no member named ‘exc_type’; did you mean ‘curexc_type’?\n",
      "  16753 |     *type = tstate->exc_type;\n",
      "        |                     ^~~~~~~~\n",
      "        |                     curexc_type\n",
      "  glove/glove_cython.c:16754:22: error: ‘PyThreadState’ {aka ‘struct _ts’} has no member named ‘exc_value’; did you mean ‘curexc_value’?\n",
      "  16754 |     *value = tstate->exc_value;\n",
      "        |                      ^~~~~~~~~\n",
      "        |                      curexc_value\n",
      "  glove/glove_cython.c:16755:19: error: ‘PyThreadState’ {aka ‘struct _ts’} has no member named ‘exc_traceback’; did you mean ‘curexc_traceback’?\n",
      "  16755 |     *tb = tstate->exc_traceback;\n",
      "        |                   ^~~~~~~~~~~~~\n",
      "        |                   curexc_traceback\n",
      "  glove/glove_cython.c: In function ‘__Pyx_ExceptionReset’:\n",
      "  glove/glove_cython.c:16767:24: error: ‘PyThreadState’ {aka ‘struct _ts’} has no member named ‘exc_type’; did you mean ‘curexc_type’?\n",
      "  16767 |     tmp_type = tstate->exc_type;\n",
      "        |                        ^~~~~~~~\n",
      "        |                        curexc_type\n",
      "  glove/glove_cython.c:16768:25: error: ‘PyThreadState’ {aka ‘struct _ts’} has no member named ‘exc_value’; did you mean ‘curexc_value’?\n",
      "  16768 |     tmp_value = tstate->exc_value;\n",
      "        |                         ^~~~~~~~~\n",
      "        |                         curexc_value\n",
      "  glove/glove_cython.c:16769:22: error: ‘PyThreadState’ {aka ‘struct _ts’} has no member named ‘exc_traceback’; did you mean ‘curexc_traceback’?\n",
      "  16769 |     tmp_tb = tstate->exc_traceback;\n",
      "        |                      ^~~~~~~~~~~~~\n",
      "        |                      curexc_traceback\n",
      "  glove/glove_cython.c:16770:13: error: ‘PyThreadState’ {aka ‘struct _ts’} has no member named ‘exc_type’; did you mean ‘curexc_type’?\n",
      "  16770 |     tstate->exc_type = type;\n",
      "        |             ^~~~~~~~\n",
      "        |             curexc_type\n",
      "  glove/glove_cython.c:16771:13: error: ‘PyThreadState’ {aka ‘struct _ts’} has no member named ‘exc_value’; did you mean ‘curexc_value’?\n",
      "  16771 |     tstate->exc_value = value;\n",
      "        |             ^~~~~~~~~\n",
      "        |             curexc_value\n",
      "  glove/glove_cython.c:16772:13: error: ‘PyThreadState’ {aka ‘struct _ts’} has no member named ‘exc_traceback’; did you mean ‘curexc_traceback’?\n",
      "  16772 |     tstate->exc_traceback = tb;\n",
      "        |             ^~~~~~~~~~~~~\n",
      "        |             curexc_traceback\n",
      "  glove/glove_cython.c: In function ‘__Pyx_GetException’:\n",
      "  glove/glove_cython.c:16815:24: error: ‘PyThreadState’ {aka ‘struct _ts’} has no member named ‘exc_type’; did you mean ‘curexc_type’?\n",
      "  16815 |     tmp_type = tstate->exc_type;\n",
      "        |                        ^~~~~~~~\n",
      "        |                        curexc_type\n",
      "  glove/glove_cython.c:16816:25: error: ‘PyThreadState’ {aka ‘struct _ts’} has no member named ‘exc_value’; did you mean ‘curexc_value’?\n",
      "  16816 |     tmp_value = tstate->exc_value;\n",
      "        |                         ^~~~~~~~~\n",
      "        |                         curexc_value\n",
      "  glove/glove_cython.c:16817:22: error: ‘PyThreadState’ {aka ‘struct _ts’} has no member named ‘exc_traceback’; did you mean ‘curexc_traceback’?\n",
      "  16817 |     tmp_tb = tstate->exc_traceback;\n",
      "        |                      ^~~~~~~~~~~~~\n",
      "        |                      curexc_traceback\n",
      "  glove/glove_cython.c:16818:13: error: ‘PyThreadState’ {aka ‘struct _ts’} has no member named ‘exc_type’; did you mean ‘curexc_type’?\n",
      "  16818 |     tstate->exc_type = local_type;\n",
      "        |             ^~~~~~~~\n",
      "        |             curexc_type\n",
      "  glove/glove_cython.c:16819:13: error: ‘PyThreadState’ {aka ‘struct _ts’} has no member named ‘exc_value’; did you mean ‘curexc_value’?\n",
      "  16819 |     tstate->exc_value = local_value;\n",
      "        |             ^~~~~~~~~\n",
      "        |             curexc_value\n",
      "  glove/glove_cython.c:16820:13: error: ‘PyThreadState’ {aka ‘struct _ts’} has no member named ‘exc_traceback’; did you mean ‘curexc_traceback’?\n",
      "  16820 |     tstate->exc_traceback = local_tb;\n",
      "        |             ^~~~~~~~~~~~~\n",
      "        |             curexc_traceback\n",
      "  glove/glove_cython.c: In function ‘__Pyx_ExceptionSwap’:\n",
      "  glove/glove_cython.c:16842:24: error: ‘PyThreadState’ {aka ‘struct _ts’} has no member named ‘exc_type’; did you mean ‘curexc_type’?\n",
      "  16842 |     tmp_type = tstate->exc_type;\n",
      "        |                        ^~~~~~~~\n",
      "        |                        curexc_type\n",
      "  glove/glove_cython.c:16843:25: error: ‘PyThreadState’ {aka ‘struct _ts’} has no member named ‘exc_value’; did you mean ‘curexc_value’?\n",
      "  16843 |     tmp_value = tstate->exc_value;\n",
      "        |                         ^~~~~~~~~\n",
      "        |                         curexc_value\n",
      "  glove/glove_cython.c:16844:22: error: ‘PyThreadState’ {aka ‘struct _ts’} has no member named ‘exc_traceback’; did you mean ‘curexc_traceback’?\n",
      "  16844 |     tmp_tb = tstate->exc_traceback;\n",
      "        |                      ^~~~~~~~~~~~~\n",
      "        |                      curexc_traceback\n",
      "  glove/glove_cython.c:16845:13: error: ‘PyThreadState’ {aka ‘struct _ts’} has no member named ‘exc_type’; did you mean ‘curexc_type’?\n",
      "  16845 |     tstate->exc_type = *type;\n",
      "        |             ^~~~~~~~\n",
      "        |             curexc_type\n",
      "  glove/glove_cython.c:16846:13: error: ‘PyThreadState’ {aka ‘struct _ts’} has no member named ‘exc_value’; did you mean ‘curexc_value’?\n",
      "  16846 |     tstate->exc_value = *value;\n",
      "        |             ^~~~~~~~~\n",
      "        |             curexc_value\n",
      "  glove/glove_cython.c:16847:13: error: ‘PyThreadState’ {aka ‘struct _ts’} has no member named ‘exc_traceback’; did you mean ‘curexc_traceback’?\n",
      "  16847 |     tstate->exc_traceback = *tb;\n",
      "        |             ^~~~~~~~~~~~~\n",
      "        |             curexc_traceback\n",
      "  error: command '/usr/bin/x86_64-unknown-linux-gnu-gcc' failed with exit code 1\n",
      "  ----------------------------------------\u001b[0m\n",
      "\u001b[31m  ERROR: Failed building wheel for glove-python\u001b[0m\n",
      "\u001b[?25h  Running setup.py clean for glove-python\n",
      "\u001b[31m  ERROR: Command errored out with exit status 1:\n",
      "   command: /home/dhanyaharish/Documents/GitHub/deep-learning/pytorch/DL/bin/python -u -c 'import io, os, sys, setuptools, tokenize; sys.argv[0] = '\"'\"'/tmp/pip-install-s96xt634/glove-python_44e580ab6cf8491a9a17a8226f53f9ba/setup.py'\"'\"'; __file__='\"'\"'/tmp/pip-install-s96xt634/glove-python_44e580ab6cf8491a9a17a8226f53f9ba/setup.py'\"'\"';f = getattr(tokenize, '\"'\"'open'\"'\"', open)(__file__) if os.path.exists(__file__) else io.StringIO('\"'\"'from setuptools import setup; setup()'\"'\"');code = f.read().replace('\"'\"'\\r\\n'\"'\"', '\"'\"'\\n'\"'\"');f.close();exec(compile(code, __file__, '\"'\"'exec'\"'\"'))' clean --all\n",
      "       cwd: /tmp/pip-install-s96xt634/glove-python_44e580ab6cf8491a9a17a8226f53f9ba\n",
      "  Complete output (8 lines):\n",
      "  /home/dhanyaharish/Documents/GitHub/deep-learning/pytorch/DL/lib/python3.9/site-packages/setuptools/dist.py:717: UserWarning: Usage of dash-separated 'description-file' will not be supported in future versions. Please use the underscore name 'description_file' instead\n",
      "    warnings.warn(\n",
      "  usage: setup.py [global_opts] cmd1 [cmd1_opts] [cmd2 [cmd2_opts] ...]\n",
      "     or: setup.py --help [cmd1 cmd2 ...]\n",
      "     or: setup.py --help-commands\n",
      "     or: setup.py cmd --help\n",
      "  \n",
      "  error: option --all not recognized\n",
      "  ----------------------------------------\u001b[0m\n",
      "\u001b[31m  ERROR: Failed cleaning build dir for glove-python\u001b[0m\n",
      "Failed to build glove-python\n",
      "Installing collected packages: glove-python\n",
      "    Running setup.py install for glove-python ... \u001b[?25lerror\n",
      "\u001b[31m    ERROR: Command errored out with exit status 1:\n",
      "     command: /home/dhanyaharish/Documents/GitHub/deep-learning/pytorch/DL/bin/python -u -c 'import io, os, sys, setuptools, tokenize; sys.argv[0] = '\"'\"'/tmp/pip-install-s96xt634/glove-python_44e580ab6cf8491a9a17a8226f53f9ba/setup.py'\"'\"'; __file__='\"'\"'/tmp/pip-install-s96xt634/glove-python_44e580ab6cf8491a9a17a8226f53f9ba/setup.py'\"'\"';f = getattr(tokenize, '\"'\"'open'\"'\"', open)(__file__) if os.path.exists(__file__) else io.StringIO('\"'\"'from setuptools import setup; setup()'\"'\"');code = f.read().replace('\"'\"'\\r\\n'\"'\"', '\"'\"'\\n'\"'\"');f.close();exec(compile(code, __file__, '\"'\"'exec'\"'\"'))' install --record /tmp/pip-record-v8rppufp/install-record.txt --single-version-externally-managed --compile --install-headers /home/dhanyaharish/Documents/GitHub/deep-learning/pytorch/DL/include/site/python3.9/glove-python\n",
      "         cwd: /tmp/pip-install-s96xt634/glove-python_44e580ab6cf8491a9a17a8226f53f9ba/\n",
      "    Complete output (240 lines):\n",
      "    /home/dhanyaharish/Documents/GitHub/deep-learning/pytorch/DL/lib/python3.9/site-packages/setuptools/dist.py:717: UserWarning: Usage of dash-separated 'description-file' will not be supported in future versions. Please use the underscore name 'description_file' instead\n",
      "      warnings.warn(\n",
      "    running install\n",
      "    /home/dhanyaharish/Documents/GitHub/deep-learning/pytorch/DL/lib/python3.9/site-packages/setuptools/command/install.py:34: SetuptoolsDeprecationWarning: setup.py install is deprecated. Use build and pip and other standards-based tools.\n",
      "      warnings.warn(\n",
      "    running build\n",
      "    running build_py\n",
      "    running build_ext\n",
      "    building 'glove.glove_cython' extension\n",
      "    x86_64-unknown-linux-gnu-gcc -pthread -Wno-unused-result -Wsign-compare -DNDEBUG -g -fwrapv -O3 -Wall -O2 -g -pipe -Wp,-D_FORTIFY_SOURCE=2 -Wp,-D_GLIBCXX_ASSERTIONS -fexceptions -fstack-protector-strong -grecord-gcc-switches -fasynchronous-unwind-tables -fstack-clash-protection -fcf-protection -fno-omit-frame-pointer -O2 -g -pipe -Wp,-D_FORTIFY_SOURCE=2 -Wp,-D_GLIBCXX_ASSERTIONS -fexceptions -fstack-protector-strong -grecord-gcc-switches -fasynchronous-unwind-tables -fstack-clash-protection -fcf-protection -fno-omit-frame-pointer -fPIC -I/home/dhanyaharish/Documents/GitHub/deep-learning/pytorch/DL/include -I/usr/include/python3.9 -c glove/glove_cython.c -o build/temp.linux-x86_64-3.9/glove/glove_cython.o -fopenmp -ffast-math -march=native\n",
      "    glove/glove_cython.c: In function ‘__Pyx_InitGlobals’:\n",
      "    glove/glove_cython.c:15114:1: warning: ‘PyEval_InitThreads’ is deprecated [-Wdeprecated-declarations]\n",
      "    15114 | PyEval_InitThreads();\n",
      "          | ^~~~~~~~~~~~~~~~~~\n",
      "    In file included from /usr/include/python3.9/Python.h:141,\n",
      "                     from glove/glove_cython.c:20:\n",
      "    /usr/include/python3.9/ceval.h:130:37: note: declared here\n",
      "      130 | Py_DEPRECATED(3.9) PyAPI_FUNC(void) PyEval_InitThreads(void);\n",
      "          |                                     ^~~~~~~~~~~~~~~~~~\n",
      "    glove/glove_cython.c: In function ‘PyInit_glove_cython’:\n",
      "    glove/glove_cython.c:15221:25: error: ‘PyTypeObject’ {aka ‘struct _typeobject’} has no member named ‘tp_print’\n",
      "    15221 |   __pyx_type___pyx_array.tp_print = 0;\n",
      "          |                         ^\n",
      "    glove/glove_cython.c:15224:31: error: ‘PyTypeObject’ {aka ‘struct _typeobject’} has no member named ‘tp_print’\n",
      "    15224 |   __pyx_type___pyx_MemviewEnum.tp_print = 0;\n",
      "          |                               ^\n",
      "    glove/glove_cython.c:15235:30: error: ‘PyTypeObject’ {aka ‘struct _typeobject’} has no member named ‘tp_print’\n",
      "    15235 |   __pyx_type___pyx_memoryview.tp_print = 0;\n",
      "          |                              ^\n",
      "    glove/glove_cython.c:15244:35: error: ‘PyTypeObject’ {aka ‘struct _typeobject’} has no member named ‘tp_print’\n",
      "    15244 |   __pyx_type___pyx_memoryviewslice.tp_print = 0;\n",
      "          |                                   ^\n",
      "    glove/glove_cython.c: In function ‘__Pyx_ParseOptionalKeywords’:\n",
      "    glove/glove_cython.c:15587:21: warning: ‘_PyUnicode_get_wstr_length’ is deprecated [-Wdeprecated-declarations]\n",
      "    15587 |                     (PyUnicode_GET_SIZE(**name) != PyUnicode_GET_SIZE(key)) ? 1 :\n",
      "          |                     ^\n",
      "    In file included from /usr/include/python3.9/unicodeobject.h:1026,\n",
      "                     from /usr/include/python3.9/Python.h:93,\n",
      "                     from glove/glove_cython.c:20:\n",
      "    /usr/include/python3.9/cpython/unicodeobject.h:446:26: note: declared here\n",
      "      446 | static inline Py_ssize_t _PyUnicode_get_wstr_length(PyObject *op) {\n",
      "          |                          ^~~~~~~~~~~~~~~~~~~~~~~~~~\n",
      "    glove/glove_cython.c:15587:21: warning: ‘PyUnicode_AsUnicode’ is deprecated [-Wdeprecated-declarations]\n",
      "    15587 |                     (PyUnicode_GET_SIZE(**name) != PyUnicode_GET_SIZE(key)) ? 1 :\n",
      "          |                     ^\n",
      "    In file included from /usr/include/python3.9/unicodeobject.h:1026,\n",
      "                     from /usr/include/python3.9/Python.h:93,\n",
      "                     from glove/glove_cython.c:20:\n",
      "    /usr/include/python3.9/cpython/unicodeobject.h:580:45: note: declared here\n",
      "      580 | Py_DEPRECATED(3.3) PyAPI_FUNC(Py_UNICODE *) PyUnicode_AsUnicode(\n",
      "          |                                             ^~~~~~~~~~~~~~~~~~~\n",
      "    glove/glove_cython.c:15587:21: warning: ‘_PyUnicode_get_wstr_length’ is deprecated [-Wdeprecated-declarations]\n",
      "    15587 |                     (PyUnicode_GET_SIZE(**name) != PyUnicode_GET_SIZE(key)) ? 1 :\n",
      "          |                     ^\n",
      "    In file included from /usr/include/python3.9/unicodeobject.h:1026,\n",
      "                     from /usr/include/python3.9/Python.h:93,\n",
      "                     from glove/glove_cython.c:20:\n",
      "    /usr/include/python3.9/cpython/unicodeobject.h:446:26: note: declared here\n",
      "      446 | static inline Py_ssize_t _PyUnicode_get_wstr_length(PyObject *op) {\n",
      "          |                          ^~~~~~~~~~~~~~~~~~~~~~~~~~\n",
      "    glove/glove_cython.c:15587:21: warning: ‘_PyUnicode_get_wstr_length’ is deprecated [-Wdeprecated-declarations]\n",
      "    15587 |                     (PyUnicode_GET_SIZE(**name) != PyUnicode_GET_SIZE(key)) ? 1 :\n",
      "          |                     ^\n",
      "    In file included from /usr/include/python3.9/unicodeobject.h:1026,\n",
      "                     from /usr/include/python3.9/Python.h:93,\n",
      "                     from glove/glove_cython.c:20:\n",
      "    /usr/include/python3.9/cpython/unicodeobject.h:446:26: note: declared here\n",
      "      446 | static inline Py_ssize_t _PyUnicode_get_wstr_length(PyObject *op) {\n",
      "          |                          ^~~~~~~~~~~~~~~~~~~~~~~~~~\n",
      "    glove/glove_cython.c:15587:21: warning: ‘PyUnicode_AsUnicode’ is deprecated [-Wdeprecated-declarations]\n",
      "    15587 |                     (PyUnicode_GET_SIZE(**name) != PyUnicode_GET_SIZE(key)) ? 1 :\n",
      "          |                     ^\n",
      "    In file included from /usr/include/python3.9/unicodeobject.h:1026,\n",
      "                     from /usr/include/python3.9/Python.h:93,\n",
      "                     from glove/glove_cython.c:20:\n",
      "    /usr/include/python3.9/cpython/unicodeobject.h:580:45: note: declared here\n",
      "      580 | Py_DEPRECATED(3.3) PyAPI_FUNC(Py_UNICODE *) PyUnicode_AsUnicode(\n",
      "          |                                             ^~~~~~~~~~~~~~~~~~~\n",
      "    glove/glove_cython.c:15587:21: warning: ‘_PyUnicode_get_wstr_length’ is deprecated [-Wdeprecated-declarations]\n",
      "    15587 |                     (PyUnicode_GET_SIZE(**name) != PyUnicode_GET_SIZE(key)) ? 1 :\n",
      "          |                     ^\n",
      "    In file included from /usr/include/python3.9/unicodeobject.h:1026,\n",
      "                     from /usr/include/python3.9/Python.h:93,\n",
      "                     from glove/glove_cython.c:20:\n",
      "    /usr/include/python3.9/cpython/unicodeobject.h:446:26: note: declared here\n",
      "      446 | static inline Py_ssize_t _PyUnicode_get_wstr_length(PyObject *op) {\n",
      "          |                          ^~~~~~~~~~~~~~~~~~~~~~~~~~\n",
      "    glove/glove_cython.c:15603:25: warning: ‘_PyUnicode_get_wstr_length’ is deprecated [-Wdeprecated-declarations]\n",
      "    15603 |                         (PyUnicode_GET_SIZE(**argname) != PyUnicode_GET_SIZE(key)) ? 1 :\n",
      "          |                         ^\n",
      "    In file included from /usr/include/python3.9/unicodeobject.h:1026,\n",
      "                     from /usr/include/python3.9/Python.h:93,\n",
      "                     from glove/glove_cython.c:20:\n",
      "    /usr/include/python3.9/cpython/unicodeobject.h:446:26: note: declared here\n",
      "      446 | static inline Py_ssize_t _PyUnicode_get_wstr_length(PyObject *op) {\n",
      "          |                          ^~~~~~~~~~~~~~~~~~~~~~~~~~\n",
      "    glove/glove_cython.c:15603:25: warning: ‘PyUnicode_AsUnicode’ is deprecated [-Wdeprecated-declarations]\n",
      "    15603 |                         (PyUnicode_GET_SIZE(**argname) != PyUnicode_GET_SIZE(key)) ? 1 :\n",
      "          |                         ^\n",
      "    In file included from /usr/include/python3.9/unicodeobject.h:1026,\n",
      "                     from /usr/include/python3.9/Python.h:93,\n",
      "                     from glove/glove_cython.c:20:\n",
      "    /usr/include/python3.9/cpython/unicodeobject.h:580:45: note: declared here\n",
      "      580 | Py_DEPRECATED(3.3) PyAPI_FUNC(Py_UNICODE *) PyUnicode_AsUnicode(\n",
      "          |                                             ^~~~~~~~~~~~~~~~~~~\n",
      "    glove/glove_cython.c:15603:25: warning: ‘_PyUnicode_get_wstr_length’ is deprecated [-Wdeprecated-declarations]\n",
      "    15603 |                         (PyUnicode_GET_SIZE(**argname) != PyUnicode_GET_SIZE(key)) ? 1 :\n",
      "          |                         ^\n",
      "    In file included from /usr/include/python3.9/unicodeobject.h:1026,\n",
      "                     from /usr/include/python3.9/Python.h:93,\n",
      "                     from glove/glove_cython.c:20:\n",
      "    /usr/include/python3.9/cpython/unicodeobject.h:446:26: note: declared here\n",
      "      446 | static inline Py_ssize_t _PyUnicode_get_wstr_length(PyObject *op) {\n",
      "          |                          ^~~~~~~~~~~~~~~~~~~~~~~~~~\n",
      "    glove/glove_cython.c:15603:25: warning: ‘_PyUnicode_get_wstr_length’ is deprecated [-Wdeprecated-declarations]\n",
      "    15603 |                         (PyUnicode_GET_SIZE(**argname) != PyUnicode_GET_SIZE(key)) ? 1 :\n",
      "          |                         ^\n",
      "    In file included from /usr/include/python3.9/unicodeobject.h:1026,\n",
      "                     from /usr/include/python3.9/Python.h:93,\n",
      "                     from glove/glove_cython.c:20:\n",
      "    /usr/include/python3.9/cpython/unicodeobject.h:446:26: note: declared here\n",
      "      446 | static inline Py_ssize_t _PyUnicode_get_wstr_length(PyObject *op) {\n",
      "          |                          ^~~~~~~~~~~~~~~~~~~~~~~~~~\n",
      "    glove/glove_cython.c:15603:25: warning: ‘PyUnicode_AsUnicode’ is deprecated [-Wdeprecated-declarations]\n",
      "    15603 |                         (PyUnicode_GET_SIZE(**argname) != PyUnicode_GET_SIZE(key)) ? 1 :\n",
      "          |                         ^\n",
      "    In file included from /usr/include/python3.9/unicodeobject.h:1026,\n",
      "                     from /usr/include/python3.9/Python.h:93,\n",
      "                     from glove/glove_cython.c:20:\n",
      "    /usr/include/python3.9/cpython/unicodeobject.h:580:45: note: declared here\n",
      "      580 | Py_DEPRECATED(3.3) PyAPI_FUNC(Py_UNICODE *) PyUnicode_AsUnicode(\n",
      "          |                                             ^~~~~~~~~~~~~~~~~~~\n",
      "    glove/glove_cython.c:15603:25: warning: ‘_PyUnicode_get_wstr_length’ is deprecated [-Wdeprecated-declarations]\n",
      "    15603 |                         (PyUnicode_GET_SIZE(**argname) != PyUnicode_GET_SIZE(key)) ? 1 :\n",
      "          |                         ^\n",
      "    In file included from /usr/include/python3.9/unicodeobject.h:1026,\n",
      "                     from /usr/include/python3.9/Python.h:93,\n",
      "                     from glove/glove_cython.c:20:\n",
      "    /usr/include/python3.9/cpython/unicodeobject.h:446:26: note: declared here\n",
      "      446 | static inline Py_ssize_t _PyUnicode_get_wstr_length(PyObject *op) {\n",
      "          |                          ^~~~~~~~~~~~~~~~~~~~~~~~~~\n",
      "    glove/glove_cython.c: In function ‘__Pyx_decode_c_string’:\n",
      "    glove/glove_cython.c:16714:9: warning: ‘PyUnicode_FromUnicode’ is deprecated [-Wdeprecated-declarations]\n",
      "    16714 |         return PyUnicode_FromUnicode(NULL, 0);\n",
      "          |         ^~~~~~\n",
      "    In file included from /usr/include/python3.9/unicodeobject.h:1026,\n",
      "                     from /usr/include/python3.9/Python.h:93,\n",
      "                     from glove/glove_cython.c:20:\n",
      "    /usr/include/python3.9/cpython/unicodeobject.h:551:42: note: declared here\n",
      "      551 | Py_DEPRECATED(3.3) PyAPI_FUNC(PyObject*) PyUnicode_FromUnicode(\n",
      "          |                                          ^~~~~~~~~~~~~~~~~~~~~\n",
      "    glove/glove_cython.c: In function ‘__Pyx_ExceptionSave’:\n",
      "    glove/glove_cython.c:16753:21: error: ‘PyThreadState’ {aka ‘struct _ts’} has no member named ‘exc_type’; did you mean ‘curexc_type’?\n",
      "    16753 |     *type = tstate->exc_type;\n",
      "          |                     ^~~~~~~~\n",
      "          |                     curexc_type\n",
      "    glove/glove_cython.c:16754:22: error: ‘PyThreadState’ {aka ‘struct _ts’} has no member named ‘exc_value’; did you mean ‘curexc_value’?\n",
      "    16754 |     *value = tstate->exc_value;\n",
      "          |                      ^~~~~~~~~\n",
      "          |                      curexc_value\n",
      "    glove/glove_cython.c:16755:19: error: ‘PyThreadState’ {aka ‘struct _ts’} has no member named ‘exc_traceback’; did you mean ‘curexc_traceback’?\n",
      "    16755 |     *tb = tstate->exc_traceback;\n",
      "          |                   ^~~~~~~~~~~~~\n",
      "          |                   curexc_traceback\n",
      "    glove/glove_cython.c: In function ‘__Pyx_ExceptionReset’:\n",
      "    glove/glove_cython.c:16767:24: error: ‘PyThreadState’ {aka ‘struct _ts’} has no member named ‘exc_type’; did you mean ‘curexc_type’?\n",
      "    16767 |     tmp_type = tstate->exc_type;\n",
      "          |                        ^~~~~~~~\n",
      "          |                        curexc_type\n",
      "    glove/glove_cython.c:16768:25: error: ‘PyThreadState’ {aka ‘struct _ts’} has no member named ‘exc_value’; did you mean ‘curexc_value’?\n",
      "    16768 |     tmp_value = tstate->exc_value;\n",
      "          |                         ^~~~~~~~~\n",
      "          |                         curexc_value\n",
      "    glove/glove_cython.c:16769:22: error: ‘PyThreadState’ {aka ‘struct _ts’} has no member named ‘exc_traceback’; did you mean ‘curexc_traceback’?\n",
      "    16769 |     tmp_tb = tstate->exc_traceback;\n",
      "          |                      ^~~~~~~~~~~~~\n",
      "          |                      curexc_traceback\n",
      "    glove/glove_cython.c:16770:13: error: ‘PyThreadState’ {aka ‘struct _ts’} has no member named ‘exc_type’; did you mean ‘curexc_type’?\n",
      "    16770 |     tstate->exc_type = type;\n",
      "          |             ^~~~~~~~\n",
      "          |             curexc_type\n",
      "    glove/glove_cython.c:16771:13: error: ‘PyThreadState’ {aka ‘struct _ts’} has no member named ‘exc_value’; did you mean ‘curexc_value’?\n",
      "    16771 |     tstate->exc_value = value;\n",
      "          |             ^~~~~~~~~\n",
      "          |             curexc_value\n",
      "    glove/glove_cython.c:16772:13: error: ‘PyThreadState’ {aka ‘struct _ts’} has no member named ‘exc_traceback’; did you mean ‘curexc_traceback’?\n",
      "    16772 |     tstate->exc_traceback = tb;\n",
      "          |             ^~~~~~~~~~~~~\n",
      "          |             curexc_traceback\n",
      "    glove/glove_cython.c: In function ‘__Pyx_GetException’:\n",
      "    glove/glove_cython.c:16815:24: error: ‘PyThreadState’ {aka ‘struct _ts’} has no member named ‘exc_type’; did you mean ‘curexc_type’?\n",
      "    16815 |     tmp_type = tstate->exc_type;\n",
      "          |                        ^~~~~~~~\n",
      "          |                        curexc_type\n",
      "    glove/glove_cython.c:16816:25: error: ‘PyThreadState’ {aka ‘struct _ts’} has no member named ‘exc_value’; did you mean ‘curexc_value’?\n",
      "    16816 |     tmp_value = tstate->exc_value;\n",
      "          |                         ^~~~~~~~~\n",
      "          |                         curexc_value\n",
      "    glove/glove_cython.c:16817:22: error: ‘PyThreadState’ {aka ‘struct _ts’} has no member named ‘exc_traceback’; did you mean ‘curexc_traceback’?\n",
      "    16817 |     tmp_tb = tstate->exc_traceback;\n",
      "          |                      ^~~~~~~~~~~~~\n",
      "          |                      curexc_traceback\n",
      "    glove/glove_cython.c:16818:13: error: ‘PyThreadState’ {aka ‘struct _ts’} has no member named ‘exc_type’; did you mean ‘curexc_type’?\n",
      "    16818 |     tstate->exc_type = local_type;\n",
      "          |             ^~~~~~~~\n",
      "          |             curexc_type\n",
      "    glove/glove_cython.c:16819:13: error: ‘PyThreadState’ {aka ‘struct _ts’} has no member named ‘exc_value’; did you mean ‘curexc_value’?\n",
      "    16819 |     tstate->exc_value = local_value;\n",
      "          |             ^~~~~~~~~\n",
      "          |             curexc_value\n",
      "    glove/glove_cython.c:16820:13: error: ‘PyThreadState’ {aka ‘struct _ts’} has no member named ‘exc_traceback’; did you mean ‘curexc_traceback’?\n",
      "    16820 |     tstate->exc_traceback = local_tb;\n",
      "          |             ^~~~~~~~~~~~~\n",
      "          |             curexc_traceback\n",
      "    glove/glove_cython.c: In function ‘__Pyx_ExceptionSwap’:\n",
      "    glove/glove_cython.c:16842:24: error: ‘PyThreadState’ {aka ‘struct _ts’} has no member named ‘exc_type’; did you mean ‘curexc_type’?\n",
      "    16842 |     tmp_type = tstate->exc_type;\n",
      "          |                        ^~~~~~~~\n",
      "          |                        curexc_type\n",
      "    glove/glove_cython.c:16843:25: error: ‘PyThreadState’ {aka ‘struct _ts’} has no member named ‘exc_value’; did you mean ‘curexc_value’?\n",
      "    16843 |     tmp_value = tstate->exc_value;\n",
      "          |                         ^~~~~~~~~\n",
      "          |                         curexc_value\n",
      "    glove/glove_cython.c:16844:22: error: ‘PyThreadState’ {aka ‘struct _ts’} has no member named ‘exc_traceback’; did you mean ‘curexc_traceback’?\n",
      "    16844 |     tmp_tb = tstate->exc_traceback;\n",
      "          |                      ^~~~~~~~~~~~~\n",
      "          |                      curexc_traceback\n",
      "    glove/glove_cython.c:16845:13: error: ‘PyThreadState’ {aka ‘struct _ts’} has no member named ‘exc_type’; did you mean ‘curexc_type’?\n",
      "    16845 |     tstate->exc_type = *type;\n",
      "          |             ^~~~~~~~\n",
      "          |             curexc_type\n",
      "    glove/glove_cython.c:16846:13: error: ‘PyThreadState’ {aka ‘struct _ts’} has no member named ‘exc_value’; did you mean ‘curexc_value’?\n",
      "    16846 |     tstate->exc_value = *value;\n",
      "          |             ^~~~~~~~~\n",
      "          |             curexc_value\n",
      "    glove/glove_cython.c:16847:13: error: ‘PyThreadState’ {aka ‘struct _ts’} has no member named ‘exc_traceback’; did you mean ‘curexc_traceback’?\n",
      "    16847 |     tstate->exc_traceback = *tb;\n",
      "          |             ^~~~~~~~~~~~~\n",
      "          |             curexc_traceback\n",
      "    error: command '/usr/bin/x86_64-unknown-linux-gnu-gcc' failed with exit code 1\n",
      "    ----------------------------------------\u001b[0m\n",
      "\u001b[?25h\u001b[31mERROR: Command errored out with exit status 1: /home/dhanyaharish/Documents/GitHub/deep-learning/pytorch/DL/bin/python -u -c 'import io, os, sys, setuptools, tokenize; sys.argv[0] = '\"'\"'/tmp/pip-install-s96xt634/glove-python_44e580ab6cf8491a9a17a8226f53f9ba/setup.py'\"'\"'; __file__='\"'\"'/tmp/pip-install-s96xt634/glove-python_44e580ab6cf8491a9a17a8226f53f9ba/setup.py'\"'\"';f = getattr(tokenize, '\"'\"'open'\"'\"', open)(__file__) if os.path.exists(__file__) else io.StringIO('\"'\"'from setuptools import setup; setup()'\"'\"');code = f.read().replace('\"'\"'\\r\\n'\"'\"', '\"'\"'\\n'\"'\"');f.close();exec(compile(code, __file__, '\"'\"'exec'\"'\"'))' install --record /tmp/pip-record-v8rppufp/install-record.txt --single-version-externally-managed --compile --install-headers /home/dhanyaharish/Documents/GitHub/deep-learning/pytorch/DL/include/site/python3.9/glove-python Check the logs for full command output.\u001b[0m\n"
     ]
    }
   ],
   "source": [
    "!pip install glove_python"
   ]
  },
  {
   "cell_type": "code",
   "execution_count": 25,
   "metadata": {},
   "outputs": [],
   "source": [
    "import itertools"
   ]
  },
  {
   "cell_type": "code",
   "execution_count": 27,
   "metadata": {},
   "outputs": [
    {
     "ename": "ModuleNotFoundError",
     "evalue": "No module named 'glove'",
     "output_type": "error",
     "traceback": [
      "\u001b[0;31m---------------------------------------------------------------------------\u001b[0m",
      "\u001b[0;31mModuleNotFoundError\u001b[0m                       Traceback (most recent call last)",
      "\u001b[0;32m/tmp/ipykernel_288/2773273240.py\u001b[0m in \u001b[0;36m<module>\u001b[0;34m\u001b[0m\n\u001b[1;32m      1\u001b[0m \u001b[0;32mfrom\u001b[0m \u001b[0mgensim\u001b[0m\u001b[0;34m.\u001b[0m\u001b[0mmodels\u001b[0m\u001b[0;34m.\u001b[0m\u001b[0mword2vec\u001b[0m \u001b[0;32mimport\u001b[0m \u001b[0mText8Corpus\u001b[0m\u001b[0;34m\u001b[0m\u001b[0;34m\u001b[0m\u001b[0m\n\u001b[0;32m----> 2\u001b[0;31m \u001b[0;32mfrom\u001b[0m \u001b[0mglove\u001b[0m \u001b[0;32mimport\u001b[0m \u001b[0mCorpus\u001b[0m\u001b[0;34m,\u001b[0m \u001b[0mGlove\u001b[0m\u001b[0;34m\u001b[0m\u001b[0;34m\u001b[0m\u001b[0m\n\u001b[0m",
      "\u001b[0;31mModuleNotFoundError\u001b[0m: No module named 'glove'"
     ]
    }
   ],
   "source": [
    "from gensim.models.word2vec import Text8Corpus\n",
    "from glove import Corpus, Glove"
   ]
  },
  {
   "cell_type": "code",
   "execution_count": null,
   "metadata": {},
   "outputs": [],
   "source": [
    "sentences = list(itertools.islice(Text8Corpus('text8'),None))"
   ]
  },
  {
   "cell_type": "code",
   "execution_count": null,
   "metadata": {},
   "outputs": [],
   "source": []
  },
  {
   "cell_type": "code",
   "execution_count": null,
   "metadata": {},
   "outputs": [],
   "source": []
  },
  {
   "cell_type": "code",
   "execution_count": null,
   "metadata": {},
   "outputs": [],
   "source": []
  }
 ],
 "metadata": {
  "interpreter": {
   "hash": "97630161a1b63923bdd9a0aa586c344c3f95acdbb7ddd6c880d3dbef6642c2e8"
  },
  "kernelspec": {
   "display_name": "Python 3.9.9 64-bit ('DL': venv)",
   "name": "python3"
  },
  "language_info": {
   "codemirror_mode": {
    "name": "ipython",
    "version": 3
   },
   "file_extension": ".py",
   "mimetype": "text/x-python",
   "name": "python",
   "nbconvert_exporter": "python",
   "pygments_lexer": "ipython3",
   "version": "3.9.9"
  },
  "orig_nbformat": 4
 },
 "nbformat": 4,
 "nbformat_minor": 2
}
