{
 "cells": [
  {
   "cell_type": "code",
   "execution_count": 1,
   "metadata": {},
   "outputs": [],
   "source": [
    "# requests for fetching html of website\n",
    "import requests\n",
    "# Make the GET request to a url\n",
    "r = requests.get('http://www.cleveland.com/metro/index.ssf/2017/12/case_western_reserve_university_president_barbara_snyders_base_salary_and_bonus_pay_tops_among_private_colleges_in_ohio.html')\n",
    "# Extract the content\n",
    "c = r.content\n",
    "from bs4 import BeautifulSoup\n",
    "# Create a soup object\n",
    "soup = BeautifulSoup(c)"
   ]
  },
  {
   "cell_type": "code",
   "execution_count": 2,
   "metadata": {},
   "outputs": [],
   "source": [
    "# Find the element on the webpage\n",
    "main_content = soup.find('div', attrs = {'class': 'entry-content'})"
   ]
  },
  {
   "cell_type": "code",
   "execution_count": 8,
   "metadata": {},
   "outputs": [
    {
     "data": {
      "text/plain": [
       "'Grant Cornwell, College of Wooster (left in 2015): $911,651Marvin Krislov, Oberlin College (left in 2016): \\xa0$829,913Mark Roosevelt, Antioch College, (left in 2015): $507,672Laurie Joyner, Wittenberg University (left in 2015): $463,504Richard Giese, University of Mount Union (left in 2015): $453,800Sean Decatur,Kenyon College: $451,698Adam Weinberg, Denison University: $435,322Daniel Dibiasio, Ohio Northern University: $414,716Denvy Bowman, Capital University (left in 2016): $388,570Anne Steele, Muskingum University (left in 2016): $384,233Kathy Krendl, Otterbein University: \\xa0$378,035Rockwell Jones, Ohio Wesleyan University: $366,625Robert Helmer, Baldwin Wallace University: $365,616Robert Huntington, Heidelberg University: $300,005Lori Varlotta, Hiram College: $293,336Joseph Bruno, Marietta College (left in 2016): $288,295W. Richard Merriman Jr., University of Mount Union (started in June 2015): $221,761'"
      ]
     },
     "execution_count": 8,
     "metadata": {},
     "output_type": "execute_result"
    }
   ],
   "source": [
    "# Extract the relevant information as text\n",
    "content = main_content.find('ul').text\n",
    "content"
   ]
  },
  {
   "cell_type": "code",
   "execution_count": 9,
   "metadata": {},
   "outputs": [
    {
     "data": {
      "text/plain": [
       "['Grant Cornwell']"
      ]
     },
     "execution_count": 9,
     "metadata": {},
     "output_type": "execute_result"
    }
   ],
   "source": [
    "import re\n",
    "# Create a pattern to match names\n",
    "name_pattern = re.compile(r'^([A-Z]{1}.+?)(?:,)', flags = re.M)\n",
    "# Find all occurrences of the pattern\n",
    "names = name_pattern.findall(content)\n",
    "names"
   ]
  },
  {
   "cell_type": "code",
   "execution_count": 10,
   "metadata": {},
   "outputs": [
    {
     "data": {
      "text/plain": [
       "['$911,651Marvin Krislov, Oberlin College (left in 2016): \\xa0$829,913Mark Roosevelt, Antioch College, (left in 2015): $507,672Laurie Joyner, Wittenberg University (left in 2015): $463,504Richard Giese, University of Mount Union (left in 2015): $453,800Sean Decatur,Kenyon College: $451,698Adam Weinberg, Denison University: $435,322Daniel Dibiasio, Ohio Northern University: $414,716Denvy Bowman, Capital University (left in 2016): $388,570Anne Steele, Muskingum University (left in 2016): $384,233Kathy Krendl, Otterbein University: \\xa0$378,035Rockwell Jones, Ohio Wesleyan University: $366,625Robert Helmer, Baldwin Wallace University: $365,616Robert Huntington, Heidelberg University: $300,005Lori Varlotta, Hiram College: $293,336Joseph Bruno, Marietta College (left in 2016): $288,295W. Richard Merriman Jr., University of Mount Union (started in June 2015): $221,761']"
      ]
     },
     "execution_count": 10,
     "metadata": {},
     "output_type": "execute_result"
    }
   ],
   "source": [
    "# Make school patttern and extract schools\n",
    "school_pattern = re.compile(r'(?:,|,\\s)([A-Z]{1}.*?)(?:\\s\\(|:|,)')\n",
    "schools = school_pattern.findall(content)\n",
    "# Pattern to match the salaries\n",
    "salary_pattern = re.compile(r'\\$.+')\n",
    "salaries = salary_pattern.findall(content)\n",
    "salaries"
   ]
  },
  {
   "cell_type": "code",
   "execution_count": 7,
   "metadata": {},
   "outputs": [
    {
     "data": {
      "text/plain": [
       "[876001, 543903, 2453896]"
      ]
     },
     "execution_count": 7,
     "metadata": {},
     "output_type": "execute_result"
    }
   ],
   "source": [
    "# Messy salaries\n",
    "salaries = ['$876,001', '$543,903', '$2453,896']\n",
    "# Convert salaries to numbers in a list comprehension \n",
    "[int(''.join(s[1:].split(','))) for s in salaries]"
   ]
  },
  {
   "cell_type": "code",
   "execution_count": 12,
   "metadata": {},
   "outputs": [],
   "source": [
    "import urllib.request\n",
    "import re\n",
    "\n",
    "url = 'http://pythonprogramming.net/parse-website-using-regular-expressions-urllib/'\n",
    "\n",
    "req = urllib.request.Request(url)\n",
    "resp = urllib.request.urlopen(req)\n",
    "respData = resp.read()"
   ]
  },
  {
   "cell_type": "code",
   "execution_count": 13,
   "metadata": {},
   "outputs": [],
   "source": [
    "paragraphs = re.findall(r'<p>(.*?)</p>',str(respData))"
   ]
  },
  {
   "cell_type": "code",
   "execution_count": 14,
   "metadata": {},
   "outputs": [
    {
     "name": "stdout",
     "output_type": "stream",
     "text": [
      "In this video, we use two of Python 3\\'s standard library modules, re and urllib, to parse paragraph data from a website. As we saw, initially, when you use Python 3 and urllib to parse a website, you get all of the HTML data, like using \"view source\" on a web page. This HTML data is great if you are viewing via a browser, but is incredibly messy if you are viewing the raw source. For this reason, we need to build something that can sift through the mess and just pull the article data that we are interested in. There are some web scraping libraries out there, namely BeautifulSoup, which are aimed at doing this same sort of task.\n",
      "On to the code:\n",
      "Up to this point, everything should look pretty typical, as you\\'ve seen it all before. We specify our url, our values dict, encode the values, build our request, make our request, and then store the request to respData. We can print it out if we want to see what we\\'re working with. If you are using an IDE, sometimes printing out the source code is not the greatest idea. Many webpages, especially larger ones, have very large amounts of code in their source. Printing all of this out can take quite a while in the IDLE. Personally, I prefer to just view-source. In Google Chrome, for example, control+u will view-source. \n",
      "Alternatively, you should be able to just right-click on the page and select view-source. Once there, you want to look for your \"target data.\" In our case, we just want to take the paragraph text data. If you\\'re looking for something specific, then what I suggest you do is copy some of the \"thing\" you are looking for. So in the case of specific paragraph text, highlight some of it, copy it, then view the source. Once there, do a find operation, control+f usually will open one up, then paste in what you are looking for. Once you\\'ve done that, you should be able to find some identifiers near what you are looking for. In the case of paragraph data, it is paragraph data because people tell the browser it is. This means usually that there are literally paragraph tags around what we want that look like: \n",
      "Some websites get fancy with their HTML and do things like \n",
      "...keep this in mind. With that in mind, most websites just use simple paragraph tags, so let\\'s show that: \n",
      "The above regular expression states: Find me anything that starts with a paragraph tag, then in our parenthesis, we say exactly \"what\" we\\'re looking for, and that\\'s basically any character, except for a newline, one or more repetitions of that character, and finally there may be 0 or 1 of THIS expression. After that, we have a closing paragraph tag. We find as many of these that exist. This will generate a list, which we can then iterate through with:\n",
      "The output should be a bunch of paragraph data from our website.\n",
      "The next tutorial: <a title=\"Tkinter intro\" href=\"/python-3-tkinter-basics-tutorial/?completed=/parse-website-using-regular-expressions-urllib/\"><button class=\"btn\" style=\"background-color:#FFD166; color:#000000\">Tkinter intro</button></a>\n",
      "<a href=\"/introduction-to-python-programming/\"><button class=\"btn waves-effect waves-light right-align\" style=\"background-color:#FFD166; color:#000000\">Go\\n\\t\\t\\t\\t\\t\\t\\t\\t\\t  </button></a>\n",
      "<a href=\"/python-tutorial-print-function-strings/\"><button class=\"btn waves-effect waves-light right-align\" style=\"background-color:#FFD166; color:#000000\">Go\\n\\t\\t\\t\\t\\t\\t\\t\\t\\t  </button></a>\n",
      "<a href=\"/math-basics-python-3-beginner-tutorial/\"><button class=\"btn waves-effect waves-light right-align\" style=\"background-color:#FFD166; color:#000000\">Go\\n\\t\\t\\t\\t\\t\\t\\t\\t\\t  </button></a>\n",
      "<a href=\"/python-3-variables-tutorial/\"><button class=\"btn waves-effect waves-light right-align\" style=\"background-color:#FFD166; color:#000000\">Go\\n\\t\\t\\t\\t\\t\\t\\t\\t\\t  </button></a>\n",
      "<a href=\"/python-3-loop-tutorial/\"><button class=\"btn waves-effect waves-light right-align\" style=\"background-color:#FFD166; color:#000000\">Go\\n\\t\\t\\t\\t\\t\\t\\t\\t\\t  </button></a>\n",
      "<a href=\"/loop-python-3-basics-tutorial/\"><button class=\"btn waves-effect waves-light right-align\" style=\"background-color:#FFD166; color:#000000\">Go\\n\\t\\t\\t\\t\\t\\t\\t\\t\\t  </button></a>\n",
      "<a href=\"/if-statement-python-3-basics-tutorial/\"><button class=\"btn waves-effect waves-light right-align\" style=\"background-color:#FFD166; color:#000000\">Go\\n\\t\\t\\t\\t\\t\\t\\t\\t\\t  </button></a>\n",
      "<a href=\"/else-python-3-tutorial/\"><button class=\"btn waves-effect waves-light right-align\" style=\"background-color:#FFD166; color:#000000\">Go\\n\\t\\t\\t\\t\\t\\t\\t\\t\\t  </button></a>\n",
      "<a href=\"/elif-else-python-3-tutorial/\"><button class=\"btn waves-effect waves-light right-align\" style=\"background-color:#FFD166; color:#000000\">Go\\n\\t\\t\\t\\t\\t\\t\\t\\t\\t  </button></a>\n",
      "<a href=\"/functions-python-3-basics-tutorial/\"><button class=\"btn waves-effect waves-light right-align\" style=\"background-color:#FFD166; color:#000000\">Go\\n\\t\\t\\t\\t\\t\\t\\t\\t\\t  </button></a>\n",
      "<a href=\"/function-parameters-python-3-basics/\"><button class=\"btn waves-effect waves-light right-align\" style=\"background-color:#FFD166; color:#000000\">Go\\n\\t\\t\\t\\t\\t\\t\\t\\t\\t  </button></a>\n",
      "<a href=\"/function-parameter-defaults-python-3-basics/\"><button class=\"btn waves-effect waves-light right-align\" style=\"background-color:#FFD166; color:#000000\">Go\\n\\t\\t\\t\\t\\t\\t\\t\\t\\t  </button></a>\n",
      "<a href=\"/global-local-variables/\"><button class=\"btn waves-effect waves-light right-align\" style=\"background-color:#FFD166; color:#000000\">Go\\n\\t\\t\\t\\t\\t\\t\\t\\t\\t  </button></a>\n",
      "<a href=\"/installing-modules-python-3/\"><button class=\"btn waves-effect waves-light right-align\" style=\"background-color:#FFD166; color:#000000\">Go\\n\\t\\t\\t\\t\\t\\t\\t\\t\\t  </button></a>\n",
      "<a href=\"/using-pip-install-for-python-modules/\"><button class=\"btn waves-effect waves-light right-align\" style=\"background-color:#FFD166; color:#000000\">Go\\n\\t\\t\\t\\t\\t\\t\\t\\t\\t  </button></a>\n",
      "<a href=\"/common-errors-python-3-basics/\"><button class=\"btn waves-effect waves-light right-align\" style=\"background-color:#FFD166; color:#000000\">Go\\n\\t\\t\\t\\t\\t\\t\\t\\t\\t  </button></a>\n",
      "<a href=\"/writing-file-python-3-basics/\"><button class=\"btn waves-effect waves-light right-align\" style=\"background-color:#FFD166; color:#000000\">Go\\n\\t\\t\\t\\t\\t\\t\\t\\t\\t  </button></a>\n",
      "<a href=\"/appending-file-python-3-tutorial/\"><button class=\"btn waves-effect waves-light right-align\" style=\"background-color:#FFD166; color:#000000\">Go\\n\\t\\t\\t\\t\\t\\t\\t\\t\\t  </button></a>\n",
      "<a href=\"/reading-file-python-3-tutorial/\"><button class=\"btn waves-effect waves-light right-align\" style=\"background-color:#FFD166; color:#000000\">Go\\n\\t\\t\\t\\t\\t\\t\\t\\t\\t  </button></a>\n",
      "<a href=\"/classes-python-3-basics-tutorial/\"><button class=\"btn waves-effect waves-light right-align\" style=\"background-color:#FFD166; color:#000000\">Go\\n\\t\\t\\t\\t\\t\\t\\t\\t\\t  </button></a>\n",
      "<a href=\"/frequently-asked-questions-python-3/\"><button class=\"btn waves-effect waves-light right-align\" style=\"background-color:#FFD166; color:#000000\">Go\\n\\t\\t\\t\\t\\t\\t\\t\\t\\t  </button></a>\n",
      "<a href=\"/user-input-python-3-tutorial/\"><button class=\"btn waves-effect waves-light right-align\" style=\"background-color:#FFD166; color:#000000\">Go\\n\\t\\t\\t\\t\\t\\t\\t\\t\\t  </button></a>\n",
      "<a href=\"/statistics-python-3-module-mean-standard-deviation/\"><button class=\"btn waves-effect waves-light right-align\" style=\"background-color:#FFD166; color:#000000\">Go\\n\\t\\t\\t\\t\\t\\t\\t\\t\\t  </button></a>\n",
      "<a href=\"/module-import-syntax-python-3-tutorial/\"><button class=\"btn waves-effect waves-light right-align\" style=\"background-color:#FFD166; color:#000000\">Go\\n\\t\\t\\t\\t\\t\\t\\t\\t\\t  </button></a>\n",
      "<a href=\"/making-modules/\"><button class=\"btn waves-effect waves-light right-align\" style=\"background-color:#FFD166; color:#000000\">Go\\n\\t\\t\\t\\t\\t\\t\\t\\t\\t  </button></a>\n",
      "<a href=\"/python-lists-vs-tuples/\"><button class=\"btn waves-effect waves-light right-align\" style=\"background-color:#FFD166; color:#000000\">Go\\n\\t\\t\\t\\t\\t\\t\\t\\t\\t  </button></a>\n",
      "<a href=\"/python-3-list-manipulation/\"><button class=\"btn waves-effect waves-light right-align\" style=\"background-color:#FFD166; color:#000000\">Go\\n\\t\\t\\t\\t\\t\\t\\t\\t\\t  </button></a>\n",
      "<a href=\"/python-3-multi-dimensional-list/\"><button class=\"btn waves-effect waves-light right-align\" style=\"background-color:#FFD166; color:#000000\">Go\\n\\t\\t\\t\\t\\t\\t\\t\\t\\t  </button></a>\n",
      "<a href=\"/reading-csv-files-python-3/\"><button class=\"btn waves-effect waves-light right-align\" style=\"background-color:#FFD166; color:#000000\">Go\\n\\t\\t\\t\\t\\t\\t\\t\\t\\t  </button></a>\n",
      "<a href=\"/handling-exceptions-try-except-python-3/\"><button class=\"btn waves-effect waves-light right-align\" style=\"background-color:#FFD166; color:#000000\">Go\\n\\t\\t\\t\\t\\t\\t\\t\\t\\t  </button></a>\n",
      "<a href=\"/multi-line-printing-python-3/\"><button class=\"btn waves-effect waves-light right-align\" style=\"background-color:#FFD166; color:#000000\">Go\\n\\t\\t\\t\\t\\t\\t\\t\\t\\t  </button></a>\n",
      "<a href=\"/dictionaries-tutorial-python-3/\"><button class=\"btn waves-effect waves-light right-align\" style=\"background-color:#FFD166; color:#000000\">Go\\n\\t\\t\\t\\t\\t\\t\\t\\t\\t  </button></a>\n",
      "<a href=\"/built-functions-python-3/\"><button class=\"btn waves-effect waves-light right-align\" style=\"background-color:#FFD166; color:#000000\">Go\\n\\t\\t\\t\\t\\t\\t\\t\\t\\t  </button></a>\n",
      "<a href=\"/python-3-os-module/\"><button class=\"btn waves-effect waves-light right-align\" style=\"background-color:#FFD166; color:#000000\">Go\\n\\t\\t\\t\\t\\t\\t\\t\\t\\t  </button></a>\n",
      "<a href=\"/sys-module-python-3/\"><button class=\"btn waves-effect waves-light right-align\" style=\"background-color:#FFD166; color:#000000\">Go\\n\\t\\t\\t\\t\\t\\t\\t\\t\\t  </button></a>\n",
      "<a href=\"/urllib-tutorial-python-3/\"><button class=\"btn waves-effect waves-light right-align\" style=\"background-color:#FFD166; color:#000000\">Go\\n\\t\\t\\t\\t\\t\\t\\t\\t\\t  </button></a>\n",
      "<a href=\"/regular-expressions-regex-tutorial-python-3/\"><button class=\"btn waves-effect waves-light right-align\" style=\"background-color:#FFD166; color:#000000\">Go\\n\\t\\t\\t\\t\\t\\t\\t\\t\\t  </button></a>\n",
      "<a href=\"/python-3-tkinter-basics-tutorial/\"><button class=\"btn waves-effect waves-light right-align\" style=\"background-color:#FFD166; color:#000000\">Go\\n\\t\\t\\t\\t\\t\\t\\t\\t\\t  </button></a>\n",
      "<a href=\"/tkinter-python-3-tutorial-adding-buttons/\"><button class=\"btn waves-effect waves-light right-align\" style=\"background-color:#FFD166; color:#000000\">Go\\n\\t\\t\\t\\t\\t\\t\\t\\t\\t  </button></a>\n",
      "<a href=\"/tkinter-tutorial-python-3-event-handling/\"><button class=\"btn waves-effect waves-light right-align\" style=\"background-color:#FFD166; color:#000000\">Go\\n\\t\\t\\t\\t\\t\\t\\t\\t\\t  </button></a>\n",
      "<a href=\"/tkinter-menu-bar-tutorial/\"><button class=\"btn waves-effect waves-light right-align\" style=\"background-color:#FFD166; color:#000000\">Go\\n\\t\\t\\t\\t\\t\\t\\t\\t\\t  </button></a>\n",
      "<a href=\"/tkinter-adding-text-images/\"><button class=\"btn waves-effect waves-light right-align\" style=\"background-color:#FFD166; color:#000000\">Go\\n\\t\\t\\t\\t\\t\\t\\t\\t\\t  </button></a>\n",
      "<a href=\"/threading-tutorial-python/\"><button class=\"btn waves-effect waves-light right-align\" style=\"background-color:#FFD166; color:#000000\">Go\\n\\t\\t\\t\\t\\t\\t\\t\\t\\t  </button></a>\n",
      "<a href=\"/converting-python-scripts-exe-executables/\"><button class=\"btn waves-effect waves-light right-align\" style=\"background-color:#FFD166; color:#000000\">Go\\n\\t\\t\\t\\t\\t\\t\\t\\t\\t  </button></a>\n",
      "<a href=\"/python-3-subprocess-tutorial/\"><button class=\"btn waves-effect waves-light right-align\" style=\"background-color:#FFD166; color:#000000\">Go\\n\\t\\t\\t\\t\\t\\t\\t\\t\\t  </button></a>\n",
      "<a href=\"/matplotlib-python-3-basics-tutorial/\"><button class=\"btn waves-effect waves-light right-align\" style=\"background-color:#FFD166; color:#000000\">Go\\n\\t\\t\\t\\t\\t\\t\\t\\t\\t  </button></a>\n",
      "<a href=\"/ftp-transfers-python-ftplib/\"><button class=\"btn waves-effect waves-light right-align\" style=\"background-color:#FFD166; color:#000000\">Go\\n\\t\\t\\t\\t\\t\\t\\t\\t\\t  </button></a>\n",
      "<a href=\"/python-sockets/\"><button class=\"btn waves-effect waves-light right-align\" style=\"background-color:#FFD166; color:#000000\">Go\\n\\t\\t\\t\\t\\t\\t\\t\\t\\t  </button></a>\n",
      "<a href=\"/python-port-scanner-sockets/\"><button class=\"btn waves-effect waves-light right-align\" style=\"background-color:#FFD166; color:#000000\">Go\\n\\t\\t\\t\\t\\t\\t\\t\\t\\t  </button></a>\n",
      "<a href=\"/python-threaded-port-scanner/\"><button class=\"btn waves-effect waves-light right-align\" style=\"background-color:#FFD166; color:#000000\">Go\\n\\t\\t\\t\\t\\t\\t\\t\\t\\t  </button></a>\n",
      "<a href=\"/python-binding-listening-sockets/\"><button class=\"btn waves-effect waves-light right-align\" style=\"background-color:#FFD166; color:#000000\">Go\\n\\t\\t\\t\\t\\t\\t\\t\\t\\t  </button></a>\n",
      "<a href=\"/client-server-python-sockets/\"><button class=\"btn waves-effect waves-light right-align\" style=\"background-color:#FFD166; color:#000000\">Go\\n\\t\\t\\t\\t\\t\\t\\t\\t\\t  </button></a>\n",
      "<a href=\"/converting-python2-to-python3-2to3/\"><button class=\"btn waves-effect waves-light right-align\" style=\"background-color:#FFD166; color:#000000\">Go\\n\\t\\t\\t\\t\\t\\t\\t\\t\\t  </button></a>\n",
      "<a href=\"/python-pickle-module-save-objects-serialization/\"><button class=\"btn waves-effect waves-light right-align\" style=\"background-color:#FFD166; color:#000000\">Go\\n\\t\\t\\t\\t\\t\\t\\t\\t\\t  </button></a>\n",
      "<a href=\"/python-eval-tutorial/\"><button class=\"btn waves-effect waves-light right-align\" style=\"background-color:#FFD166; color:#000000\">Go\\n\\t\\t\\t\\t\\t\\t\\t\\t\\t  </button></a>\n",
      "<a href=\"/python-exec-tutorial/\"><button class=\"btn waves-effect waves-light right-align\" style=\"background-color:#FFD166; color:#000000\">Go\\n\\t\\t\\t\\t\\t\\t\\t\\t\\t  </button></a>\n"
     ]
    }
   ],
   "source": [
    "for eachP in paragraphs:\n",
    "    print(eachP)"
   ]
  },
  {
   "cell_type": "code",
   "execution_count": 15,
   "metadata": {},
   "outputs": [],
   "source": [
    "import pandas as pd\n",
    "import numpy as np\n",
    "import matplotlib.pyplot as plt\n",
    "import seaborn as sns\n",
    "#If Jupyter Notebook is prefered to embed the figures in the #notebook \n",
    "%matplotlib inline"
   ]
  },
  {
   "cell_type": "code",
   "execution_count": 16,
   "metadata": {},
   "outputs": [],
   "source": [
    "from urllib.request import urlopen \n",
    "from bs4 import BeautifulSoup"
   ]
  },
  {
   "cell_type": "code",
   "execution_count": 24,
   "metadata": {},
   "outputs": [],
   "source": [
    "url = \"https://www.hubertiming.com/results/2017GPTR10K\"\n",
    "html = urlopen(url)"
   ]
  },
  {
   "cell_type": "code",
   "execution_count": 25,
   "metadata": {},
   "outputs": [
    {
     "data": {
      "text/plain": [
       "bs4.BeautifulSoup"
      ]
     },
     "execution_count": 25,
     "metadata": {},
     "output_type": "execute_result"
    }
   ],
   "source": [
    "soup = BeautifulSoup(html, 'lxml') \n",
    "type(soup)\n"
   ]
  },
  {
   "cell_type": "code",
   "execution_count": 26,
   "metadata": {},
   "outputs": [
    {
     "name": "stdout",
     "output_type": "stream",
     "text": [
      "<title>Race results for the 2017 Intel Great Place to Run \\ Urban Clash Games!</title>\n"
     ]
    }
   ],
   "source": [
    "title= soup.title\n",
    "print(title)"
   ]
  },
  {
   "cell_type": "code",
   "execution_count": 27,
   "metadata": {},
   "outputs": [
    {
     "data": {
      "text/plain": [
       "[<th>Place</th>,\n",
       " <th>Bib</th>,\n",
       " <th>Name</th>,\n",
       " <th>Gender</th>,\n",
       " <th>City</th>,\n",
       " <th>Chip Time</th>,\n",
       " <th>Gun Time</th>,\n",
       " <th>Team</th>]"
      ]
     },
     "execution_count": 27,
     "metadata": {},
     "output_type": "execute_result"
    }
   ],
   "source": [
    "soup.find_all(\"th\")"
   ]
  },
  {
   "cell_type": "code",
   "execution_count": 28,
   "metadata": {},
   "outputs": [
    {
     "name": "stdout",
     "output_type": "stream",
     "text": [
      "[<tr colspan=\"2\">\n",
      "<b>10K:</b>\n",
      "</tr>, <tr>\n",
      "<td>Finishers:</td>\n",
      "<td>577</td>\n",
      "</tr>, <tr>\n",
      "<td>Male:</td>\n",
      "<td>414</td>\n",
      "</tr>, <tr>\n",
      "<td>Female:</td>\n",
      "<td>163</td>\n",
      "</tr>, <tr class=\"header\">\n",
      "<th>Place</th>\n",
      "<th>Bib</th>\n",
      "<th>Name</th>\n",
      "<th>Gender</th>\n",
      "<th>City</th>\n",
      "<th>Chip Time</th>\n",
      "<th>Gun Time</th>\n",
      "<th>Team</th>\n",
      "</tr>, <tr data-bib=\"814\">\n",
      "<td>1</td>\n",
      "<td>814</td>\n",
      "<td>\n",
      "\n",
      "                    JARED WILSON\n",
      "\n",
      "                </td>\n",
      "<td>M</td>\n",
      "<td>TIGARD</td>\n",
      "<td>36:21</td>\n",
      "<td>36:24</td>\n",
      "<td></td>\n",
      "</tr>, <tr data-bib=\"573\">\n",
      "<td>2</td>\n",
      "<td>573</td>\n",
      "<td>\n",
      "\n",
      "                    NATHAN A SUSTERSIC\n",
      "\n",
      "                </td>\n",
      "<td>M</td>\n",
      "<td>PORTLAND</td>\n",
      "<td>36:42</td>\n",
      "<td>36:45</td>\n",
      "<td>\n",
      "<img class=\"lazy teamThumbs\" data-src=\"/teamLogoThumbnail/logo?teamName=INTEL%20TEAM%20F&amp;raceId=1251&amp;state=OR\"/>\n",
      "                            INTEL TEAM F\n",
      "                        </td>\n",
      "</tr>, <tr data-bib=\"687\">\n",
      "<td>3</td>\n",
      "<td>687</td>\n",
      "<td>\n",
      "\n",
      "                    FRANCISCO MAYA\n",
      "\n",
      "                </td>\n",
      "<td>M</td>\n",
      "<td>PORTLAND</td>\n",
      "<td>37:44</td>\n",
      "<td>37:48</td>\n",
      "<td></td>\n",
      "</tr>, <tr data-bib=\"623\">\n",
      "<td>4</td>\n",
      "<td>623</td>\n",
      "<td>\n",
      "\n",
      "                    PAUL MORROW\n",
      "\n",
      "                </td>\n",
      "<td>M</td>\n",
      "<td>BEAVERTON</td>\n",
      "<td>38:34</td>\n",
      "<td>38:37</td>\n",
      "<td></td>\n",
      "</tr>, <tr data-bib=\"569\">\n",
      "<td>5</td>\n",
      "<td>569</td>\n",
      "<td>\n",
      "\n",
      "                    DEREK G OSBORNE\n",
      "\n",
      "                </td>\n",
      "<td>M</td>\n",
      "<td>HILLSBORO</td>\n",
      "<td>39:21</td>\n",
      "<td>39:24</td>\n",
      "<td>\n",
      "<img class=\"lazy teamThumbs\" data-src=\"/teamLogoThumbnail/logo?teamName=INTEL%20TEAM%20F&amp;raceId=1251&amp;state=OR\"/>\n",
      "                            INTEL TEAM F\n",
      "                        </td>\n",
      "</tr>]\n"
     ]
    }
   ],
   "source": [
    "rows = soup.find_all('tr')\n",
    "print(rows[:10])"
   ]
  },
  {
   "cell_type": "code",
   "execution_count": 29,
   "metadata": {},
   "outputs": [
    {
     "name": "stdout",
     "output_type": "stream",
     "text": [
      "[<td>577</td>, <td>443</td>, <td>\n",
      "\n",
      "                    LIBBY B MITCHELL\n",
      "\n",
      "                </td>, <td>F</td>, <td>HILLSBORO</td>, <td>1:41:18</td>, <td>1:42:10</td>, <td></td>]\n"
     ]
    },
    {
     "data": {
      "text/plain": [
       "bs4.element.ResultSet"
      ]
     },
     "execution_count": 29,
     "metadata": {},
     "output_type": "execute_result"
    }
   ],
   "source": [
    "for row in rows:\n",
    "    row_td = row.find_all('td')\n",
    "print(row_td)\n",
    "type(row_td)"
   ]
  },
  {
   "cell_type": "code",
   "execution_count": 30,
   "metadata": {},
   "outputs": [
    {
     "name": "stdout",
     "output_type": "stream",
     "text": [
      "[577, 443, \n",
      "\n",
      "                    LIBBY B MITCHELL\n",
      "\n",
      "                , F, HILLSBORO, 1:41:18, 1:42:10, ]\n"
     ]
    }
   ],
   "source": [
    "string= str(row_td)\n",
    "cleantext = BeautifulSoup(string,\"lxml\").get_text() \n",
    "print(cleantext)"
   ]
  },
  {
   "cell_type": "code",
   "execution_count": 32,
   "metadata": {},
   "outputs": [
    {
     "name": "stdout",
     "output_type": "stream",
     "text": [
      "[577, 443, \n",
      "\n",
      "                    LIBBY B MITCHELL\n",
      "\n",
      "                , F, HILLSBORO, 1:41:18, 1:42:10, ]\n"
     ]
    },
    {
     "data": {
      "text/plain": [
       "str"
      ]
     },
     "execution_count": 32,
     "metadata": {},
     "output_type": "execute_result"
    }
   ],
   "source": [
    "import re \n",
    "list_rows =[]\n",
    "for row in rows: \n",
    "  cell = row.find_all(\"td\") #< td > for table cells\n",
    "  string_cell =str(cell) #convert it to string\n",
    "  clean = re.compile(\"<.*?>\") \n",
    "\n",
    "  clean2 = (re.sub(clean, \"\", string_cell))\n",
    "  list_rows.append(clean2)\n",
    "print(clean2)\n",
    "type(clean2)"
   ]
  },
  {
   "cell_type": "code",
   "execution_count": 33,
   "metadata": {},
   "outputs": [
    {
     "data": {
      "text/html": [
       "<div>\n",
       "<style scoped>\n",
       "    .dataframe tbody tr th:only-of-type {\n",
       "        vertical-align: middle;\n",
       "    }\n",
       "\n",
       "    .dataframe tbody tr th {\n",
       "        vertical-align: top;\n",
       "    }\n",
       "\n",
       "    .dataframe thead th {\n",
       "        text-align: right;\n",
       "    }\n",
       "</style>\n",
       "<table border=\"1\" class=\"dataframe\">\n",
       "  <thead>\n",
       "    <tr style=\"text-align: right;\">\n",
       "      <th></th>\n",
       "      <th>0</th>\n",
       "    </tr>\n",
       "  </thead>\n",
       "  <tbody>\n",
       "    <tr>\n",
       "      <th>0</th>\n",
       "      <td>[]</td>\n",
       "    </tr>\n",
       "    <tr>\n",
       "      <th>1</th>\n",
       "      <td>[Finishers:, 577]</td>\n",
       "    </tr>\n",
       "    <tr>\n",
       "      <th>2</th>\n",
       "      <td>[Male:, 414]</td>\n",
       "    </tr>\n",
       "    <tr>\n",
       "      <th>3</th>\n",
       "      <td>[Female:, 163]</td>\n",
       "    </tr>\n",
       "    <tr>\n",
       "      <th>4</th>\n",
       "      <td>[]</td>\n",
       "    </tr>\n",
       "    <tr>\n",
       "      <th>5</th>\n",
       "      <td>[1, 814, \\r\\n\\r\\n                    JARED WIL...</td>\n",
       "    </tr>\n",
       "    <tr>\n",
       "      <th>6</th>\n",
       "      <td>[2, 573, \\r\\n\\r\\n                    NATHAN A ...</td>\n",
       "    </tr>\n",
       "    <tr>\n",
       "      <th>7</th>\n",
       "      <td>[3, 687, \\r\\n\\r\\n                    FRANCISCO...</td>\n",
       "    </tr>\n",
       "    <tr>\n",
       "      <th>8</th>\n",
       "      <td>[4, 623, \\r\\n\\r\\n                    PAUL MORR...</td>\n",
       "    </tr>\n",
       "    <tr>\n",
       "      <th>9</th>\n",
       "      <td>[5, 569, \\r\\n\\r\\n                    DEREK G O...</td>\n",
       "    </tr>\n",
       "  </tbody>\n",
       "</table>\n",
       "</div>"
      ],
      "text/plain": [
       "                                                   0\n",
       "0                                                 []\n",
       "1                                  [Finishers:, 577]\n",
       "2                                       [Male:, 414]\n",
       "3                                     [Female:, 163]\n",
       "4                                                 []\n",
       "5  [1, 814, \\r\\n\\r\\n                    JARED WIL...\n",
       "6  [2, 573, \\r\\n\\r\\n                    NATHAN A ...\n",
       "7  [3, 687, \\r\\n\\r\\n                    FRANCISCO...\n",
       "8  [4, 623, \\r\\n\\r\\n                    PAUL MORR...\n",
       "9  [5, 569, \\r\\n\\r\\n                    DEREK G O..."
      ]
     },
     "execution_count": 33,
     "metadata": {},
     "output_type": "execute_result"
    }
   ],
   "source": [
    "df = pd.DataFrame(list_rows)\n",
    "df.head(10)"
   ]
  },
  {
   "cell_type": "code",
   "execution_count": 34,
   "metadata": {},
   "outputs": [
    {
     "data": {
      "text/html": [
       "<div>\n",
       "<style scoped>\n",
       "    .dataframe tbody tr th:only-of-type {\n",
       "        vertical-align: middle;\n",
       "    }\n",
       "\n",
       "    .dataframe tbody tr th {\n",
       "        vertical-align: top;\n",
       "    }\n",
       "\n",
       "    .dataframe thead th {\n",
       "        text-align: right;\n",
       "    }\n",
       "</style>\n",
       "<table border=\"1\" class=\"dataframe\">\n",
       "  <thead>\n",
       "    <tr style=\"text-align: right;\">\n",
       "      <th></th>\n",
       "      <th>0</th>\n",
       "      <th>1</th>\n",
       "      <th>2</th>\n",
       "      <th>3</th>\n",
       "      <th>4</th>\n",
       "      <th>5</th>\n",
       "      <th>6</th>\n",
       "      <th>7</th>\n",
       "    </tr>\n",
       "  </thead>\n",
       "  <tbody>\n",
       "    <tr>\n",
       "      <th>0</th>\n",
       "      <td>[]</td>\n",
       "      <td>None</td>\n",
       "      <td>None</td>\n",
       "      <td>None</td>\n",
       "      <td>None</td>\n",
       "      <td>None</td>\n",
       "      <td>None</td>\n",
       "      <td>None</td>\n",
       "    </tr>\n",
       "    <tr>\n",
       "      <th>1</th>\n",
       "      <td>[Finishers:</td>\n",
       "      <td>577]</td>\n",
       "      <td>None</td>\n",
       "      <td>None</td>\n",
       "      <td>None</td>\n",
       "      <td>None</td>\n",
       "      <td>None</td>\n",
       "      <td>None</td>\n",
       "    </tr>\n",
       "    <tr>\n",
       "      <th>2</th>\n",
       "      <td>[Male:</td>\n",
       "      <td>414]</td>\n",
       "      <td>None</td>\n",
       "      <td>None</td>\n",
       "      <td>None</td>\n",
       "      <td>None</td>\n",
       "      <td>None</td>\n",
       "      <td>None</td>\n",
       "    </tr>\n",
       "    <tr>\n",
       "      <th>3</th>\n",
       "      <td>[Female:</td>\n",
       "      <td>163]</td>\n",
       "      <td>None</td>\n",
       "      <td>None</td>\n",
       "      <td>None</td>\n",
       "      <td>None</td>\n",
       "      <td>None</td>\n",
       "      <td>None</td>\n",
       "    </tr>\n",
       "    <tr>\n",
       "      <th>4</th>\n",
       "      <td>[]</td>\n",
       "      <td>None</td>\n",
       "      <td>None</td>\n",
       "      <td>None</td>\n",
       "      <td>None</td>\n",
       "      <td>None</td>\n",
       "      <td>None</td>\n",
       "      <td>None</td>\n",
       "    </tr>\n",
       "    <tr>\n",
       "      <th>5</th>\n",
       "      <td>[1</td>\n",
       "      <td>814</td>\n",
       "      <td>\\r\\n\\r\\n                    JARED WILSON\\r\\n\\...</td>\n",
       "      <td>M</td>\n",
       "      <td>TIGARD</td>\n",
       "      <td>36:21</td>\n",
       "      <td>36:24</td>\n",
       "      <td>]</td>\n",
       "    </tr>\n",
       "    <tr>\n",
       "      <th>6</th>\n",
       "      <td>[2</td>\n",
       "      <td>573</td>\n",
       "      <td>\\r\\n\\r\\n                    NATHAN A SUSTERSI...</td>\n",
       "      <td>M</td>\n",
       "      <td>PORTLAND</td>\n",
       "      <td>36:42</td>\n",
       "      <td>36:45</td>\n",
       "      <td>\\n\\r\\n                            INTEL TEAM ...</td>\n",
       "    </tr>\n",
       "    <tr>\n",
       "      <th>7</th>\n",
       "      <td>[3</td>\n",
       "      <td>687</td>\n",
       "      <td>\\r\\n\\r\\n                    FRANCISCO MAYA\\r\\...</td>\n",
       "      <td>M</td>\n",
       "      <td>PORTLAND</td>\n",
       "      <td>37:44</td>\n",
       "      <td>37:48</td>\n",
       "      <td>]</td>\n",
       "    </tr>\n",
       "    <tr>\n",
       "      <th>8</th>\n",
       "      <td>[4</td>\n",
       "      <td>623</td>\n",
       "      <td>\\r\\n\\r\\n                    PAUL MORROW\\r\\n\\r...</td>\n",
       "      <td>M</td>\n",
       "      <td>BEAVERTON</td>\n",
       "      <td>38:34</td>\n",
       "      <td>38:37</td>\n",
       "      <td>]</td>\n",
       "    </tr>\n",
       "    <tr>\n",
       "      <th>9</th>\n",
       "      <td>[5</td>\n",
       "      <td>569</td>\n",
       "      <td>\\r\\n\\r\\n                    DEREK G OSBORNE\\r...</td>\n",
       "      <td>M</td>\n",
       "      <td>HILLSBORO</td>\n",
       "      <td>39:21</td>\n",
       "      <td>39:24</td>\n",
       "      <td>\\n\\r\\n                            INTEL TEAM ...</td>\n",
       "    </tr>\n",
       "  </tbody>\n",
       "</table>\n",
       "</div>"
      ],
      "text/plain": [
       "             0      1                                                  2  \\\n",
       "0           []   None                                               None   \n",
       "1  [Finishers:   577]                                               None   \n",
       "2       [Male:   414]                                               None   \n",
       "3     [Female:   163]                                               None   \n",
       "4           []   None                                               None   \n",
       "5           [1    814   \\r\\n\\r\\n                    JARED WILSON\\r\\n\\...   \n",
       "6           [2    573   \\r\\n\\r\\n                    NATHAN A SUSTERSI...   \n",
       "7           [3    687   \\r\\n\\r\\n                    FRANCISCO MAYA\\r\\...   \n",
       "8           [4    623   \\r\\n\\r\\n                    PAUL MORROW\\r\\n\\r...   \n",
       "9           [5    569   \\r\\n\\r\\n                    DEREK G OSBORNE\\r...   \n",
       "\n",
       "      3           4       5       6  \\\n",
       "0  None        None    None    None   \n",
       "1  None        None    None    None   \n",
       "2  None        None    None    None   \n",
       "3  None        None    None    None   \n",
       "4  None        None    None    None   \n",
       "5     M      TIGARD   36:21   36:24   \n",
       "6     M    PORTLAND   36:42   36:45   \n",
       "7     M    PORTLAND   37:44   37:48   \n",
       "8     M   BEAVERTON   38:34   38:37   \n",
       "9     M   HILLSBORO   39:21   39:24   \n",
       "\n",
       "                                                   7  \n",
       "0                                               None  \n",
       "1                                               None  \n",
       "2                                               None  \n",
       "3                                               None  \n",
       "4                                               None  \n",
       "5                                                  ]  \n",
       "6   \\n\\r\\n                            INTEL TEAM ...  \n",
       "7                                                  ]  \n",
       "8                                                  ]  \n",
       "9   \\n\\r\\n                            INTEL TEAM ...  "
      ]
     },
     "execution_count": 34,
     "metadata": {},
     "output_type": "execute_result"
    }
   ],
   "source": [
    "dataframe = df[0].str.split(\",\", expand=True)\n",
    "dataframe.head(10)"
   ]
  },
  {
   "cell_type": "code",
   "execution_count": 36,
   "metadata": {},
   "outputs": [],
   "source": [
    "import requests\n",
    "from bs4 import BeautifulSoup"
   ]
  },
  {
   "cell_type": "code",
   "execution_count": 37,
   "metadata": {},
   "outputs": [],
   "source": [
    "response = requests.get(\"https://genius.com/albums/Missy-elliott/Under-construction\")\n",
    "html_string = response.text"
   ]
  },
  {
   "cell_type": "code",
   "execution_count": 38,
   "metadata": {},
   "outputs": [],
   "source": [
    "document = BeautifulSoup(html_string, \"html.parser\")"
   ]
  },
  {
   "cell_type": "code",
   "execution_count": 39,
   "metadata": {},
   "outputs": [
    {
     "data": {
      "text/plain": [
       "[<h3 class=\"chart_row-content-title\">\n",
       "               Intro/Go To The Floor\n",
       "               <span class=\"chart_row-content-title-subtitle\">Lyrics</span>\n",
       " </h3>,\n",
       " <h3 class=\"chart_row-content-title\">\n",
       "               Bring the Pain (Ft. Method Man)\n",
       "               <span class=\"chart_row-content-title-subtitle\">Lyrics</span>\n",
       " </h3>,\n",
       " <h3 class=\"chart_row-content-title\">\n",
       "               Gossip Folks (Ft. Ludacris)\n",
       "               <span class=\"chart_row-content-title-subtitle\">Lyrics</span>\n",
       " </h3>,\n",
       " <h3 class=\"chart_row-content-title\">\n",
       "               Work It\n",
       "               <span class=\"chart_row-content-title-subtitle\">Lyrics</span>\n",
       " </h3>,\n",
       " <h3 class=\"chart_row-content-title\">\n",
       "               Back in the Day (Ft. JAY-Z)\n",
       "               <span class=\"chart_row-content-title-subtitle\">Lyrics</span>\n",
       " </h3>,\n",
       " <h3 class=\"chart_row-content-title\">\n",
       "               Funky Fresh Dressed (Ft. Ms. Jade)\n",
       "               <span class=\"chart_row-content-title-subtitle\">Lyrics</span>\n",
       " </h3>,\n",
       " <h3 class=\"chart_row-content-title\">\n",
       "               Pussycat\n",
       "               <span class=\"chart_row-content-title-subtitle\">Lyrics</span>\n",
       " </h3>,\n",
       " <h3 class=\"chart_row-content-title\">\n",
       "               Nothing Out There for Me (Ft. Beyoncé)\n",
       "               <span class=\"chart_row-content-title-subtitle\">Lyrics</span>\n",
       " </h3>,\n",
       " <h3 class=\"chart_row-content-title\">\n",
       "               Slide\n",
       "               <span class=\"chart_row-content-title-subtitle\">Lyrics</span>\n",
       " </h3>,\n",
       " <h3 class=\"chart_row-content-title\">\n",
       "               Play That Beat\n",
       "               <span class=\"chart_row-content-title-subtitle\">Lyrics</span>\n",
       " </h3>,\n",
       " <h3 class=\"chart_row-content-title\">\n",
       "               Ain't That Funny\n",
       "               <span class=\"chart_row-content-title-subtitle\">Lyrics</span>\n",
       " </h3>,\n",
       " <h3 class=\"chart_row-content-title\">\n",
       "               Hot\n",
       "               <span class=\"chart_row-content-title-subtitle\">Lyrics</span>\n",
       " </h3>,\n",
       " <h3 class=\"chart_row-content-title\">\n",
       "               Can You Hear Me (Ft. TLC)\n",
       "               <span class=\"chart_row-content-title-subtitle\">Lyrics</span>\n",
       " </h3>,\n",
       " <h3 class=\"chart_row-content-title\">\n",
       "               Work It (Remix) (Ft. 50 Cent)\n",
       "               <span class=\"chart_row-content-title-subtitle\">Lyrics</span>\n",
       " </h3>,\n",
       " <h3 class=\"chart_row-content-title\">\n",
       "               Drop the Bomb\n",
       "               <span class=\"chart_row-content-title-subtitle\">Lyrics</span>\n",
       " </h3>,\n",
       " <h3 class=\"annotation_label\">Does this album have any certifications?</h3>,\n",
       " <h3 class=\"annotation_label\">How did this album chart?</h3>,\n",
       " <h3>ICONOLOGY</h3>,\n",
       " <h3>Misdemeanor</h3>]"
      ]
     },
     "execution_count": 39,
     "metadata": {},
     "output_type": "execute_result"
    }
   ],
   "source": [
    "song_title_tags = document.find_all(\"h3\")\n",
    "song_title_tags"
   ]
  },
  {
   "cell_type": "code",
   "execution_count": 40,
   "metadata": {},
   "outputs": [],
   "source": [
    "song_titles = []\n",
    "for song in song_title_tags:\n",
    "    song_title_missy = song.text\n",
    "    song_titles.append(song_title_missy)"
   ]
  },
  {
   "cell_type": "code",
   "execution_count": 41,
   "metadata": {},
   "outputs": [
    {
     "data": {
      "text/plain": [
       "['\\n              Intro/Go To The Floor\\n              Lyrics\\n',\n",
       " '\\n              Bring the Pain (Ft.\\xa0Method\\xa0Man)\\n              Lyrics\\n',\n",
       " '\\n              Gossip Folks (Ft.\\xa0Ludacris)\\n              Lyrics\\n',\n",
       " '\\n              Work It\\n              Lyrics\\n',\n",
       " '\\n              Back in the Day (Ft.\\xa0JAY-Z)\\n              Lyrics\\n',\n",
       " '\\n              Funky Fresh Dressed (Ft.\\xa0Ms.\\xa0Jade)\\n              Lyrics\\n',\n",
       " '\\n              Pussycat\\n              Lyrics\\n',\n",
       " '\\n              Nothing Out There for Me (Ft.\\xa0Beyoncé)\\n              Lyrics\\n',\n",
       " '\\n              Slide\\n              Lyrics\\n',\n",
       " '\\n              Play That Beat\\n              Lyrics\\n',\n",
       " \"\\n              Ain't That Funny\\n              Lyrics\\n\",\n",
       " '\\n              Hot\\n              Lyrics\\n',\n",
       " '\\n              Can You Hear Me (Ft.\\xa0TLC)\\n              Lyrics\\n',\n",
       " '\\n              Work It (Remix) (Ft.\\xa050\\xa0Cent)\\n              Lyrics\\n',\n",
       " '\\n              Drop the Bomb\\n              Lyrics\\n',\n",
       " 'Does this album have any certifications?',\n",
       " 'How did this album chart?',\n",
       " 'ICONOLOGY',\n",
       " 'Misdemeanor']"
      ]
     },
     "execution_count": 41,
     "metadata": {},
     "output_type": "execute_result"
    }
   ],
   "source": [
    "song_titles"
   ]
  },
  {
   "cell_type": "code",
   "execution_count": 42,
   "metadata": {},
   "outputs": [],
   "source": [
    "missy_song_titles = [song.text for song in song_title_tags]"
   ]
  },
  {
   "cell_type": "code",
   "execution_count": 43,
   "metadata": {},
   "outputs": [
    {
     "data": {
      "text/plain": [
       "['\\n              Intro/Go To The Floor\\n              Lyrics\\n',\n",
       " '\\n              Bring the Pain (Ft.\\xa0Method\\xa0Man)\\n              Lyrics\\n',\n",
       " '\\n              Gossip Folks (Ft.\\xa0Ludacris)\\n              Lyrics\\n',\n",
       " '\\n              Work It\\n              Lyrics\\n',\n",
       " '\\n              Back in the Day (Ft.\\xa0JAY-Z)\\n              Lyrics\\n',\n",
       " '\\n              Funky Fresh Dressed (Ft.\\xa0Ms.\\xa0Jade)\\n              Lyrics\\n',\n",
       " '\\n              Pussycat\\n              Lyrics\\n',\n",
       " '\\n              Nothing Out There for Me (Ft.\\xa0Beyoncé)\\n              Lyrics\\n',\n",
       " '\\n              Slide\\n              Lyrics\\n',\n",
       " '\\n              Play That Beat\\n              Lyrics\\n',\n",
       " \"\\n              Ain't That Funny\\n              Lyrics\\n\",\n",
       " '\\n              Hot\\n              Lyrics\\n',\n",
       " '\\n              Can You Hear Me (Ft.\\xa0TLC)\\n              Lyrics\\n',\n",
       " '\\n              Work It (Remix) (Ft.\\xa050\\xa0Cent)\\n              Lyrics\\n',\n",
       " '\\n              Drop the Bomb\\n              Lyrics\\n',\n",
       " 'Does this album have any certifications?',\n",
       " 'How did this album chart?',\n",
       " 'ICONOLOGY',\n",
       " 'Misdemeanor']"
      ]
     },
     "execution_count": 43,
     "metadata": {},
     "output_type": "execute_result"
    }
   ],
   "source": [
    "missy_song_titles"
   ]
  },
  {
   "cell_type": "code",
   "execution_count": 44,
   "metadata": {},
   "outputs": [],
   "source": [
    "song_title_tags = document.find_all(\"h3\", attrs={\"class\": \"chart_row-content-title\"})"
   ]
  },
  {
   "cell_type": "code",
   "execution_count": 45,
   "metadata": {},
   "outputs": [],
   "source": [
    "#https://melaniewalsh.github.io/Intro-Cultural-Analytics/04-Data-Collection/03-Web-Scraping-Part2.html"
   ]
  },
  {
   "cell_type": "code",
   "execution_count": 46,
   "metadata": {},
   "outputs": [],
   "source": [
    "def clean_up(song_title):\n",
    "\n",
    "    if \"Ft\" in song_title:\n",
    "        before_ft_pattern = re.compile(\".*(?=\\(Ft)\")\n",
    "        song_title_before_ft = before_ft_pattern.search(song_title).group(0)\n",
    "        clean_song_title = song_title_before_ft.strip()\n",
    "    \n",
    "    else:\n",
    "        song_title_no_lyrics = song_title.replace(\"Lyrics\", \"\")\n",
    "        clean_song_title = song_title_no_lyrics.strip()\n",
    "    \n",
    "    return clean_song_title"
   ]
  },
  {
   "cell_type": "code",
   "execution_count": 47,
   "metadata": {},
   "outputs": [
    {
     "data": {
      "text/plain": [
       "['Intro/Go To The Floor',\n",
       " 'Bring the Pain',\n",
       " 'Gossip Folks',\n",
       " 'Work It',\n",
       " 'Back in the Day',\n",
       " 'Funky Fresh Dressed',\n",
       " 'Pussycat',\n",
       " 'Nothing Out There for Me',\n",
       " 'Slide',\n",
       " 'Play That Beat',\n",
       " \"Ain't That Funny\",\n",
       " 'Hot',\n",
       " 'Can You Hear Me',\n",
       " 'Work It (Remix)',\n",
       " 'Drop the Bomb',\n",
       " 'Does this album have any certifications?',\n",
       " 'How did this album chart?',\n",
       " 'ICONOLOGY',\n",
       " 'Misdemeanor']"
      ]
     },
     "execution_count": 47,
     "metadata": {},
     "output_type": "execute_result"
    }
   ],
   "source": [
    "[clean_up(song) for song in missy_song_titles]"
   ]
  },
  {
   "cell_type": "code",
   "execution_count": 48,
   "metadata": {},
   "outputs": [],
   "source": [
    "def get_all_songs_from_album(artist, album_name):\n",
    "    \n",
    "    artist = artist.replace(\" \", \"-\")\n",
    "    album_name = album_name.replace(\" \", \"-\")\n",
    "    \n",
    "    response = requests.get(f\"https://genius.com/albums/{artist}/{album_name}\")\n",
    "    html_string = response.text\n",
    "    document = BeautifulSoup(html_string, \"html.parser\")\n",
    "    song_title_tags = document.find_all(\"h3\", attrs={\"class\": \"chart_row-content-title\"})\n",
    "    song_titles = [song_title.text for song_title in song_title_tags]\n",
    "    \n",
    "    clean_songs = []\n",
    "    for song_title in song_titles:\n",
    "        clean_song = clean_up(song_title)\n",
    "        clean_songs.append(clean_song)\n",
    "        \n",
    "    return clean_songs"
   ]
  },
  {
   "cell_type": "code",
   "execution_count": 49,
   "metadata": {},
   "outputs": [
    {
     "data": {
      "text/plain": [
       "['Pray You Catch Me',\n",
       " 'Hold Up',\n",
       " \"Don't Hurt Yourself\",\n",
       " 'Sorry',\n",
       " '6 Inch',\n",
       " 'Daddy Lessons',\n",
       " 'Love Drought',\n",
       " 'Sandcastles',\n",
       " 'Forward',\n",
       " 'Freedom',\n",
       " 'All Night',\n",
       " 'Formation',\n",
       " 'Lemonade Film (Script)']"
      ]
     },
     "execution_count": 49,
     "metadata": {},
     "output_type": "execute_result"
    }
   ],
   "source": [
    "get_all_songs_from_album('Beyonce', 'Lemonade')"
   ]
  },
  {
   "cell_type": "code",
   "execution_count": 50,
   "metadata": {},
   "outputs": [
    {
     "data": {
      "text/plain": [
       "['State of Grace',\n",
       " 'Red',\n",
       " 'Treacherous',\n",
       " 'I Knew You Were Trouble.',\n",
       " 'All Too Well',\n",
       " '22',\n",
       " 'I Almost Do',\n",
       " 'We Are Never Ever Getting Back Together',\n",
       " 'Stay Stay Stay',\n",
       " 'The Last Time',\n",
       " 'Holy Ground',\n",
       " 'Sad Beautiful Tragic',\n",
       " 'The Lucky One',\n",
       " 'Everything Has Changed',\n",
       " 'Starlight',\n",
       " 'Begin Again',\n",
       " 'The Moment I Knew',\n",
       " 'Come Back... Be Here',\n",
       " 'Girl at Home']"
      ]
     },
     "execution_count": 50,
     "metadata": {},
     "output_type": "execute_result"
    }
   ],
   "source": [
    "get_all_songs_from_album('Taylor Swift', 'Red')"
   ]
  },
  {
   "cell_type": "code",
   "execution_count": 51,
   "metadata": {},
   "outputs": [
    {
     "data": {
      "text/plain": [
       "['Geyser',\n",
       " \"Why Didn't You Stop Me?\",\n",
       " 'Old Friend',\n",
       " 'A Pearl',\n",
       " 'Lonesome Love',\n",
       " 'Remember My Name',\n",
       " 'Me and My Husband',\n",
       " 'Come Into the Water',\n",
       " 'Nobody',\n",
       " 'Pink in the Night',\n",
       " 'A Horse Named Cold Air',\n",
       " 'Washing Machine Heart',\n",
       " 'Blue Light',\n",
       " 'Two Slow Dancers']"
      ]
     },
     "execution_count": 51,
     "metadata": {},
     "output_type": "execute_result"
    }
   ],
   "source": [
    "get_all_songs_from_album('Mitski', 'Be The Cowboy')"
   ]
  },
  {
   "cell_type": "code",
   "execution_count": null,
   "metadata": {},
   "outputs": [],
   "source": []
  }
 ],
 "metadata": {
  "interpreter": {
   "hash": "97630161a1b63923bdd9a0aa586c344c3f95acdbb7ddd6c880d3dbef6642c2e8"
  },
  "kernelspec": {
   "display_name": "Python 3.9.9 64-bit ('DL': venv)",
   "name": "python3"
  },
  "language_info": {
   "codemirror_mode": {
    "name": "ipython",
    "version": 3
   },
   "file_extension": ".py",
   "mimetype": "text/x-python",
   "name": "python",
   "nbconvert_exporter": "python",
   "pygments_lexer": "ipython3",
   "version": "3.9.9"
  },
  "orig_nbformat": 4
 },
 "nbformat": 4,
 "nbformat_minor": 2
}
