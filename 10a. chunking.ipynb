{
 "cells": [
  {
   "cell_type": "code",
   "execution_count": 1,
   "metadata": {},
   "outputs": [],
   "source": [
    "import nltk\n",
    "#https://www.analyticsvidhya.com/blog/2021/10/what-is-chunking-in-natural-language-processing/\n",
    "#https://towardsdatascience.com/chunking-in-nlp-decoded-b4a71b2b4e24"
   ]
  },
  {
   "cell_type": "code",
   "execution_count": 2,
   "metadata": {},
   "outputs": [],
   "source": [
    "sample_text=\"\"\"\n",
    "Rama killed Ravana to save Sita from Lanka.The legend of the Ramayan is the most popular Indian epic.A lot of movies and serials have already\n",
    "been shot in several languages here in India based on the Ramayana.\n",
    "\"\"\""
   ]
  },
  {
   "cell_type": "code",
   "execution_count": 4,
   "metadata": {},
   "outputs": [],
   "source": [
    "tokenized=nltk.sent_tokenize(sample_text)\n",
    "for i in tokenized:\n",
    "  words=nltk.word_tokenize(i)\n",
    "  # print(words)\n",
    "  tagged_words=nltk.pos_tag(words)\n",
    "  # print(tagged_words)\n",
    "  chunkGram=r\"\"\"VB: {}\"\"\"\n",
    "  chunkParser=nltk.RegexpParser(chunkGram)\n",
    "  chunked=chunkParser.parse(tagged_words)\n",
    "  #chunked.draw()"
   ]
  },
  {
   "cell_type": "code",
   "execution_count": 7,
   "metadata": {},
   "outputs": [
    {
     "data": {
      "text/plain": [
       "[('Rama', 'NNP'),\n",
       " ('killed', 'VBD'),\n",
       " ('Ravana', 'NNP'),\n",
       " ('to', 'TO'),\n",
       " ('save', 'VB'),\n",
       " ('Sita', 'NNP'),\n",
       " ('from', 'IN'),\n",
       " ('Lanka.The', 'NNP'),\n",
       " ('legend', 'NN'),\n",
       " ('of', 'IN'),\n",
       " ('the', 'DT'),\n",
       " ('Ramayan', 'NNP'),\n",
       " ('is', 'VBZ'),\n",
       " ('the', 'DT'),\n",
       " ('most', 'RBS'),\n",
       " ('popular', 'JJ'),\n",
       " ('Indian', 'JJ'),\n",
       " ('epic.A', 'NN'),\n",
       " ('lot', 'NN'),\n",
       " ('of', 'IN'),\n",
       " ('movies', 'NNS'),\n",
       " ('and', 'CC'),\n",
       " ('serials', 'NNS'),\n",
       " ('have', 'VBP'),\n",
       " ('already', 'RB'),\n",
       " ('been', 'VBN'),\n",
       " ('shot', 'VBN'),\n",
       " ('in', 'IN'),\n",
       " ('several', 'JJ'),\n",
       " ('languages', 'NNS'),\n",
       " ('here', 'RB'),\n",
       " ('in', 'IN'),\n",
       " ('India', 'NNP'),\n",
       " ('based', 'VBN'),\n",
       " ('on', 'IN'),\n",
       " ('the', 'DT'),\n",
       " ('Ramayana', 'NNP'),\n",
       " ('.', '.')]"
      ]
     },
     "execution_count": 7,
     "metadata": {},
     "output_type": "execute_result"
    }
   ],
   "source": [
    "tagged_words"
   ]
  },
  {
   "cell_type": "code",
   "execution_count": 6,
   "metadata": {},
   "outputs": [
    {
     "name": "stdout",
     "output_type": "stream",
     "text": [
      "(S\n",
      "  Rama/NNP\n",
      "  killed/VBD\n",
      "  Ravana/NNP\n",
      "  to/TO\n",
      "  save/VB\n",
      "  Sita/NNP\n",
      "  from/IN\n",
      "  Lanka.The/NNP\n",
      "  legend/NN\n",
      "  of/IN\n",
      "  the/DT\n",
      "  Ramayan/NNP\n",
      "  is/VBZ\n",
      "  the/DT\n",
      "  most/RBS\n",
      "  popular/JJ\n",
      "  Indian/JJ\n",
      "  epic.A/NN\n",
      "  lot/NN\n",
      "  of/IN\n",
      "  movies/NNS\n",
      "  and/CC\n",
      "  serials/NNS\n",
      "  have/VBP\n",
      "  already/RB\n",
      "  been/VBN\n",
      "  shot/VBN\n",
      "  in/IN\n",
      "  several/JJ\n",
      "  languages/NNS\n",
      "  here/RB\n",
      "  in/IN\n",
      "  India/NNP\n",
      "  based/VBN\n",
      "  on/IN\n",
      "  the/DT\n",
      "  Ramayana/NNP\n",
      "  ./.)\n"
     ]
    }
   ],
   "source": [
    "print(chunked)"
   ]
  },
  {
   "cell_type": "code",
   "execution_count": null,
   "metadata": {},
   "outputs": [],
   "source": []
  }
 ],
 "metadata": {
  "interpreter": {
   "hash": "97630161a1b63923bdd9a0aa586c344c3f95acdbb7ddd6c880d3dbef6642c2e8"
  },
  "kernelspec": {
   "display_name": "Python 3.9.9 64-bit ('DL': venv)",
   "name": "python3"
  },
  "language_info": {
   "codemirror_mode": {
    "name": "ipython",
    "version": 3
   },
   "file_extension": ".py",
   "mimetype": "text/x-python",
   "name": "python",
   "nbconvert_exporter": "python",
   "pygments_lexer": "ipython3",
   "version": "3.9.9"
  },
  "orig_nbformat": 4
 },
 "nbformat": 4,
 "nbformat_minor": 2
}
