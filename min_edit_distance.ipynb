{
 "cells": [
  {
   "cell_type": "code",
   "execution_count": 1,
   "metadata": {},
   "outputs": [],
   "source": [
    "import numpy as np"
   ]
  },
  {
   "cell_type": "code",
   "execution_count": 2,
   "metadata": {},
   "outputs": [],
   "source": [
    "def min_ed_dis(target,source):\n",
    "    target =[k for k in target]\n",
    "    source=[k for k in source] \n",
    "    sol = np.zeros((len(source),len(target)))\n",
    "    sol[0]=[j for j in range(len(target))]\n",
    "    sol[:,0]=[j for j in range(len(source))]\n",
    "    if target[1] !=source[1]:\n",
    "       sol[1,1]=2\n",
    "    for c in range(1,len(target)):\n",
    "        for r in range(1,len(source)):\n",
    "            if target[c]!=source[r]:\n",
    "                sol[r,c]=min(sol[r-1,c],sol[r,c-1])+1\n",
    "            else:\n",
    "                sol[r,c]=sol[r-1,c-1]  \n",
    "    return sol  \n"
   ]
  },
  {
   "cell_type": "code",
   "execution_count": 3,
   "metadata": {},
   "outputs": [
    {
     "data": {
      "text/plain": [
       "array([[0., 1., 2., 3., 4.],\n",
       "       [1., 2., 3., 2., 3.],\n",
       "       [2., 3., 4., 3., 2.]])"
      ]
     },
     "execution_count": 3,
     "metadata": {},
     "output_type": "execute_result"
    }
   ],
   "source": [
    "min_ed_dis(\"#BCDE\",\"#DE\")"
   ]
  },
  {
   "cell_type": "code",
   "execution_count": 4,
   "metadata": {},
   "outputs": [
    {
     "data": {
      "text/plain": [
       "array([[0., 1., 2., 3., 4., 5., 6., 7.],\n",
       "       [1., 0., 1., 2., 3., 4., 5., 6.],\n",
       "       [2., 1., 0., 1., 2., 3., 4., 5.],\n",
       "       [3., 2., 1., 0., 1., 2., 3., 4.],\n",
       "       [4., 3., 2., 1., 0., 1., 2., 3.],\n",
       "       [5., 4., 3., 2., 1., 0., 1., 2.],\n",
       "       [6., 5., 4., 3., 2., 1., 0., 1.],\n",
       "       [7., 6., 5., 4., 3., 2., 1., 0.]])"
      ]
     },
     "execution_count": 4,
     "metadata": {},
     "output_type": "execute_result"
    }
   ],
   "source": [
    "min_ed_dis(\"#correct\",\"#correct\")"
   ]
  },
  {
   "cell_type": "code",
   "execution_count": null,
   "metadata": {},
   "outputs": [],
   "source": []
  }
 ],
 "metadata": {
  "interpreter": {
   "hash": "97630161a1b63923bdd9a0aa586c344c3f95acdbb7ddd6c880d3dbef6642c2e8"
  },
  "kernelspec": {
   "display_name": "Python 3.9.9 64-bit ('DL': venv)",
   "name": "python3"
  },
  "language_info": {
   "codemirror_mode": {
    "name": "ipython",
    "version": 3
   },
   "file_extension": ".py",
   "mimetype": "text/x-python",
   "name": "python",
   "nbconvert_exporter": "python",
   "pygments_lexer": "ipython3",
   "version": "3.9.9"
  },
  "orig_nbformat": 4
 },
 "nbformat": 4,
 "nbformat_minor": 2
}
