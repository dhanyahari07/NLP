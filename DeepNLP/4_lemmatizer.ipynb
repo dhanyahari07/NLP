{
  "nbformat": 4,
  "nbformat_minor": 0,
  "metadata": {
    "colab": {
      "name": "4. lemmatizer.ipynb",
      "provenance": [],
      "authorship_tag": "ABX9TyOw/zwmtiyw8UDaU3WufoTA"
    },
    "kernelspec": {
      "name": "python3",
      "display_name": "Python 3"
    },
    "language_info": {
      "name": "python"
    }
  },
  "cells": [
    {
      "cell_type": "code",
      "execution_count": null,
      "metadata": {
        "id": "O2dlIlQWKADu"
      },
      "outputs": [],
      "source": [
        "import nltk"
      ]
    },
    {
      "cell_type": "code",
      "source": [
        "string='''Books! And cleverness! There are more important things - friendship and bravery and - oh Harry - be careful!'''"
      ],
      "metadata": {
        "id": "xbXlP81nKHy_"
      },
      "execution_count": null,
      "outputs": []
    },
    {
      "cell_type": "code",
      "source": [
        "nltk.download('punkt')"
      ],
      "metadata": {
        "colab": {
          "base_uri": "https://localhost:8080/"
        },
        "id": "BhJ1DU45Kd4w",
        "outputId": "cd477a18-fd89-4a86-db9f-e7a09871dbe2"
      },
      "execution_count": null,
      "outputs": [
        {
          "output_type": "stream",
          "name": "stdout",
          "text": [
            "[nltk_data] Downloading package punkt to /root/nltk_data...\n",
            "[nltk_data]   Unzipping tokenizers/punkt.zip.\n"
          ]
        },
        {
          "output_type": "execute_result",
          "data": {
            "text/plain": [
              "True"
            ]
          },
          "metadata": {},
          "execution_count": 4
        }
      ]
    },
    {
      "cell_type": "code",
      "source": [
        "from nltk import sent_tokenize,word_tokenize\n",
        "sequences=sent_tokenize(string)\n",
        "sequences"
      ],
      "metadata": {
        "colab": {
          "base_uri": "https://localhost:8080/"
        },
        "id": "fDOGMvryKK9L",
        "outputId": "4e54c0f2-863f-407b-e0ea-7d7485ef1b10"
      },
      "execution_count": null,
      "outputs": [
        {
          "output_type": "execute_result",
          "data": {
            "text/plain": [
              "['Books!',\n",
              " 'And cleverness!',\n",
              " 'There are more important things - friendship and bravery and - oh Harry - be careful!']"
            ]
          },
          "metadata": {},
          "execution_count": 5
        }
      ]
    },
    {
      "cell_type": "code",
      "source": [
        "seq_tokens=[word_tokenize(seq) for seq in sequences]\n",
        "seq_tokens"
      ],
      "metadata": {
        "colab": {
          "base_uri": "https://localhost:8080/"
        },
        "id": "j9OD8dZsKas1",
        "outputId": "2fa52c71-9cf9-40ec-de81-4b1989032465"
      },
      "execution_count": null,
      "outputs": [
        {
          "output_type": "execute_result",
          "data": {
            "text/plain": [
              "[['Books', '!'],\n",
              " ['And', 'cleverness', '!'],\n",
              " ['There',\n",
              "  'are',\n",
              "  'more',\n",
              "  'important',\n",
              "  'things',\n",
              "  '-',\n",
              "  'friendship',\n",
              "  'and',\n",
              "  'bravery',\n",
              "  'and',\n",
              "  '-',\n",
              "  'oh',\n",
              "  'Harry',\n",
              "  '-',\n",
              "  'be',\n",
              "  'careful',\n",
              "  '!']]"
            ]
          },
          "metadata": {},
          "execution_count": 6
        }
      ]
    },
    {
      "cell_type": "code",
      "source": [
        "import string\n",
        "no_punct_seq_tokens=[]\n",
        "for seq_token in seq_tokens:\n",
        "  no_punct_seq_tokens.append([\n",
        "                              token for token in seq_token \n",
        "                              if token not in string.punctuation\n",
        "  ])"
      ],
      "metadata": {
        "id": "3l2sFvf4Ktvz"
      },
      "execution_count": null,
      "outputs": []
    },
    {
      "cell_type": "code",
      "source": [
        "no_punct_seq_tokens"
      ],
      "metadata": {
        "colab": {
          "base_uri": "https://localhost:8080/"
        },
        "id": "0DnSgNRdLrGK",
        "outputId": "914b9f24-b3bb-446e-82b4-7843f753b269"
      },
      "execution_count": null,
      "outputs": [
        {
          "output_type": "execute_result",
          "data": {
            "text/plain": [
              "[['Books'],\n",
              " ['And', 'cleverness'],\n",
              " ['There',\n",
              "  'are',\n",
              "  'more',\n",
              "  'important',\n",
              "  'things',\n",
              "  'friendship',\n",
              "  'and',\n",
              "  'bravery',\n",
              "  'and',\n",
              "  'oh',\n",
              "  'Harry',\n",
              "  'be',\n",
              "  'careful']]"
            ]
          },
          "metadata": {},
          "execution_count": 8
        }
      ]
    },
    {
      "cell_type": "code",
      "source": [
        "from nltk.stem.wordnet import WordNetLemmatizer\n",
        "from nltk.corpus import wordnet\n",
        "lm=WordNetLemmatizer()"
      ],
      "metadata": {
        "id": "jaLOuLxBL9Ya"
      },
      "execution_count": null,
      "outputs": []
    },
    {
      "cell_type": "code",
      "source": [
        "nltk.download('wordnet')"
      ],
      "metadata": {
        "colab": {
          "base_uri": "https://localhost:8080/"
        },
        "id": "NKDjAZnuM14Y",
        "outputId": "e7242f9d-b7f2-49c2-e8a0-563b02e80866"
      },
      "execution_count": null,
      "outputs": [
        {
          "output_type": "stream",
          "name": "stdout",
          "text": [
            "[nltk_data] Downloading package wordnet to /root/nltk_data...\n",
            "[nltk_data]   Unzipping corpora/wordnet.zip.\n"
          ]
        },
        {
          "output_type": "execute_result",
          "data": {
            "text/plain": [
              "True"
            ]
          },
          "metadata": {},
          "execution_count": 12
        }
      ]
    },
    {
      "cell_type": "code",
      "source": [
        "lemm_tokens=[lm.lemmatize(token) \n",
        "for seq in no_punct_seq_tokens for token in seq]"
      ],
      "metadata": {
        "id": "F7oBBQAaMjRW"
      },
      "execution_count": null,
      "outputs": []
    },
    {
      "cell_type": "code",
      "source": [
        "lemm_tokens"
      ],
      "metadata": {
        "colab": {
          "base_uri": "https://localhost:8080/"
        },
        "id": "EEqoEkhbMv0k",
        "outputId": "994aafaa-c262-40e2-ae92-f89624ee46fd"
      },
      "execution_count": null,
      "outputs": [
        {
          "output_type": "execute_result",
          "data": {
            "text/plain": [
              "['Books',\n",
              " 'And',\n",
              " 'cleverness',\n",
              " 'There',\n",
              " 'are',\n",
              " 'more',\n",
              " 'important',\n",
              " 'thing',\n",
              " 'friendship',\n",
              " 'and',\n",
              " 'bravery',\n",
              " 'and',\n",
              " 'oh',\n",
              " 'Harry',\n",
              " 'be',\n",
              " 'careful']"
            ]
          },
          "metadata": {},
          "execution_count": 19
        }
      ]
    },
    {
      "cell_type": "code",
      "source": [
        "from nltk.stem import PorterStemmer\n",
        "stemmer=PorterStemmer()\n",
        "\n",
        "stem_tokens=[stemmer.stem(token) \n",
        "for seq in no_punct_seq_tokens for token in seq]"
      ],
      "metadata": {
        "id": "gpFjO7_ZM8x6"
      },
      "execution_count": null,
      "outputs": []
    },
    {
      "cell_type": "code",
      "source": [
        "stem_tokens"
      ],
      "metadata": {
        "colab": {
          "base_uri": "https://localhost:8080/"
        },
        "id": "OAB4ibDJNxtk",
        "outputId": "6f242d02-bf46-4324-f1f0-c19ee455a3b1"
      },
      "execution_count": null,
      "outputs": [
        {
          "output_type": "execute_result",
          "data": {
            "text/plain": [
              "['book',\n",
              " 'and',\n",
              " 'clever',\n",
              " 'there',\n",
              " 'are',\n",
              " 'more',\n",
              " 'import',\n",
              " 'thing',\n",
              " 'friendship',\n",
              " 'and',\n",
              " 'braveri',\n",
              " 'and',\n",
              " 'oh',\n",
              " 'harri',\n",
              " 'be',\n",
              " 'care']"
            ]
          },
          "metadata": {},
          "execution_count": 17
        }
      ]
    },
    {
      "cell_type": "code",
      "source": [
        ""
      ],
      "metadata": {
        "id": "uIRuCWdDN2Ji"
      },
      "execution_count": null,
      "outputs": []
    }
  ]
}