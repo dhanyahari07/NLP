{
  "cells": [
    {
      "cell_type": "code",
      "execution_count": null,
      "metadata": {
        "id": "vVD0eP3ktYFh"
      },
      "outputs": [],
      "source": [
        "import nltk\n",
        "\n",
        "from gensim.models import Word2Vec\n",
        "from nltk.corpus import stopwords\n",
        "\n",
        "import re"
      ]
    },
    {
      "cell_type": "code",
      "execution_count": null,
      "metadata": {
        "id": "kHngBWoStYFn"
      },
      "outputs": [],
      "source": [
        "paragraph = \"\"\"I have three visions for India. In 3000 years of our history, people from all over \n",
        "               the world have come and invaded us, captured our lands, conquered our minds. \n",
        "               From Alexander onwards, the Greeks, the Turks, the Moguls, the Portuguese, the British,\n",
        "               the French, the Dutch, all of them came and looted us, took over what was ours. \n",
        "               Yet we have not done this to any other nation. We have not conquered anyone. \n",
        "               We have not grabbed their land, their culture, \n",
        "               their history and tried to enforce our way of life on them. \n",
        "               Why? Because we respect the freedom of others.That is why my \n",
        "               first vision is that of freedom. I believe that India got its first vision of \n",
        "               this in 1857, when we started the War of Independence. It is this freedom that\n",
        "               we must protect and nurture and build on. If we are not free, no one will respect us.\n",
        "               My second vision for India’s development. For fifty years we have been a developing nation.\n",
        "               It is time we see ourselves as a developed nation. We are among the top 5 nations of the world\n",
        "               in terms of GDP. We have a 10 percent growth rate in most areas. Our poverty levels are falling.\n",
        "               Our achievements are being globally recognised today. Yet we lack the self-confidence to\n",
        "               see ourselves as a developed nation, self-reliant and self-assured. Isn’t this incorrect?\n",
        "               I have a third vision. India must stand up to the world. Because I believe that unless India \n",
        "               stands up to the world, no one will respect us. Only strength respects strength. We must be \n",
        "               strong not only as a military power but also as an economic power. Both must go hand-in-hand. \n",
        "               My good fortune was to have worked with three great minds. Dr. Vikram Sarabhai of the Dept. of \n",
        "               space, Professor Satish Dhawan, who succeeded him and Dr. Brahm Prakash, father of nuclear material.\n",
        "               I was lucky to have worked with all three of them closely and consider this the great opportunity of my life. \n",
        "               I see four milestones in my career\"\"\""
      ]
    },
    {
      "cell_type": "code",
      "execution_count": null,
      "metadata": {
        "id": "eSFVAYWFtYFo"
      },
      "outputs": [],
      "source": [
        "# Preprocessing the data\n",
        "text = re.sub(r'\\[[0-9]*\\]',' ',paragraph)\n",
        "text = re.sub(r'\\s+',' ',text)\n",
        "text = text.lower()\n",
        "text = re.sub(r'\\d',' ',text)\n",
        "text = re.sub(r'\\s+',' ',text)"
      ]
    },
    {
      "cell_type": "code",
      "source": [
        "import nltk\n",
        "nltk.download('punkt')"
      ],
      "metadata": {
        "colab": {
          "base_uri": "https://localhost:8080/"
        },
        "id": "L8VAcgQvtpdc",
        "outputId": "620c7d95-ad83-46c9-ed15-beda6a1e60f5"
      },
      "execution_count": null,
      "outputs": [
        {
          "output_type": "stream",
          "name": "stdout",
          "text": [
            "[nltk_data] Downloading package punkt to /root/nltk_data...\n",
            "[nltk_data]   Unzipping tokenizers/punkt.zip.\n"
          ]
        },
        {
          "output_type": "execute_result",
          "data": {
            "text/plain": [
              "True"
            ]
          },
          "metadata": {},
          "execution_count": 5
        }
      ]
    },
    {
      "cell_type": "code",
      "source": [
        "nltk.download('stopwords')"
      ],
      "metadata": {
        "colab": {
          "base_uri": "https://localhost:8080/"
        },
        "id": "n0NNn-f4twZF",
        "outputId": "87c17080-2724-4395-e0a0-8de51568443b"
      },
      "execution_count": null,
      "outputs": [
        {
          "output_type": "stream",
          "name": "stdout",
          "text": [
            "[nltk_data] Downloading package stopwords to /root/nltk_data...\n",
            "[nltk_data]   Unzipping corpora/stopwords.zip.\n"
          ]
        },
        {
          "output_type": "execute_result",
          "data": {
            "text/plain": [
              "True"
            ]
          },
          "metadata": {},
          "execution_count": 10
        }
      ]
    },
    {
      "cell_type": "code",
      "execution_count": null,
      "metadata": {
        "id": "s_qnFR85tYFp"
      },
      "outputs": [],
      "source": [
        "# Preparing the dataset\n",
        "sentences = nltk.sent_tokenize(text)\n",
        "\n",
        "sentences = [nltk.word_tokenize(sentence) for sentence in sentences]"
      ]
    },
    {
      "cell_type": "code",
      "execution_count": null,
      "metadata": {
        "id": "cTUZO37dtYFq"
      },
      "outputs": [],
      "source": [
        "for i in range(len(sentences)):\n",
        "    sentences[i] = [word for word in sentences[i] if word not in stopwords.words('english')]"
      ]
    },
    {
      "cell_type": "code",
      "execution_count": null,
      "metadata": {
        "id": "gDBZlrzAtYFq"
      },
      "outputs": [],
      "source": [
        "# Training the Word2Vec model\n",
        "model = Word2Vec(sentences, min_count=1)"
      ]
    },
    {
      "cell_type": "code",
      "execution_count": null,
      "metadata": {
        "id": "4QYbbm3xtYFr"
      },
      "outputs": [],
      "source": [
        "# Finding Word Vectors\n",
        "vector = model.wv['war']"
      ]
    },
    {
      "cell_type": "code",
      "execution_count": null,
      "metadata": {
        "colab": {
          "base_uri": "https://localhost:8080/"
        },
        "id": "PChJwfRrtYFr",
        "outputId": "2f0faae0-745a-4e86-8460-f8ecd1272891"
      },
      "outputs": [
        {
          "output_type": "execute_result",
          "data": {
            "text/plain": [
              "array([-2.48555490e-03,  3.56871838e-04, -3.30158020e-03,  3.79979005e-03,\n",
              "       -1.35067385e-03, -1.25932950e-03, -1.39684556e-03,  4.72176261e-03,\n",
              "        5.35329105e-04,  3.76119092e-03,  1.53577304e-04,  5.52855025e-04,\n",
              "        2.94526946e-03, -4.55729198e-03, -3.19618126e-03, -7.99285364e-04,\n",
              "        2.44730944e-03,  4.35051089e-03, -4.40740632e-03,  1.92310393e-03,\n",
              "       -4.45087487e-03,  2.66357325e-03, -4.07743920e-03,  2.82870652e-03,\n",
              "       -4.82187280e-03,  4.91720811e-03, -2.31223856e-03,  4.10445128e-03,\n",
              "       -2.17226290e-04,  2.55422550e-03,  1.69750233e-03, -1.16191091e-04,\n",
              "       -1.72844878e-03,  2.56038766e-04, -1.64147878e-05, -4.76052333e-03,\n",
              "        3.04940296e-03,  4.23247041e-03, -9.10562405e-04, -4.97700821e-04,\n",
              "        1.01308906e-04,  9.20184713e-04, -1.33264705e-03, -5.26922755e-04,\n",
              "        2.73662456e-03,  2.79589719e-03, -4.02527954e-03,  3.98920663e-03,\n",
              "       -6.34366152e-05, -2.08015903e-03,  3.44220828e-03,  1.50150445e-03,\n",
              "       -8.41563626e-04,  1.64316315e-03,  4.40944918e-03, -3.57581209e-03,\n",
              "        3.91152920e-03,  4.80256462e-03, -1.56825443e-03,  2.33378052e-03,\n",
              "        4.24976600e-03, -3.54318647e-04,  3.21648363e-03, -2.54373939e-04,\n",
              "       -4.98544751e-03,  3.95756727e-03, -7.83444324e-04,  3.99723789e-03,\n",
              "        4.46046703e-03, -2.15931097e-03, -4.29751212e-03, -6.67288550e-04,\n",
              "        3.80892190e-03, -2.54707737e-03, -2.16284720e-03, -1.78609777e-03,\n",
              "        6.63033163e-04,  2.48179375e-03, -1.26920617e-03, -9.66958702e-04,\n",
              "       -2.54068407e-03, -3.53958947e-03, -3.07697570e-03, -3.68891959e-03,\n",
              "        1.78491778e-03,  4.69102710e-03, -2.52476847e-03, -1.62844127e-03,\n",
              "       -4.58892016e-03, -3.71870887e-03,  2.27246186e-04, -8.46620009e-04,\n",
              "        2.53762817e-03, -3.98695469e-03,  1.58551056e-03,  4.34743427e-03,\n",
              "       -3.75348493e-04, -2.46083364e-04,  2.92097637e-03,  2.05199886e-03],\n",
              "      dtype=float32)"
            ]
          },
          "metadata": {},
          "execution_count": 14
        }
      ],
      "source": [
        "vector"
      ]
    },
    {
      "cell_type": "code",
      "execution_count": null,
      "metadata": {
        "id": "WL0yuhAxtYFt"
      },
      "outputs": [],
      "source": [
        "# Most similar words\n",
        "similar = model.wv.most_similar('vikram')"
      ]
    },
    {
      "cell_type": "code",
      "execution_count": null,
      "metadata": {
        "colab": {
          "base_uri": "https://localhost:8080/"
        },
        "id": "quV9zGODtYFt",
        "outputId": "d4554dd0-fbac-46a7-9189-5034841e2640"
      },
      "outputs": [
        {
          "output_type": "execute_result",
          "data": {
            "text/plain": [
              "[('onwards', 0.3074471354484558),\n",
              " ('dhawan', 0.20613598823547363),\n",
              " ('years', 0.20591118931770325),\n",
              " ('india', 0.20200607180595398),\n",
              " ('fortune', 0.18909192085266113),\n",
              " ('lucky', 0.1836889684200287),\n",
              " ('one', 0.1648244857788086),\n",
              " ('life', 0.15462517738342285),\n",
              " ('top', 0.15370482206344604),\n",
              " ('got', 0.1497231274843216)]"
            ]
          },
          "metadata": {},
          "execution_count": 16
        }
      ],
      "source": [
        "similar"
      ]
    },
    {
      "cell_type": "code",
      "execution_count": null,
      "metadata": {
        "id": "vkn-eHGJtYFu"
      },
      "outputs": [],
      "source": [
        "# Most similar words\n",
        "similar = model.wv.most_similar('freedom')"
      ]
    },
    {
      "cell_type": "code",
      "execution_count": null,
      "metadata": {
        "colab": {
          "base_uri": "https://localhost:8080/"
        },
        "id": "5PzFCqsKtYFu",
        "outputId": "97575a74-14c3-4878-eef7-3f163198acb0"
      },
      "outputs": [
        {
          "output_type": "execute_result",
          "data": {
            "text/plain": [
              "[('succeeded', 0.26363980770111084),\n",
              " ('developing', 0.25658273696899414),\n",
              " ('professor', 0.2460523545742035),\n",
              " ('war', 0.20448951423168182),\n",
              " ('captured', 0.17178183794021606),\n",
              " ('second', 0.16986910998821259),\n",
              " ('consider', 0.1656341403722763),\n",
              " ('people', 0.1613602340221405),\n",
              " ('lands', 0.159479022026062),\n",
              " ('growth', 0.15237745642662048)]"
            ]
          },
          "metadata": {},
          "execution_count": 18
        }
      ],
      "source": [
        "similar"
      ]
    },
    {
      "cell_type": "code",
      "execution_count": null,
      "metadata": {
        "id": "AqsonU7ltYFv"
      },
      "outputs": [],
      "source": [
        ""
      ]
    }
  ],
  "metadata": {
    "interpreter": {
      "hash": "97630161a1b63923bdd9a0aa586c344c3f95acdbb7ddd6c880d3dbef6642c2e8"
    },
    "kernelspec": {
      "display_name": "Python 3.9.9 64-bit ('DL': venv)",
      "name": "python3"
    },
    "language_info": {
      "codemirror_mode": {
        "name": "ipython",
        "version": 3
      },
      "file_extension": ".py",
      "mimetype": "text/x-python",
      "name": "python",
      "nbconvert_exporter": "python",
      "pygments_lexer": "ipython3",
      "version": "3.9.9"
    },
    "orig_nbformat": 4,
    "colab": {
      "name": "14. word2vec_ex.ipynb",
      "provenance": [],
      "collapsed_sections": []
    }
  },
  "nbformat": 4,
  "nbformat_minor": 0
}