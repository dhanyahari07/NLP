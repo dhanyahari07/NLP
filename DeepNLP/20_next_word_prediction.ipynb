{
  "nbformat": 4,
  "nbformat_minor": 0,
  "metadata": {
    "colab": {
      "name": "20. next_word_prediction.ipynb",
      "provenance": [],
      "collapsed_sections": [],
      "authorship_tag": "ABX9TyNdSJSlG9dBAlsST5DZ6zZG"
    },
    "kernelspec": {
      "name": "python3",
      "display_name": "Python 3"
    },
    "language_info": {
      "name": "python"
    }
  },
  "cells": [
    {
      "cell_type": "markdown",
      "source": [
        "# https://www.youtube.com/watch?v=35tu6XnRkH0"
      ],
      "metadata": {
        "id": "tv1x6kAhZl8P"
      }
    },
    {
      "cell_type": "code",
      "execution_count": null,
      "metadata": {
        "id": "uw-vTkrrSoDy"
      },
      "outputs": [],
      "source": [
        "from numpy import array\n",
        "from keras.preprocessing.text import Tokenizer\n",
        "from tensorflow.keras.utils import to_categorical\n",
        "from keras.models import Sequential\n",
        "from keras.layers import Dense,LSTM,Embedding"
      ]
    },
    {
      "cell_type": "code",
      "source": [
        "data =\"\"\"microsoft technologies is a leading software development company\\n\n",
        "microsoft technologies provide training to working preofessional an students\\n\n",
        "we are product based and service based company\\n\n",
        "we have one of our office in IT park, Bangalore\"\"\""
      ],
      "metadata": {
        "id": "BEqUKB6STKwo"
      },
      "execution_count": null,
      "outputs": []
    },
    {
      "cell_type": "code",
      "source": [
        "tokenizer = Tokenizer()\n",
        "tokenizer.fit_on_texts([data])\n",
        "encoded_data=tokenizer.texts_to_sequences([data])[0]\n",
        "encoded_data"
      ],
      "metadata": {
        "colab": {
          "base_uri": "https://localhost:8080/"
        },
        "id": "bWxzuc6CTo6Q",
        "outputId": "0b860fc2-30dc-45a9-8997-a34b4a45a5b5"
      },
      "execution_count": null,
      "outputs": [
        {
          "output_type": "execute_result",
          "data": {
            "text/plain": [
              "[1,\n",
              " 2,\n",
              " 6,\n",
              " 7,\n",
              " 8,\n",
              " 9,\n",
              " 10,\n",
              " 3,\n",
              " 1,\n",
              " 2,\n",
              " 11,\n",
              " 12,\n",
              " 13,\n",
              " 14,\n",
              " 15,\n",
              " 16,\n",
              " 17,\n",
              " 4,\n",
              " 18,\n",
              " 19,\n",
              " 5,\n",
              " 20,\n",
              " 21,\n",
              " 5,\n",
              " 3,\n",
              " 4,\n",
              " 22,\n",
              " 23,\n",
              " 24,\n",
              " 25,\n",
              " 26,\n",
              " 27,\n",
              " 28,\n",
              " 29,\n",
              " 30]"
            ]
          },
          "metadata": {},
          "execution_count": 4
        }
      ]
    },
    {
      "cell_type": "code",
      "source": [
        "# determine the vocabulary size\n",
        "vocab_size=len(tokenizer.word_index)+1\n",
        "vocab_size"
      ],
      "metadata": {
        "colab": {
          "base_uri": "https://localhost:8080/"
        },
        "id": "vpXFYDTVT7bC",
        "outputId": "b369a483-6862-4485-c661-0655b8534757"
      },
      "execution_count": null,
      "outputs": [
        {
          "output_type": "execute_result",
          "data": {
            "text/plain": [
              "31"
            ]
          },
          "metadata": {},
          "execution_count": 5
        }
      ]
    },
    {
      "cell_type": "code",
      "source": [
        "# training data one word input, one word as output\n",
        "sequences = list()\n",
        "for i in range(1, len(encoded_data)):\n",
        "\n",
        "  sequence=encoded_data[i-1:i+1]\n",
        "  sequences.append(sequence)\n",
        "len(sequences)"
      ],
      "metadata": {
        "colab": {
          "base_uri": "https://localhost:8080/"
        },
        "id": "mtIbCS4oUPOH",
        "outputId": "b792fdd8-165a-4ef9-e5fd-18fcdf1a3ba6"
      },
      "execution_count": null,
      "outputs": [
        {
          "output_type": "execute_result",
          "data": {
            "text/plain": [
              "34"
            ]
          },
          "metadata": {},
          "execution_count": 8
        }
      ]
    },
    {
      "cell_type": "code",
      "source": [
        "sequences"
      ],
      "metadata": {
        "colab": {
          "base_uri": "https://localhost:8080/"
        },
        "id": "3sPdORvnUoFm",
        "outputId": "a250916d-cf40-4f61-9d9e-ab9c89b56edc"
      },
      "execution_count": null,
      "outputs": [
        {
          "output_type": "execute_result",
          "data": {
            "text/plain": [
              "[[1, 2],\n",
              " [2, 6],\n",
              " [6, 7],\n",
              " [7, 8],\n",
              " [8, 9],\n",
              " [9, 10],\n",
              " [10, 3],\n",
              " [3, 1],\n",
              " [1, 2],\n",
              " [2, 11],\n",
              " [11, 12],\n",
              " [12, 13],\n",
              " [13, 14],\n",
              " [14, 15],\n",
              " [15, 16],\n",
              " [16, 17],\n",
              " [17, 4],\n",
              " [4, 18],\n",
              " [18, 19],\n",
              " [19, 5],\n",
              " [5, 20],\n",
              " [20, 21],\n",
              " [21, 5],\n",
              " [5, 3],\n",
              " [3, 4],\n",
              " [4, 22],\n",
              " [22, 23],\n",
              " [23, 24],\n",
              " [24, 25],\n",
              " [25, 26],\n",
              " [26, 27],\n",
              " [27, 28],\n",
              " [28, 29],\n",
              " [29, 30]]"
            ]
          },
          "metadata": {},
          "execution_count": 9
        }
      ]
    },
    {
      "cell_type": "code",
      "source": [
        "sequences=array(sequences)\n",
        "X,y=sequences[:,0],sequences[:,1]"
      ],
      "metadata": {
        "id": "MzwIBZqwU3cE"
      },
      "execution_count": null,
      "outputs": []
    },
    {
      "cell_type": "code",
      "source": [
        "X[:5]"
      ],
      "metadata": {
        "colab": {
          "base_uri": "https://localhost:8080/"
        },
        "id": "jq5eHJm8VEKU",
        "outputId": "be965182-dd73-4e01-e6ae-a6b0af6d3e5a"
      },
      "execution_count": null,
      "outputs": [
        {
          "output_type": "execute_result",
          "data": {
            "text/plain": [
              "array([1, 2, 6, 7, 8])"
            ]
          },
          "metadata": {},
          "execution_count": 12
        }
      ]
    },
    {
      "cell_type": "code",
      "source": [
        "y[:5]"
      ],
      "metadata": {
        "colab": {
          "base_uri": "https://localhost:8080/"
        },
        "id": "KYwNBLYrVGWu",
        "outputId": "651cabcf-4996-4ec6-fb27-6bcb221c6541"
      },
      "execution_count": null,
      "outputs": [
        {
          "output_type": "execute_result",
          "data": {
            "text/plain": [
              "array([2, 6, 7, 8, 9])"
            ]
          },
          "metadata": {},
          "execution_count": 13
        }
      ]
    },
    {
      "cell_type": "code",
      "source": [
        "y=to_categorical(y,num_classes=vocab_size)\n",
        "y[:5]"
      ],
      "metadata": {
        "colab": {
          "base_uri": "https://localhost:8080/"
        },
        "id": "xxPBFXeKVJl_",
        "outputId": "afc8162f-3f1b-4bff-e9d2-be7064ca538a"
      },
      "execution_count": null,
      "outputs": [
        {
          "output_type": "execute_result",
          "data": {
            "text/plain": [
              "array([[0., 0., 1., 0., 0., 0., 0., 0., 0., 0., 0., 0., 0., 0., 0., 0.,\n",
              "        0., 0., 0., 0., 0., 0., 0., 0., 0., 0., 0., 0., 0., 0., 0.],\n",
              "       [0., 0., 0., 0., 0., 0., 1., 0., 0., 0., 0., 0., 0., 0., 0., 0.,\n",
              "        0., 0., 0., 0., 0., 0., 0., 0., 0., 0., 0., 0., 0., 0., 0.],\n",
              "       [0., 0., 0., 0., 0., 0., 0., 1., 0., 0., 0., 0., 0., 0., 0., 0.,\n",
              "        0., 0., 0., 0., 0., 0., 0., 0., 0., 0., 0., 0., 0., 0., 0.],\n",
              "       [0., 0., 0., 0., 0., 0., 0., 0., 1., 0., 0., 0., 0., 0., 0., 0.,\n",
              "        0., 0., 0., 0., 0., 0., 0., 0., 0., 0., 0., 0., 0., 0., 0.],\n",
              "       [0., 0., 0., 0., 0., 0., 0., 0., 0., 1., 0., 0., 0., 0., 0., 0.,\n",
              "        0., 0., 0., 0., 0., 0., 0., 0., 0., 0., 0., 0., 0., 0., 0.]],\n",
              "      dtype=float32)"
            ]
          },
          "metadata": {},
          "execution_count": 14
        }
      ]
    },
    {
      "cell_type": "code",
      "source": [
        "model=Sequential()\n",
        "model.add(Embedding(vocab_size,10,input_length=1))\n",
        "model.add(LSTM(50))\n",
        "model.add(Dense(vocab_size,activation='softmax'))\n",
        "model.summary()"
      ],
      "metadata": {
        "colab": {
          "base_uri": "https://localhost:8080/"
        },
        "id": "thuiRYrvVSi3",
        "outputId": "bc01b3e9-8318-45d1-9b9d-770633951dc7"
      },
      "execution_count": null,
      "outputs": [
        {
          "output_type": "stream",
          "name": "stdout",
          "text": [
            "Model: \"sequential_1\"\n",
            "_________________________________________________________________\n",
            " Layer (type)                Output Shape              Param #   \n",
            "=================================================================\n",
            " embedding (Embedding)       (None, 1, 10)             310       \n",
            "                                                                 \n",
            " lstm (LSTM)                 (None, 50)                12200     \n",
            "                                                                 \n",
            " dense (Dense)               (None, 31)                1581      \n",
            "                                                                 \n",
            "=================================================================\n",
            "Total params: 14,091\n",
            "Trainable params: 14,091\n",
            "Non-trainable params: 0\n",
            "_________________________________________________________________\n"
          ]
        }
      ]
    },
    {
      "cell_type": "code",
      "source": [
        "model.compile(loss='categorical_crossentropy',optimizer='adam',metrics=['accuracy'])"
      ],
      "metadata": {
        "id": "eMicOxQgV1NS"
      },
      "execution_count": null,
      "outputs": []
    },
    {
      "cell_type": "code",
      "source": [
        "model.fit(X,y,epochs=20)"
      ],
      "metadata": {
        "colab": {
          "base_uri": "https://localhost:8080/"
        },
        "id": "G64diFTgWHrL",
        "outputId": "f2e26ada-156f-4590-cbc4-1201a1131b36"
      },
      "execution_count": null,
      "outputs": [
        {
          "output_type": "stream",
          "name": "stdout",
          "text": [
            "Epoch 1/20\n",
            "2/2 [==============================] - 3s 12ms/step - loss: 3.4338 - accuracy: 0.0294\n",
            "Epoch 2/20\n",
            "2/2 [==============================] - 0s 9ms/step - loss: 3.4328 - accuracy: 0.0882\n",
            "Epoch 3/20\n",
            "2/2 [==============================] - 0s 11ms/step - loss: 3.4321 - accuracy: 0.1176\n",
            "Epoch 4/20\n",
            "2/2 [==============================] - 0s 17ms/step - loss: 3.4314 - accuracy: 0.1176\n",
            "Epoch 5/20\n",
            "2/2 [==============================] - 0s 12ms/step - loss: 3.4308 - accuracy: 0.1176\n",
            "Epoch 6/20\n",
            "2/2 [==============================] - 0s 13ms/step - loss: 3.4302 - accuracy: 0.1471\n",
            "Epoch 7/20\n",
            "2/2 [==============================] - 0s 12ms/step - loss: 3.4297 - accuracy: 0.1471\n",
            "Epoch 8/20\n",
            "2/2 [==============================] - 0s 11ms/step - loss: 3.4291 - accuracy: 0.1471\n",
            "Epoch 9/20\n",
            "2/2 [==============================] - 0s 12ms/step - loss: 3.4286 - accuracy: 0.1176\n",
            "Epoch 10/20\n",
            "2/2 [==============================] - 0s 13ms/step - loss: 3.4280 - accuracy: 0.1176\n",
            "Epoch 11/20\n",
            "2/2 [==============================] - 0s 16ms/step - loss: 3.4274 - accuracy: 0.1176\n",
            "Epoch 12/20\n",
            "2/2 [==============================] - 0s 15ms/step - loss: 3.4269 - accuracy: 0.1176\n",
            "Epoch 13/20\n",
            "2/2 [==============================] - 0s 11ms/step - loss: 3.4263 - accuracy: 0.1176\n",
            "Epoch 14/20\n",
            "2/2 [==============================] - 0s 10ms/step - loss: 3.4257 - accuracy: 0.1176\n",
            "Epoch 15/20\n",
            "2/2 [==============================] - 0s 13ms/step - loss: 3.4251 - accuracy: 0.1471\n",
            "Epoch 16/20\n",
            "2/2 [==============================] - 0s 11ms/step - loss: 3.4246 - accuracy: 0.1471\n",
            "Epoch 17/20\n",
            "2/2 [==============================] - 0s 10ms/step - loss: 3.4240 - accuracy: 0.1471\n",
            "Epoch 18/20\n",
            "2/2 [==============================] - 0s 13ms/step - loss: 3.4234 - accuracy: 0.1471\n",
            "Epoch 19/20\n",
            "2/2 [==============================] - 0s 11ms/step - loss: 3.4228 - accuracy: 0.1471\n",
            "Epoch 20/20\n",
            "2/2 [==============================] - 0s 13ms/step - loss: 3.4221 - accuracy: 0.1471\n"
          ]
        },
        {
          "output_type": "execute_result",
          "data": {
            "text/plain": [
              "<keras.callbacks.History at 0x7f3ead1cd110>"
            ]
          },
          "metadata": {},
          "execution_count": 20
        }
      ]
    },
    {
      "cell_type": "code",
      "source": [
        "def generate_seq(model, tokenizer, enter_text,n_pred):\n",
        "  in_text,result=enter_text,enter_text\n",
        "  for _ in range(n_pred):\n",
        "    encoded=tokenizer.texts_to_sequences([in_text])[0]\n",
        "    encoded=array(encoded)\n",
        "\n",
        "    predict_x=model.predict(encoded)\n",
        "    yhat=np.argmax(predict_x,axis=1)\n",
        "    out_word=''\n",
        "    for word,index in tokenizer.word_index.items():\n",
        "      if index==yhat:\n",
        "        out_word=word\n",
        "        break\n",
        "    in_text,result=out_word,result+ ' '+out_word\n",
        "  return result"
      ],
      "metadata": {
        "id": "C0Nz10H-WLIW"
      },
      "execution_count": null,
      "outputs": []
    },
    {
      "cell_type": "code",
      "source": [
        "import numpy as np\n",
        "print(generate_seq(model,tokenizer,'microsoft',6))"
      ],
      "metadata": {
        "colab": {
          "base_uri": "https://localhost:8080/"
        },
        "id": "5bTevEGZX6CA",
        "outputId": "e5d4fea2-b7c4-4917-9e50-ee5bd3ce0fca"
      },
      "execution_count": null,
      "outputs": [
        {
          "output_type": "stream",
          "name": "stdout",
          "text": [
            "microsoft based company based company based company\n"
          ]
        }
      ]
    },
    {
      "cell_type": "code",
      "source": [
        "print(generate_seq(model,tokenizer,'service',6))"
      ],
      "metadata": {
        "colab": {
          "base_uri": "https://localhost:8080/"
        },
        "id": "6S7MXx1QYDdU",
        "outputId": "58a08503-b239-443d-bce5-9c08d2bcfaa4"
      },
      "execution_count": null,
      "outputs": [
        {
          "output_type": "stream",
          "name": "stdout",
          "text": [
            "service based company based company based company\n"
          ]
        }
      ]
    },
    {
      "cell_type": "code",
      "source": [
        ""
      ],
      "metadata": {
        "id": "TzrrgDR6YoWw"
      },
      "execution_count": null,
      "outputs": []
    }
  ]
}