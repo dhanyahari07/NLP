{
  "nbformat": 4,
  "nbformat_minor": 0,
  "metadata": {
    "colab": {
      "name": "14.fast_text.ipynb",
      "provenance": [],
      "collapsed_sections": [],
      "mount_file_id": "1TTfSry-Elz46QwGoqUokOUJ2fWpZ438t",
      "authorship_tag": "ABX9TyNMegknE1C7ZcbzR5BFaUzQ"
    },
    "kernelspec": {
      "name": "python3",
      "display_name": "Python 3"
    },
    "language_info": {
      "name": "python"
    }
  },
  "cells": [
    {
      "cell_type": "markdown",
      "source": [
        "https://thinkinfi.com/fasttext-word-embeddings-python-implementation/#:~:text=FastText%20(an%20extension%20of%20word2vec,still%20shared%20with%20other%20words."
      ],
      "metadata": {
        "id": "CIqC4q9wV6Ft"
      }
    },
    {
      "cell_type": "code",
      "source": [
        "#https://thinkinfi.com/fasttext-word-embeddings-python-implementation/#:~:text=FastText%20(an%20extension%20of%20word2vec,still%20shared%20with%20other%20words."
      ],
      "metadata": {
        "id": "TvM-AmirWAnH"
      },
      "execution_count": null,
      "outputs": []
    },
    {
      "cell_type": "code",
      "execution_count": null,
      "metadata": {
        "id": "zUCQegjtSSpc"
      },
      "outputs": [],
      "source": [
        "import pandas as pd\n",
        "import numpy as np\n",
        "import re\n",
        "from tqdm import tqdm\n",
        " \n",
        "import nltk\n",
        "en_stop = set(nltk.corpus.stopwords.words('english'))\n",
        " \n",
        "from gensim.models.fasttext import FastText\n",
        " \n",
        "from sklearn.decomposition import PCA\n",
        "from sklearn.manifold import TSNE\n",
        "import seaborn as sns\n",
        "import matplotlib.pyplot as plt\n",
        " \n",
        "# Lemmatization\n",
        "from nltk.stem import WordNetLemmatizer\n",
        "stemmer = WordNetLemmatizer()"
      ]
    },
    {
      "cell_type": "code",
      "source": [
        "import nltk\n",
        "nltk.download('stopwords')"
      ],
      "metadata": {
        "colab": {
          "base_uri": "https://localhost:8080/"
        },
        "id": "vBLRw4uLSa96",
        "outputId": "ac81162d-8381-461a-c617-285857ace802"
      },
      "execution_count": null,
      "outputs": [
        {
          "output_type": "stream",
          "name": "stdout",
          "text": [
            "[nltk_data] Downloading package stopwords to /root/nltk_data...\n",
            "[nltk_data]   Unzipping corpora/stopwords.zip.\n"
          ]
        },
        {
          "output_type": "execute_result",
          "data": {
            "text/plain": [
              "True"
            ]
          },
          "metadata": {},
          "execution_count": 2
        }
      ]
    },
    {
      "cell_type": "code",
      "source": [
        "#https://www.kaggle.com/datasets/yelp-dataset/yelp-dataset?select=yelp_academic_dataset_tip.json\n",
        "# Read yelp review tip dataset\n",
        "yelp_df = pd.read_json(\"/content/drive/MyDrive/MSc DS_NLP/yelp_academic_dataset_tip.json\", lines=True)\n",
        " \n",
        "print('List of all columns')\n",
        "print(list(yelp_df))\n",
        " \n",
        "# Checking for missing values in our dataframe\n",
        "# No there is no missing value\n",
        "yelp_df.isnull().sum()"
      ],
      "metadata": {
        "colab": {
          "base_uri": "https://localhost:8080/"
        },
        "id": "_r6f9ghZSVBz",
        "outputId": "c9ff11f8-5dd1-46b8-dfb4-049118e1f84e"
      },
      "execution_count": null,
      "outputs": [
        {
          "output_type": "stream",
          "name": "stdout",
          "text": [
            "List of all columns\n",
            "['user_id', 'business_id', 'text', 'date', 'compliment_count']\n"
          ]
        },
        {
          "output_type": "execute_result",
          "data": {
            "text/plain": [
              "user_id             0\n",
              "business_id         0\n",
              "text                0\n",
              "date                0\n",
              "compliment_count    0\n",
              "dtype: int64"
            ]
          },
          "metadata": {},
          "execution_count": 4
        }
      ]
    },
    {
      "cell_type": "code",
      "source": [
        "# Subset data for gensim fastText model\n",
        "all_sent = list(yelp_df['text'])\n",
        "some_sent = all_sent[0:10000]\n",
        "some_sent[0:10]"
      ],
      "metadata": {
        "colab": {
          "base_uri": "https://localhost:8080/"
        },
        "id": "YhY4iLNeTW5D",
        "outputId": "a19b6a28-46ed-410f-9457-6966cf3d07d4"
      },
      "execution_count": null,
      "outputs": [
        {
          "output_type": "execute_result",
          "data": {
            "text/plain": [
              "['Avengers time with the ladies.',\n",
              " 'They have lots of good deserts and tasty cuban sandwiches',\n",
              " \"It's open even when you think it isn't\",\n",
              " 'Very decent fried chicken',\n",
              " 'Appetizers.. platter special for lunch',\n",
              " 'Chili Cup + Single Cheeseburger with onion, pickle, and relish + Vanilla Coca-Cola...so far.',\n",
              " \"Saturday, Dec 7th 2013, ride Patco's Silver Sleigh w/ Santa & his elves on a decorated train into Center City. Trains leave from Lindenwold at 10am, 11:15am, & 12:30pm, and make all stops. Great for kids!\",\n",
              " 'This is probably the best place in the cool Springs area to watch a game and eat',\n",
              " 'Tacos',\n",
              " 'Starbucks substitute in boring downtown Tampa. Ugh. Never again!']"
            ]
          },
          "metadata": {},
          "execution_count": 5
        }
      ]
    },
    {
      "cell_type": "code",
      "source": [
        "# Text cleaning function for gensim fastText word embeddings in python\n",
        "def process_text(document):\n",
        "     \n",
        "            # Remove extra white space from text\n",
        "        document = re.sub(r'\\s+', ' ', document, flags=re.I)\n",
        "         \n",
        "        # Remove all the special characters from text\n",
        "        document = re.sub(r'\\W', ' ', str(document))\n",
        " \n",
        "        # Remove all single characters from text\n",
        "        document = re.sub(r'\\s+[a-zA-Z]\\s+', ' ', document)\n",
        " \n",
        "        # Converting to Lowercase\n",
        "        document = document.lower()\n",
        " \n",
        "        # Word tokenization       \n",
        "        tokens = document.split()\n",
        "        # Lemmatization using NLTK\n",
        "        lemma_txt = [stemmer.lemmatize(word) for word in tokens]\n",
        "        # Remove stop words\n",
        "        lemma_no_stop_txt = [word for word in lemma_txt if word not in en_stop]\n",
        "        # Drop words \n",
        "        tokens = [word for word in tokens if len(word) > 3]\n",
        "                 \n",
        "        clean_txt = ' '.join(lemma_no_stop_txt)\n",
        " \n",
        "        return clean_txt"
      ],
      "metadata": {
        "id": "x_VL_RowTdTn"
      },
      "execution_count": null,
      "outputs": []
    },
    {
      "cell_type": "code",
      "source": [
        "import nltk\n",
        "nltk.download('wordnet')"
      ],
      "metadata": {
        "colab": {
          "base_uri": "https://localhost:8080/"
        },
        "id": "Ewb6E9vaTldZ",
        "outputId": "99dad49e-998a-47b8-e20e-5341a452d472"
      },
      "execution_count": null,
      "outputs": [
        {
          "output_type": "stream",
          "name": "stdout",
          "text": [
            "[nltk_data] Downloading package wordnet to /root/nltk_data...\n",
            "[nltk_data]   Unzipping corpora/wordnet.zip.\n"
          ]
        },
        {
          "output_type": "execute_result",
          "data": {
            "text/plain": [
              "True"
            ]
          },
          "metadata": {},
          "execution_count": 8
        }
      ]
    },
    {
      "cell_type": "code",
      "source": [
        "clean_corpus = [process_text(sentence) for sentence in tqdm(some_sent) if sentence.strip() !='']\n",
        " \n",
        "word_tokenizer = nltk.WordPunctTokenizer()\n",
        "word_tokens = [word_tokenizer.tokenize(sent) for sent in tqdm(clean_corpus)]\n",
        "word_tokens"
      ],
      "metadata": {
        "id": "DO8e5RYRTgL5"
      },
      "execution_count": null,
      "outputs": []
    },
    {
      "cell_type": "code",
      "source": [
        "# Defining values for parameters\n",
        "embedding_size = 300\n",
        "window_size = 5\n",
        "min_word = 5\n",
        "down_sampling = 1e-2\n",
        " \n",
        "fast_Text_model = FastText(word_tokens,\n",
        "                      size=embedding_size,\n",
        "                      window=window_size,\n",
        "                      min_count=min_word,\n",
        "                      sample=down_sampling,\n",
        "                      workers = 4,\n",
        "                      sg=1,\n",
        "                      iter=100)\n"
      ],
      "metadata": {
        "id": "8_yh7EBuTiQy"
      },
      "execution_count": null,
      "outputs": []
    },
    {
      "cell_type": "code",
      "source": [
        "from gensim.models import Word2Vec\n",
        "# Save fastText gensim model\n",
        "fast_Text_model.save(\"ft_model_yelp\")\n",
        "# Load saved gensim fastText model\n",
        "fast_Text_model = Word2Vec.load(\"ft_model_yelp\")"
      ],
      "metadata": {
        "id": "VOIBkUGrTrEo"
      },
      "execution_count": null,
      "outputs": []
    },
    {
      "cell_type": "code",
      "source": [
        "# Check word embedding for a perticular word\n",
        "fast_Text_model.wv['chicken']"
      ],
      "metadata": {
        "id": "gC9X3znDT5l2"
      },
      "execution_count": null,
      "outputs": []
    },
    {
      "cell_type": "code",
      "source": [
        "# Dimention must be 300\n",
        "fast_Text_model.wv['chicken'].shape"
      ],
      "metadata": {
        "colab": {
          "base_uri": "https://localhost:8080/"
        },
        "id": "GxH0pPsTT6Qy",
        "outputId": "e0d4311d-3b6a-4d5f-a2a4-f2aa9b5dc26c"
      },
      "execution_count": null,
      "outputs": [
        {
          "output_type": "execute_result",
          "data": {
            "text/plain": [
              "(300,)"
            ]
          },
          "metadata": {},
          "execution_count": 14
        }
      ]
    },
    {
      "cell_type": "code",
      "source": [
        "# Check top 10 similar word for a given word by gensim fastText\n",
        "fast_Text_model.wv.most_similar('chicken', topn=10)"
      ],
      "metadata": {
        "id": "_TRXIShXT_sw"
      },
      "execution_count": null,
      "outputs": []
    },
    {
      "cell_type": "code",
      "source": [
        "# Check top 10 similarity score between two word\n",
        "fast_Text_model.wv.similarity('beer', 'drink')"
      ],
      "metadata": {
        "colab": {
          "base_uri": "https://localhost:8080/"
        },
        "id": "lfVQ1f1sUEF4",
        "outputId": "4c238f6b-0bbb-4529-8ddd-64be9e5a7086"
      },
      "execution_count": null,
      "outputs": [
        {
          "output_type": "execute_result",
          "data": {
            "text/plain": [
              "0.18183364"
            ]
          },
          "metadata": {},
          "execution_count": 16
        }
      ]
    },
    {
      "cell_type": "code",
      "source": [
        "# Most opposite to a word\n",
        "fast_Text_model.wv.most_similar(negative=[\"chicken\"], topn=10)"
      ],
      "metadata": {
        "colab": {
          "base_uri": "https://localhost:8080/"
        },
        "id": "A--LXZgYUJ8l",
        "outputId": "f3575211-38e9-4499-d11d-83edbb0fc978"
      },
      "execution_count": null,
      "outputs": [
        {
          "output_type": "execute_result",
          "data": {
            "text/plain": [
              "[('front', 0.06045536696910858),\n",
              " ('evening', 0.03132897615432739),\n",
              " ('suck', 0.02852560579776764),\n",
              " ('history', 0.017374549061059952),\n",
              " ('dining', 0.016737308353185654),\n",
              " ('1st', 0.009468814358115196),\n",
              " ('glass', -0.006207071244716644),\n",
              " ('trip', -0.009253252297639847),\n",
              " ('beautiful', -0.009303579106926918),\n",
              " ('fountain', -0.009620137512683868)]"
            ]
          },
          "metadata": {},
          "execution_count": 17
        }
      ]
    },
    {
      "cell_type": "code",
      "source": [
        "# tsne plot for below word\n",
        "# for_word = 'food'\n",
        "def tsne_plot(for_word, w2v_model):\n",
        "    # trained fastText model dimention\n",
        "    dim_size = w2v_model.wv.vectors.shape[1]\n",
        " \n",
        "    arrays = np.empty((0, dim_size), dtype='f')\n",
        "    word_labels = [for_word]\n",
        "    color_list  = ['red']\n",
        " \n",
        "    # adds the vector of the query word\n",
        "    arrays = np.append(arrays, w2v_model.wv.__getitem__([for_word]), axis=0)\n",
        " \n",
        "    # gets list of most similar words\n",
        "    sim_words = w2v_model.wv.most_similar(for_word, topn=10)\n",
        " \n",
        "    # adds the vector for each of the closest words to the array\n",
        "    for wrd_score in sim_words:\n",
        "        wrd_vector = w2v_model.wv.__getitem__([wrd_score[0]])\n",
        "        word_labels.append(wrd_score[0])\n",
        "        color_list.append('green')\n",
        "        arrays = np.append(arrays, wrd_vector, axis=0)\n",
        " \n",
        "    #---------------------- Apply PCA and tsne to reduce dimention --------------\n",
        " \n",
        "    # fit 2d PCA model to the similar word vectors\n",
        "    model_pca = PCA(n_components = 10).fit_transform(arrays)\n",
        " \n",
        "    # Finds 2d coordinates t-SNE\n",
        "    np.set_printoptions(suppress=True)\n",
        "    Y = TSNE(n_components=2, random_state=0, perplexity=15).fit_transform(model_pca)\n",
        " \n",
        "    # Sets everything up to plot\n",
        "    df_plot = pd.DataFrame({'x': [x for x in Y[:, 0]],\n",
        "                       'y': [y for y in Y[:, 1]],\n",
        "                       'words_name': word_labels,\n",
        "                       'words_color': color_list})\n",
        " \n",
        "    #------------------------- tsne plot Python -----------------------------------\n",
        " \n",
        "    # plot dots with color and position\n",
        "    plot_dot = sns.regplot(data=df_plot,\n",
        "                     x=\"x\",\n",
        "                     y=\"y\",\n",
        "                     fit_reg=False,\n",
        "                     marker=\"o\",\n",
        "                     scatter_kws={'s': 40,\n",
        "                                  'facecolors': df_plot['words_color']\n",
        "                                 }\n",
        "                    )\n",
        " \n",
        "    # Adds annotations with color one by one with a loop\n",
        "    for line in range(0, df_plot.shape[0]):\n",
        "         plot_dot.text(df_plot[\"x\"][line],\n",
        "                 df_plot['y'][line],\n",
        "                 '  ' + df_plot[\"words_name\"][line].title(),\n",
        "                 horizontalalignment='left',\n",
        "                 verticalalignment='bottom', size='medium',\n",
        "                 color=df_plot['words_color'][line],\n",
        "                 weight='normal'\n",
        "                ).set_size(15)\n",
        " \n",
        " \n",
        "    plt.xlim(Y[:, 0].min()-50, Y[:, 0].max()+50)\n",
        "    plt.ylim(Y[:, 1].min()-50, Y[:, 1].max()+50)\n",
        " \n",
        "    plt.title('t-SNE visualization for word \"{}'.format(for_word.title()) +'\"')"
      ],
      "metadata": {
        "id": "cVr-ACKjUOOR"
      },
      "execution_count": null,
      "outputs": []
    },
    {
      "cell_type": "code",
      "source": [
        "# tsne plot for top 10 similar word to 'chicken'\n",
        "tsne_plot(for_word='chicken', w2v_model=fast_Text_model)"
      ],
      "metadata": {
        "colab": {
          "base_uri": "https://localhost:8080/",
          "height": 388
        },
        "id": "rc526h72UaFj",
        "outputId": "5f22bc57-0121-400f-a704-d7049a68f4cc"
      },
      "execution_count": null,
      "outputs": [
        {
          "output_type": "stream",
          "name": "stderr",
          "text": [
            "/usr/local/lib/python3.7/dist-packages/sklearn/manifold/_t_sne.py:783: FutureWarning: The default initialization in TSNE will change from 'random' to 'pca' in 1.2.\n",
            "  FutureWarning,\n",
            "/usr/local/lib/python3.7/dist-packages/sklearn/manifold/_t_sne.py:793: FutureWarning: The default learning rate in TSNE will change from 200.0 to 'auto' in 1.2.\n",
            "  FutureWarning,\n"
          ]
        },
        {
          "output_type": "display_data",
          "data": {
            "text/plain": [
              "<Figure size 432x288 with 1 Axes>"
            ],
            "image/png": "[encoded data removed]"
          },
          "metadata": {
            "needs_background": "light"
          }
        }
      ]
    },
    {
      "cell_type": "code",
      "source": [
        "new_data = [['yes', 'this', 'is', 'the', 'word2vec', 'model'],[ 'if',\"you\",\"have\",\"think\",\"about\",\"it\"]]\n",
        " \n",
        "# Update trained gensim fastText model\n",
        "fast_Text_model.build_vocab(new_data, update = True)\n",
        " \n",
        "# Update gensim fastText model using new data\n",
        "new_model = fast_Text_model.train(new_data, total_examples=fast_Text_model.corpus_count, epochs=fast_Text_model.iter)\n"
      ],
      "metadata": {
        "colab": {
          "base_uri": "https://localhost:8080/"
        },
        "id": "MX7Ar1BhUdlx",
        "outputId": "fa944c99-0070-4406-d719-5fafed54a043"
      },
      "execution_count": null,
      "outputs": [
        {
          "output_type": "stream",
          "name": "stderr",
          "text": [
            "/usr/local/lib/python3.7/dist-packages/ipykernel_launcher.py:7: DeprecationWarning: Call to deprecated `iter` (Attribute will be removed in 4.0.0, use self.epochs instead).\n",
            "  import sys\n"
          ]
        }
      ]
    },
    {
      "cell_type": "code",
      "source": [
        "# Load pretrained fastText word embeddings python with gensim\n",
        "from gensim.models.fasttext import load_facebook_model\n",
        "pretrained_fastText_en = load_facebook_model('pretrined fastText model/cc.en.300.bin.gz')\n"
      ],
      "metadata": {
        "id": "0Y_fQ6gDUjPx"
      },
      "execution_count": null,
      "outputs": []
    }
  ]
}