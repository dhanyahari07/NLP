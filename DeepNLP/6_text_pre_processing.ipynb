{
  "nbformat": 4,
  "nbformat_minor": 0,
  "metadata": {
    "colab": {
      "name": "6. text_pre-processing.ipynb",
      "provenance": [],
      "collapsed_sections": [],
      "mount_file_id": "1EmCTalIwqVxK41u0Juz_9epQ-aP-Xahq",
      "authorship_tag": "ABX9TyN00IHJ8XH9hbBVAGwYzzKa"
    },
    "kernelspec": {
      "name": "python3",
      "display_name": "Python 3"
    },
    "language_info": {
      "name": "python"
    }
  },
  "cells": [
    {
      "cell_type": "markdown",
      "source": [
        "# Lower case"
      ],
      "metadata": {
        "id": "K2_C30lZ2oNy"
      }
    },
    {
      "cell_type": "code",
      "execution_count": null,
      "metadata": {
        "colab": {
          "base_uri": "https://localhost:8080/",
          "height": 37
        },
        "id": "kRbI_wZCttRs",
        "outputId": "91437e79-3e31-42eb-896d-a223d01a153b"
      },
      "outputs": [
        {
          "output_type": "execute_result",
          "data": {
            "application/vnd.google.colaboratory.intrinsic+json": {
              "type": "string"
            },
            "text/plain": [
              "'this is an example of lower case conversion'"
            ]
          },
          "metadata": {},
          "execution_count": 1
        }
      ],
      "source": [
        "def lower_case_conversion(text):\n",
        "  lower_text=text.lower()\n",
        "  return lower_text\n",
        "\n",
        "ex_lowercase=\"This is an example of LOWER CASE conversion\"\n",
        "lower_case_result=lower_case_conversion(ex_lowercase)\n",
        "lower_case_result"
      ]
    },
    {
      "cell_type": "markdown",
      "source": [
        "# remove HTML Tags"
      ],
      "metadata": {
        "id": "RVQTleNi2s4H"
      }
    },
    {
      "cell_type": "code",
      "source": [
        "import re\n",
        "def remove_html_tags(text):\n",
        "  html_pattern=r'<.*?>'\n",
        "  without_html=re.sub(pattern=html_pattern,repl=' ',string=text)\n",
        "  return without_html\n",
        "ex_htmltags=\"\"\" <body>\n",
        "<div>\n",
        "<h1> Hi, this is an html example</h1>\n",
        "</div>\n",
        "</body>\n",
        "\"\"\"\n",
        "html_tag_result=remove_html_tags(ex_htmltags)\n",
        "print(html_tag_result)"
      ],
      "metadata": {
        "colab": {
          "base_uri": "https://localhost:8080/"
        },
        "id": "ge2XqYBB2Xhy",
        "outputId": "59113ee9-1058-4298-8235-98eb257788b7"
      },
      "execution_count": null,
      "outputs": [
        {
          "output_type": "stream",
          "name": "stdout",
          "text": [
            "  \n",
            " \n",
            "  Hi, this is an html example \n",
            " \n",
            " \n",
            "\n"
          ]
        }
      ]
    },
    {
      "cell_type": "code",
      "source": [
        "from bs4 import BeautifulSoup\n",
        "def remove_html_tags_bs(text):\n",
        "  parser=BeautifulSoup(text,\"html.parser\")\n",
        "  without_html=parser.get_text(separator=\" \")\n",
        "  return without_html\n",
        "ex_htmltags=\"\"\" <body>\n",
        "<div>\n",
        "<h1> Hi, this is an html example</h1>\n",
        "</div>\n",
        "</body>\n",
        "\"\"\"\n",
        "html_tag_result=remove_html_tags_bs(ex_htmltags)\n",
        "print(html_tag_result)"
      ],
      "metadata": {
        "colab": {
          "base_uri": "https://localhost:8080/"
        },
        "id": "U8YaHSRP4Ymi",
        "outputId": "eecb6aae-fd98-4ded-b723-149fa01fd937"
      },
      "execution_count": null,
      "outputs": [
        {
          "output_type": "stream",
          "name": "stdout",
          "text": [
            "  \n",
            " \n",
            "  Hi, this is an html example \n",
            " \n",
            " \n",
            "\n"
          ]
        }
      ]
    },
    {
      "cell_type": "markdown",
      "source": [
        "# remove numbers"
      ],
      "metadata": {
        "id": "mFBsYGHX51Xy"
      }
    },
    {
      "cell_type": "code",
      "source": [
        "from typing import Pattern\n",
        "def remove_numbers(text):\n",
        "  num_pattern=r'\\d+'\n",
        "  without_number=re.sub(pattern=num_pattern,repl=\" \",string=text)\n",
        "  return without_number\n",
        "\n",
        "ex_num=\"\"\" this is a sentence for removing num 2, 3,4,66,77\n",
        "\"\"\"\n",
        "num_result=remove_numbers(ex_num)\n",
        "print(num_result)"
      ],
      "metadata": {
        "colab": {
          "base_uri": "https://localhost:8080/"
        },
        "id": "ERx6GlrQ5m4U",
        "outputId": "4b41ff52-986e-4495-e32d-bee0f4fd2289"
      },
      "execution_count": null,
      "outputs": [
        {
          "output_type": "stream",
          "name": "stdout",
          "text": [
            " this is a sentence for removing num  ,  , , , \n",
            "\n"
          ]
        }
      ]
    },
    {
      "cell_type": "markdown",
      "source": [
        "# removing URL"
      ],
      "metadata": {
        "id": "zwqtdWo1huTs"
      }
    },
    {
      "cell_type": "code",
      "source": [
        "import re\n",
        "def remove_urls(text):\n",
        "  url_pattern= r'https?://\\S+|www\\. \\S+'\n",
        "  without_url=re.sub(pattern=url_pattern,repl='',string=text)\n",
        "  return without_url\n",
        "ex_url=\"\"\" this is an example of http://google.com & https://www.facebook.com\"\"\"\n",
        "\n",
        "url_result=remove_urls(ex_url)\n",
        "print(url_result)"
      ],
      "metadata": {
        "colab": {
          "base_uri": "https://localhost:8080/"
        },
        "id": "GO4HOVxzRCbz",
        "outputId": "98f31630-7f6f-448d-b41f-727f3d9b9998"
      },
      "execution_count": null,
      "outputs": [
        {
          "output_type": "stream",
          "name": "stdout",
          "text": [
            " this is an example of  & \n"
          ]
        }
      ]
    },
    {
      "cell_type": "markdown",
      "source": [
        "# convert num to text"
      ],
      "metadata": {
        "id": "vTkuhfMOknMK"
      }
    },
    {
      "cell_type": "code",
      "source": [
        "!pip install num2words"
      ],
      "metadata": {
        "colab": {
          "base_uri": "https://localhost:8080/"
        },
        "id": "vVB1qQdSl3mU",
        "outputId": "f5697118-43c4-4fc1-fae7-a7565cb24644"
      },
      "execution_count": null,
      "outputs": [
        {
          "output_type": "stream",
          "name": "stdout",
          "text": [
            "Collecting num2words\n",
            "  Downloading num2words-0.5.10-py3-none-any.whl (101 kB)\n",
            "\u001b[?25l\r\u001b[K     |███▎                            | 10 kB 18.2 MB/s eta 0:00:01\r\u001b[K     |██████▌                         | 20 kB 24.4 MB/s eta 0:00:01\r\u001b[K     |█████████▊                      | 30 kB 19.8 MB/s eta 0:00:01\r\u001b[K     |█████████████                   | 40 kB 16.2 MB/s eta 0:00:01\r\u001b[K     |████████████████▏               | 51 kB 8.1 MB/s eta 0:00:01\r\u001b[K     |███████████████████▍            | 61 kB 8.8 MB/s eta 0:00:01\r\u001b[K     |██████████████████████▋         | 71 kB 8.5 MB/s eta 0:00:01\r\u001b[K     |█████████████████████████▉      | 81 kB 9.4 MB/s eta 0:00:01\r\u001b[K     |█████████████████████████████   | 92 kB 10.0 MB/s eta 0:00:01\r\u001b[K     |████████████████████████████████| 101 kB 6.1 MB/s \n",
            "\u001b[?25hRequirement already satisfied: docopt>=0.6.2 in /usr/local/lib/python3.7/dist-packages (from num2words) (0.6.2)\n",
            "Installing collected packages: num2words\n",
            "Successfully installed num2words-0.5.10\n"
          ]
        }
      ]
    },
    {
      "cell_type": "code",
      "source": [
        "from num2words import num2words\n",
        "def num_to_word(text):\n",
        "  after_split=text.split()\n",
        "  for idx in range(len(after_split)):\n",
        "    if after_split[idx].isdigit():\n",
        "      after_split[idx]=num2words(after_split[idx])\n",
        "  nums_to_words=' '.join(after_split)\n",
        "  return nums_to_words\n",
        "ex_nums=\"this is an exampke of 1 to one , 2 to two\"\n",
        "print(num_to_word(ex_nums))"
      ],
      "metadata": {
        "colab": {
          "base_uri": "https://localhost:8080/"
        },
        "id": "2Am2puQfRCiE",
        "outputId": "e47f4cc4-2976-4725-f237-2ec2ab5464a0"
      },
      "execution_count": null,
      "outputs": [
        {
          "output_type": "stream",
          "name": "stdout",
          "text": [
            "this is an exampke of one to one , two to two\n"
          ]
        }
      ]
    },
    {
      "cell_type": "markdown",
      "source": [
        "# Spell checker"
      ],
      "metadata": {
        "id": "wQOtu6WTmuS4"
      }
    },
    {
      "cell_type": "code",
      "source": [
        "! pip install pyspellchecker"
      ],
      "metadata": {
        "colab": {
          "base_uri": "https://localhost:8080/"
        },
        "id": "4TE42vkARCk5",
        "outputId": "97e5acec-69a8-4d81-af8c-5304e8ef9635"
      },
      "execution_count": null,
      "outputs": [
        {
          "output_type": "stream",
          "name": "stdout",
          "text": [
            "Collecting pyspellchecker\n",
            "  Downloading pyspellchecker-0.6.3-py3-none-any.whl (2.7 MB)\n",
            "\u001b[K     |████████████████████████████████| 2.7 MB 10.0 MB/s \n",
            "\u001b[?25hInstalling collected packages: pyspellchecker\n",
            "Successfully installed pyspellchecker-0.6.3\n"
          ]
        }
      ]
    },
    {
      "cell_type": "code",
      "source": [
        "from spellchecker import SpellChecker\n",
        "spell_corre=SpellChecker()\n",
        "def spell_correction(text):\n",
        "  correct_words=[]\n",
        "  mis_words=spell_corre.unknown(text.split())\n",
        "  for each_word in text.split():\n",
        "    if each_word in mis_words:\n",
        "      right_word=spell_corre.correction(each_word)\n",
        "      correct_words.append(right_word)\n",
        "    else:\n",
        "      correct_words.append(each_word)\n",
        "  correct_spelling=' '.join(correct_words)\n",
        "  return correct_spelling\n",
        "ex_misspell=\"this is an example of corectin\"\n",
        "correct_result=spell_correction(ex_misspell)\n",
        "correct_result"
      ],
      "metadata": {
        "colab": {
          "base_uri": "https://localhost:8080/",
          "height": 37
        },
        "id": "_VxAdepDRCne",
        "outputId": "844b8ba3-f91e-457c-bb9e-8556ac8cee25"
      },
      "execution_count": null,
      "outputs": [
        {
          "output_type": "execute_result",
          "data": {
            "application/vnd.google.colaboratory.intrinsic+json": {
              "type": "string"
            },
            "text/plain": [
              "'this is an example of correcting'"
            ]
          },
          "metadata": {},
          "execution_count": 9
        }
      ]
    },
    {
      "cell_type": "code",
      "source": [
        "!pip install autocorrect"
      ],
      "metadata": {
        "colab": {
          "base_uri": "https://localhost:8080/"
        },
        "id": "ixkiXDZRRCqT",
        "outputId": "b318c2fe-1012-488d-dd4f-4be557858579"
      },
      "execution_count": null,
      "outputs": [
        {
          "output_type": "stream",
          "name": "stdout",
          "text": [
            "Collecting autocorrect\n",
            "  Downloading autocorrect-2.6.1.tar.gz (622 kB)\n",
            "\u001b[?25l\r\u001b[K     |▌                               | 10 kB 16.0 MB/s eta 0:00:01\r\u001b[K     |█                               | 20 kB 22.6 MB/s eta 0:00:01\r\u001b[K     |█▋                              | 30 kB 17.2 MB/s eta 0:00:01\r\u001b[K     |██                              | 40 kB 17.5 MB/s eta 0:00:01\r\u001b[K     |██▋                             | 51 kB 9.5 MB/s eta 0:00:01\r\u001b[K     |███▏                            | 61 kB 10.1 MB/s eta 0:00:01\r\u001b[K     |███▊                            | 71 kB 8.3 MB/s eta 0:00:01\r\u001b[K     |████▏                           | 81 kB 9.2 MB/s eta 0:00:01\r\u001b[K     |████▊                           | 92 kB 10.2 MB/s eta 0:00:01\r\u001b[K     |█████▎                          | 102 kB 8.9 MB/s eta 0:00:01\r\u001b[K     |█████▉                          | 112 kB 8.9 MB/s eta 0:00:01\r\u001b[K     |██████▎                         | 122 kB 8.9 MB/s eta 0:00:01\r\u001b[K     |██████▉                         | 133 kB 8.9 MB/s eta 0:00:01\r\u001b[K     |███████▍                        | 143 kB 8.9 MB/s eta 0:00:01\r\u001b[K     |████████                        | 153 kB 8.9 MB/s eta 0:00:01\r\u001b[K     |████████▍                       | 163 kB 8.9 MB/s eta 0:00:01\r\u001b[K     |█████████                       | 174 kB 8.9 MB/s eta 0:00:01\r\u001b[K     |█████████▌                      | 184 kB 8.9 MB/s eta 0:00:01\r\u001b[K     |██████████                      | 194 kB 8.9 MB/s eta 0:00:01\r\u001b[K     |██████████▌                     | 204 kB 8.9 MB/s eta 0:00:01\r\u001b[K     |███████████                     | 215 kB 8.9 MB/s eta 0:00:01\r\u001b[K     |███████████▋                    | 225 kB 8.9 MB/s eta 0:00:01\r\u001b[K     |████████████                    | 235 kB 8.9 MB/s eta 0:00:01\r\u001b[K     |████████████▋                   | 245 kB 8.9 MB/s eta 0:00:01\r\u001b[K     |█████████████▏                  | 256 kB 8.9 MB/s eta 0:00:01\r\u001b[K     |█████████████▊                  | 266 kB 8.9 MB/s eta 0:00:01\r\u001b[K     |██████████████▏                 | 276 kB 8.9 MB/s eta 0:00:01\r\u001b[K     |██████████████▊                 | 286 kB 8.9 MB/s eta 0:00:01\r\u001b[K     |███████████████▎                | 296 kB 8.9 MB/s eta 0:00:01\r\u001b[K     |███████████████▉                | 307 kB 8.9 MB/s eta 0:00:01\r\u001b[K     |████████████████▎               | 317 kB 8.9 MB/s eta 0:00:01\r\u001b[K     |████████████████▉               | 327 kB 8.9 MB/s eta 0:00:01\r\u001b[K     |█████████████████▍              | 337 kB 8.9 MB/s eta 0:00:01\r\u001b[K     |██████████████████              | 348 kB 8.9 MB/s eta 0:00:01\r\u001b[K     |██████████████████▍             | 358 kB 8.9 MB/s eta 0:00:01\r\u001b[K     |███████████████████             | 368 kB 8.9 MB/s eta 0:00:01\r\u001b[K     |███████████████████▌            | 378 kB 8.9 MB/s eta 0:00:01\r\u001b[K     |████████████████████            | 389 kB 8.9 MB/s eta 0:00:01\r\u001b[K     |████████████████████▌           | 399 kB 8.9 MB/s eta 0:00:01\r\u001b[K     |█████████████████████           | 409 kB 8.9 MB/s eta 0:00:01\r\u001b[K     |█████████████████████▋          | 419 kB 8.9 MB/s eta 0:00:01\r\u001b[K     |██████████████████████          | 430 kB 8.9 MB/s eta 0:00:01\r\u001b[K     |██████████████████████▋         | 440 kB 8.9 MB/s eta 0:00:01\r\u001b[K     |███████████████████████▏        | 450 kB 8.9 MB/s eta 0:00:01\r\u001b[K     |███████████████████████▊        | 460 kB 8.9 MB/s eta 0:00:01\r\u001b[K     |████████████████████████▏       | 471 kB 8.9 MB/s eta 0:00:01\r\u001b[K     |████████████████████████▊       | 481 kB 8.9 MB/s eta 0:00:01\r\u001b[K     |█████████████████████████▎      | 491 kB 8.9 MB/s eta 0:00:01\r\u001b[K     |█████████████████████████▉      | 501 kB 8.9 MB/s eta 0:00:01\r\u001b[K     |██████████████████████████▎     | 512 kB 8.9 MB/s eta 0:00:01\r\u001b[K     |██████████████████████████▉     | 522 kB 8.9 MB/s eta 0:00:01\r\u001b[K     |███████████████████████████▍    | 532 kB 8.9 MB/s eta 0:00:01\r\u001b[K     |███████████████████████████▉    | 542 kB 8.9 MB/s eta 0:00:01\r\u001b[K     |████████████████████████████▍   | 552 kB 8.9 MB/s eta 0:00:01\r\u001b[K     |█████████████████████████████   | 563 kB 8.9 MB/s eta 0:00:01\r\u001b[K     |█████████████████████████████▌  | 573 kB 8.9 MB/s eta 0:00:01\r\u001b[K     |██████████████████████████████  | 583 kB 8.9 MB/s eta 0:00:01\r\u001b[K     |██████████████████████████████▌ | 593 kB 8.9 MB/s eta 0:00:01\r\u001b[K     |███████████████████████████████ | 604 kB 8.9 MB/s eta 0:00:01\r\u001b[K     |███████████████████████████████▋| 614 kB 8.9 MB/s eta 0:00:01\r\u001b[K     |████████████████████████████████| 622 kB 8.9 MB/s \n",
            "\u001b[?25hBuilding wheels for collected packages: autocorrect\n",
            "  Building wheel for autocorrect (setup.py) ... \u001b[?25l\u001b[?25hdone\n",
            "  Created wheel for autocorrect: filename=autocorrect-2.6.1-py3-none-any.whl size=622382 sha256=fbf50a0555ae74fcd2ce0ce93b067d313b978fa5640e9fb1073d17603bc7c5bc\n",
            "  Stored in directory: /root/.cache/pip/wheels/54/d4/37/8244101ad50b0f7d9bffd93ce58ed7991ee1753b290923934b\n",
            "Successfully built autocorrect\n",
            "Installing collected packages: autocorrect\n",
            "Successfully installed autocorrect-2.6.1\n"
          ]
        }
      ]
    },
    {
      "cell_type": "code",
      "source": [
        "import nltk\n",
        "nltk.download('punkt')"
      ],
      "metadata": {
        "colab": {
          "base_uri": "https://localhost:8080/"
        },
        "id": "BNeW7VMhrzlj",
        "outputId": "cbe99e2c-069f-4133-882a-587e0df51fa0"
      },
      "execution_count": null,
      "outputs": [
        {
          "output_type": "stream",
          "name": "stdout",
          "text": [
            "[nltk_data] Downloading package punkt to /root/nltk_data...\n",
            "[nltk_data]   Unzipping tokenizers/punkt.zip.\n"
          ]
        },
        {
          "output_type": "execute_result",
          "data": {
            "text/plain": [
              "True"
            ]
          },
          "metadata": {},
          "execution_count": 11
        }
      ]
    },
    {
      "cell_type": "code",
      "source": [
        "from autocorrect import Speller\n",
        "from nltk import word_tokenize\n",
        "def spell_autocorrect(text):\n",
        "  correct_spell_words = []\n",
        "  spell_corrector = Speller(lang='en')\n",
        "  for word in word_tokenize(text):\n",
        "    correct_word=spell_corrector(word)\n",
        "    correct_spell_words.append(correct_word)\n",
        "  correct_spelling=' '.join(correct_spell_words)\n",
        "  return correct_spelling\n",
        "\t\n",
        "ex_misspell=\"this is an example of corectin\"\n",
        "correct_result=spell_autocorrect(ex_misspell)\n",
        "correct_result\n"
      ],
      "metadata": {
        "id": "_dBvv5pGRCs6",
        "colab": {
          "base_uri": "https://localhost:8080/",
          "height": 37
        },
        "outputId": "0a318a5c-dc59-4b60-86e6-54ff182b03db"
      },
      "execution_count": null,
      "outputs": [
        {
          "output_type": "execute_result",
          "data": {
            "application/vnd.google.colaboratory.intrinsic+json": {
              "type": "string"
            },
            "text/plain": [
              "'this is an example of correction'"
            ]
          },
          "metadata": {},
          "execution_count": 12
        }
      ]
    },
    {
      "cell_type": "markdown",
      "source": [
        "# non ASCII"
      ],
      "metadata": {
        "id": "7fvIa6dltSlk"
      }
    },
    {
      "cell_type": "code",
      "source": [
        "!pip install unidecode"
      ],
      "metadata": {
        "colab": {
          "base_uri": "https://localhost:8080/"
        },
        "id": "qIRG8Ax5t2pc",
        "outputId": "c7beefb5-bbb1-4bae-cfbb-b721be13caf6"
      },
      "execution_count": null,
      "outputs": [
        {
          "output_type": "stream",
          "name": "stdout",
          "text": [
            "Collecting unidecode\n",
            "  Downloading Unidecode-1.3.2-py3-none-any.whl (235 kB)\n",
            "\u001b[?25l\r\u001b[K     |█▍                              | 10 kB 16.2 MB/s eta 0:00:01\r\u001b[K     |██▉                             | 20 kB 22.9 MB/s eta 0:00:01\r\u001b[K     |████▏                           | 30 kB 13.3 MB/s eta 0:00:01\r\u001b[K     |█████▋                          | 40 kB 11.2 MB/s eta 0:00:01\r\u001b[K     |███████                         | 51 kB 8.4 MB/s eta 0:00:01\r\u001b[K     |████████▍                       | 61 kB 8.2 MB/s eta 0:00:01\r\u001b[K     |█████████▊                      | 71 kB 8.6 MB/s eta 0:00:01\r\u001b[K     |███████████▏                    | 81 kB 9.5 MB/s eta 0:00:01\r\u001b[K     |████████████▌                   | 92 kB 8.6 MB/s eta 0:00:01\r\u001b[K     |██████████████                  | 102 kB 7.9 MB/s eta 0:00:01\r\u001b[K     |███████████████▎                | 112 kB 7.9 MB/s eta 0:00:01\r\u001b[K     |████████████████▊               | 122 kB 7.9 MB/s eta 0:00:01\r\u001b[K     |██████████████████              | 133 kB 7.9 MB/s eta 0:00:01\r\u001b[K     |███████████████████▌            | 143 kB 7.9 MB/s eta 0:00:01\r\u001b[K     |████████████████████▉           | 153 kB 7.9 MB/s eta 0:00:01\r\u001b[K     |██████████████████████▎         | 163 kB 7.9 MB/s eta 0:00:01\r\u001b[K     |███████████████████████▋        | 174 kB 7.9 MB/s eta 0:00:01\r\u001b[K     |█████████████████████████       | 184 kB 7.9 MB/s eta 0:00:01\r\u001b[K     |██████████████████████████▍     | 194 kB 7.9 MB/s eta 0:00:01\r\u001b[K     |███████████████████████████▉    | 204 kB 7.9 MB/s eta 0:00:01\r\u001b[K     |█████████████████████████████▏  | 215 kB 7.9 MB/s eta 0:00:01\r\u001b[K     |██████████████████████████████▋ | 225 kB 7.9 MB/s eta 0:00:01\r\u001b[K     |████████████████████████████████| 235 kB 7.9 MB/s eta 0:00:01\r\u001b[K     |████████████████████████████████| 235 kB 7.9 MB/s \n",
            "\u001b[?25hInstalling collected packages: unidecode\n",
            "Successfully installed unidecode-1.3.2\n"
          ]
        }
      ]
    },
    {
      "cell_type": "code",
      "source": [
        "import unidecode\n",
        "def accented_toascii(text):\n",
        "  text=unidecode.unidecode(text)\n",
        "  return text\n",
        "\n",
        "ex_accented = \"\"\"\n",
        "This is an example text with accented characters like dèèp lèarning ánd cömputer vísíön etc.\n",
        "\"\"\"\n",
        "print(accented_toascii(ex_accented))\n"
      ],
      "metadata": {
        "id": "whJD--U6RCwQ",
        "colab": {
          "base_uri": "https://localhost:8080/"
        },
        "outputId": "be5846de-1c4c-4e5e-de17-882211c0cde1"
      },
      "execution_count": null,
      "outputs": [
        {
          "output_type": "stream",
          "name": "stdout",
          "text": [
            "\n",
            "This is an example text with accented characters like deep learning and computer vision etc.\n",
            "\n"
          ]
        }
      ]
    },
    {
      "cell_type": "markdown",
      "source": [
        "# expanding contactions"
      ],
      "metadata": {
        "id": "FgWSjOkIvG6t"
      }
    },
    {
      "cell_type": "code",
      "source": [
        "import sys\n",
        "import os\n",
        "\n",
        "py_file_location = \"/content/drive/MyDrive/MSc DS_NLP/\"\n",
        "sys.path.append(os.path.abspath(py_file_location))"
      ],
      "metadata": {
        "id": "16q94n9RtEZ4"
      },
      "execution_count": null,
      "outputs": []
    },
    {
      "cell_type": "code",
      "source": [
        "from contraction import CONTRACTION_MAP # contractions_dict"
      ],
      "metadata": {
        "id": "C62MUT2ZtEck"
      },
      "execution_count": null,
      "outputs": []
    },
    {
      "cell_type": "code",
      "source": [
        "!pip install contractions"
      ],
      "metadata": {
        "id": "P8BDyRLp4gZ4",
        "colab": {
          "base_uri": "https://localhost:8080/"
        },
        "outputId": "b8cfb298-b9d7-45a6-e60f-7be29b66ad4b"
      },
      "execution_count": null,
      "outputs": [
        {
          "output_type": "stream",
          "name": "stdout",
          "text": [
            "Collecting contractions\n",
            "  Downloading contractions-0.1.66-py2.py3-none-any.whl (8.0 kB)\n",
            "Collecting textsearch>=0.0.21\n",
            "  Downloading textsearch-0.0.21-py2.py3-none-any.whl (7.5 kB)\n",
            "Collecting anyascii\n",
            "  Downloading anyascii-0.3.0-py3-none-any.whl (284 kB)\n",
            "\u001b[K     |████████████████████████████████| 284 kB 8.3 MB/s \n",
            "\u001b[?25hCollecting pyahocorasick\n",
            "  Downloading pyahocorasick-1.4.2.tar.gz (321 kB)\n",
            "\u001b[K     |████████████████████████████████| 321 kB 50.6 MB/s \n",
            "\u001b[?25hBuilding wheels for collected packages: pyahocorasick\n",
            "  Building wheel for pyahocorasick (setup.py) ... \u001b[?25l\u001b[?25hdone\n",
            "  Created wheel for pyahocorasick: filename=pyahocorasick-1.4.2-cp37-cp37m-linux_x86_64.whl size=85448 sha256=d37ac493d0fcb86a86c321eb66018d860b698205a83c9485994ed3af7f8bec93\n",
            "  Stored in directory: /root/.cache/pip/wheels/25/19/a6/8f363d9939162782bb8439d886469756271abc01f76fbd790f\n",
            "Successfully built pyahocorasick\n",
            "Installing collected packages: pyahocorasick, anyascii, textsearch, contractions\n",
            "Successfully installed anyascii-0.3.0 contractions-0.1.66 pyahocorasick-1.4.2 textsearch-0.0.21\n"
          ]
        }
      ]
    },
    {
      "cell_type": "code",
      "source": [
        "import re\n",
        "def expand_contractions(contraction):\n",
        "\t# take matching contraction in the text\n",
        "\tmatch = contraction.group(0)\n",
        "\t# first char from matching contraction (D for Doesn't)\n",
        "\tfirst_char = match[0]\n",
        "\tif contraction_mapping.get(match):\n",
        "\t\texpanded_contraction = contraction_mapping.get(match)\n",
        "\telse:\n",
        "\t\texpanded_contraction = contraction_mapping.get(match.lower())\n",
        "\texpanded_contraction = first_char+expanded_contraction[1:]\n",
        "\n",
        "\treturn expanded_contraction\n",
        "\n",
        "# expending contractions\n",
        "contraction_mapping = CONTRACTION_MAP\n",
        "# take all key values from contraction_mapping\n",
        "contractions_pattern = re.compile('({})'.format('|'.join(contraction_mapping.keys())),\n",
        "                                      flags=re.IGNORECASE|re.DOTALL)\n",
        "\n",
        "# example text with contractions\n",
        "ex_contractions = \"\"\"\n",
        "Sometimes our mind doesn't work properly.\n",
        "\"\"\"\n",
        "# substitute result of function in the text\n",
        "expanded_text = contractions_pattern.sub(expand_contractions, ex_contractions)\n",
        "# replacing apostrophe with empty string (to remove apostrophe)\n",
        "expanded_text = re.sub(\"'\", \"\", expanded_text)\n",
        "print(f\"Result :- \\n{expanded_text}\")"
      ],
      "metadata": {
        "colab": {
          "base_uri": "https://localhost:8080/"
        },
        "id": "sxr2Xn8ytEfX",
        "outputId": "89d67a1e-350d-41fa-e61d-8a2ad7da1a2a"
      },
      "execution_count": null,
      "outputs": [
        {
          "output_type": "stream",
          "name": "stdout",
          "text": [
            "Result :- \n",
            "\n",
            "Sometimes our mind does not work properly.\n",
            "\n"
          ]
        }
      ]
    },
    {
      "cell_type": "markdown",
      "source": [
        "# remove emoji"
      ],
      "metadata": {
        "id": "pfP9ZxoTxVh2"
      }
    },
    {
      "cell_type": "code",
      "source": [
        "def remove_emojis(text):\n",
        "\t\"\"\"\n",
        "\tResult :- string without any emojis in it\n",
        "\tInput :- String\n",
        "\tOutput :- String\n",
        "\t\"\"\"\n",
        "\temoji_pattern = re.compile(\"[\"\n",
        "                               u\"\\U0001F600-\\U0001F64F\"  # emoticons\n",
        "                               u\"\\U0001F300-\\U0001F5FF\"  # symbols & pictographs\n",
        "                               u\"\\U0001F680-\\U0001F6FF\"  # transport & map symbols\n",
        "                               u\"\\U0001F1E0-\\U0001F1FF\"  # flags (iOS)\n",
        "                               u\"\\U00002500-\\U00002BEF\"  # chinese char\n",
        "                               u\"\\U00002702-\\U000027B0\"\n",
        "                               u\"\\U00002702-\\U000027B0\"\n",
        "                               u\"\\U000024C2-\\U0001F251\"\n",
        "                               u\"\\U0001f926-\\U0001f937\"\n",
        "                               u\"\\U00010000-\\U0010ffff\"\n",
        "                               u\"\\u2640-\\u2642\"\n",
        "                               u\"\\u2600-\\u2B55\"\n",
        "                               u\"\\u200d\"\n",
        "                               u\"\\u23cf\"\n",
        "                               u\"\\u23e9\"\n",
        "                               u\"\\u231a\"\n",
        "                               u\"\\ufe0f\"  # dingbats\n",
        "                               u\"\\u3030\"\n",
        "                               \"]+\", flags=re.UNICODE)\n",
        "\n",
        "\twithout_emoji = emoji_pattern.sub(r'',text)\n",
        "\treturn without_emoji\n",
        "\n",
        "\n",
        "# example text for emoji removing technique\n",
        "ex_emoji = \"\"\"\n",
        "This is a test 😻 👍🏿\n",
        "\"\"\"\n",
        "# calling function\n",
        "emoji_result = remove_emojis(ex_emoji)\n",
        "print(f\"Result text after removing emojis :- \\n{emoji_result}\")\n"
      ],
      "metadata": {
        "colab": {
          "base_uri": "https://localhost:8080/"
        },
        "id": "ia9f4gDRtEiB",
        "outputId": "6f508679-406b-46a6-f678-9b4cc4f61e29"
      },
      "execution_count": null,
      "outputs": [
        {
          "output_type": "stream",
          "name": "stdout",
          "text": [
            "Result text after removing emojis :- \n",
            "\n",
            "This is a test  \n",
            "\n"
          ]
        }
      ]
    },
    {
      "cell_type": "markdown",
      "source": [
        "# Removal of Emoticons"
      ],
      "metadata": {
        "id": "1BDotixJxb-9"
      }
    },
    {
      "cell_type": "code",
      "source": [
        "from emoticons_list import EMOTICONS\n",
        "def remove_emoticons(text):\n",
        "\t\"\"\"\n",
        "\tReturn :- string after removing emoticons\n",
        "\tInput :- string\n",
        "\tOutput :- string\n",
        "\t\"\"\"\n",
        "\temoticon_pattern = re.compile(u'(' + u'|'.join(k for k in EMOTICONS) + u')')\n",
        "\n",
        "\twithout_emoticons = emoticon_pattern.sub(r'',text)\n",
        "\treturn without_emoticons\n",
        "\n",
        "# example sentence for removing emoticons\n",
        "ex_emoticons = \"\"\"\n",
        "Hello this is a sentence with these 2 emoticons :-) & :-)\n",
        "\"\"\"\n",
        "emoticons_result = remove_emoticons(ex_emoticons)\n",
        "print(f\"After removing emoticons :- \\n{emoticons_result}\")\n"
      ],
      "metadata": {
        "colab": {
          "base_uri": "https://localhost:8080/"
        },
        "id": "vhk5EAhyxJ-5",
        "outputId": "7c9342b6-171c-4b4f-be26-555ecab79924"
      },
      "execution_count": null,
      "outputs": [
        {
          "output_type": "stream",
          "name": "stdout",
          "text": [
            "After removing emoticons :- \n",
            "\n",
            "Hello this is a sentence with these 2 emoticons  & \n",
            "\n"
          ]
        }
      ]
    },
    {
      "cell_type": "markdown",
      "source": [
        "# Converting Emojis to words"
      ],
      "metadata": {
        "id": "dJ0kOoibxkdc"
      }
    },
    {
      "cell_type": "code",
      "source": [
        "from emoticons_list import EMO_UNICODE\n",
        "\n",
        "def emoji_words(text):\n",
        "\tfor emot in UNICODE_EMO:\n",
        "\t\temoji_pattern = r'('+emot+')'\n",
        "\t\t# replace\n",
        "\t\temoji_words = UNICODE_EMO[emot]\n",
        "\t\treplace_text = emoji_words.replace(\",\",\"\")\n",
        "\t\treplace_text = replace_text.replace(\":\",\"\")\n",
        "\t\treplace_text_list = replace_text.split()\n",
        "\t\temoji_name = '_'.join(replace_text_list)\n",
        "\t\ttext = re.sub(emoji_pattern, emoji_name, text)\n",
        "\treturn text\n",
        "\n",
        "\n",
        "# convert emo_unicode to unicode_emo\n",
        "UNICODE_EMO = {v: k for k, v in EMO_UNICODE.items()}\n",
        "# example text for converting emojis to words\n",
        "ex_emoji = \"\"\"\n",
        "This is a test 😻 👍🏿\n",
        "\"\"\"\n",
        "\n",
        "emoji_result = emoji_words(ex_emoji)\n",
        "print(f\"Result after converting emojis to corresponding words :- \\n{emoji_result}\")"
      ],
      "metadata": {
        "colab": {
          "base_uri": "https://localhost:8080/"
        },
        "id": "cvDcx9-wxKCh",
        "outputId": "8ab3ec93-c2fe-4eb2-c7e2-b0037fcec148"
      },
      "execution_count": null,
      "outputs": [
        {
          "output_type": "stream",
          "name": "stdout",
          "text": [
            "Result after converting emojis to corresponding words :- \n",
            "\n",
            "This is a test smiling_cat_face_with_heart-eyes thumbs_updark_skin_tone\n",
            "\n"
          ]
        }
      ]
    },
    {
      "cell_type": "markdown",
      "source": [
        "# Converting Emoticons to words"
      ],
      "metadata": {
        "id": "3enfGE6-xt2d"
      }
    },
    {
      "cell_type": "code",
      "source": [
        "from emoticons_list import EMOTICONS\n",
        "\n",
        "def emoticons_words(text):\n",
        "\tfor emot in EMOTICONS:\n",
        "\t\temoticon_pattern = r'('+emot+')'\n",
        "\t\t# replace\n",
        "\t\temoticon_words = EMOTICONS[emot]\n",
        "\t\treplace_text = emoticon_words.replace(\",\",\"\")\n",
        "\t\treplace_text = replace_text.replace(\":\",\"\")\n",
        "\t\treplace_text_list = replace_text.split()\n",
        "\t\temoticon_name = '_'.join(replace_text_list)\n",
        "\t\ttext = re.sub(emoticon_pattern, emoticon_name, text)\n",
        "\treturn text\n",
        "\n",
        "\n",
        "# example sentence for converting  emoticons to words\n",
        "ex_emoticons = \"\"\"\n",
        "Hello this is a sentence with these 2 emoticons :-) & :-)\n",
        "\"\"\"\n",
        "emoticons_result = emoticons_words(ex_emoticons)\n",
        "print(f\"After converting emoticons to words :- \\n{emoticons_result}\")"
      ],
      "metadata": {
        "colab": {
          "base_uri": "https://localhost:8080/"
        },
        "id": "G4LQXgo6xKGa",
        "outputId": "aad90598-58d1-425e-f66e-a79cd909b82d"
      },
      "execution_count": null,
      "outputs": [
        {
          "output_type": "stream",
          "name": "stdout",
          "text": [
            "After converting emoticons to words :- \n",
            "\n",
            "Hello this is a sentence with these 2 emoticons Happy_face_smiley & Happy_face_smiley\n",
            "\n"
          ]
        }
      ]
    },
    {
      "cell_type": "markdown",
      "source": [
        "# single character removal"
      ],
      "metadata": {
        "id": "AW5mj5MO3XPR"
      }
    },
    {
      "cell_type": "code",
      "source": [
        "#pattern = r'\\s[a-zA-z]\\s'"
      ],
      "metadata": {
        "id": "xxNOO38VxKKG"
      },
      "execution_count": null,
      "outputs": []
    },
    {
      "cell_type": "markdown",
      "source": [
        "# extra space removal"
      ],
      "metadata": {
        "id": "vKElIzS23kHy"
      }
    },
    {
      "cell_type": "code",
      "source": [
        "#pattern=r'\\s+'\n",
        "#re.sub(pattern=pattern,repl=\" \",string=text)"
      ],
      "metadata": {
        "id": "YiTl6BySxKNr"
      },
      "execution_count": null,
      "outputs": []
    },
    {
      "cell_type": "code",
      "source": [
        ""
      ],
      "metadata": {
        "id": "i_pL6px6xKQK"
      },
      "execution_count": null,
      "outputs": []
    },
    {
      "cell_type": "code",
      "source": [
        ""
      ],
      "metadata": {
        "id": "HpbscGJ1RCzF"
      },
      "execution_count": null,
      "outputs": []
    },
    {
      "cell_type": "code",
      "source": [
        "import sys\n",
        "import os\n",
        "\n",
        "py_file_location = \"/content/drive/MyDrive/MSc DS_NLP\"\n",
        "sys.path.append(os.path.abspath(py_file_location))"
      ],
      "metadata": {
        "id": "yGboMa2h6kgm"
      },
      "execution_count": null,
      "outputs": []
    },
    {
      "cell_type": "code",
      "source": [
        "from emoticons_list import EMOTICONS"
      ],
      "metadata": {
        "id": "ebtm6sIeLyk6"
      },
      "execution_count": null,
      "outputs": []
    },
    {
      "cell_type": "code",
      "source": [
        "import pandas as pd"
      ],
      "metadata": {
        "id": "7Os1Er-uL2mD"
      },
      "execution_count": null,
      "outputs": []
    },
    {
      "cell_type": "code",
      "source": [
        "data=pd.read_csv('/content/drive/MyDrive/MSc DS_NLP/IMDB Dataset.csv')"
      ],
      "metadata": {
        "id": "61407sYIQe9L"
      },
      "execution_count": null,
      "outputs": []
    },
    {
      "cell_type": "code",
      "source": [
        "data.head()"
      ],
      "metadata": {
        "colab": {
          "base_uri": "https://localhost:8080/",
          "height": 206
        },
        "id": "xK0_NpBPQsBO",
        "outputId": "0b9e93bf-2869-4d3d-db17-3924fa577c05"
      },
      "execution_count": null,
      "outputs": [
        {
          "output_type": "execute_result",
          "data": {
            "text/html": [
              "\n",
              "  <div id=\"df-cb1412b1-5e7f-4eaf-a869-438c311f4847\">\n",
              "    <div class=\"colab-df-container\">\n",
              "      <div>\n",
              "<style scoped>\n",
              "    .dataframe tbody tr th:only-of-type {\n",
              "        vertical-align: middle;\n",
              "    }\n",
              "\n",
              "    .dataframe tbody tr th {\n",
              "        vertical-align: top;\n",
              "    }\n",
              "\n",
              "    .dataframe thead th {\n",
              "        text-align: right;\n",
              "    }\n",
              "</style>\n",
              "<table border=\"1\" class=\"dataframe\">\n",
              "  <thead>\n",
              "    <tr style=\"text-align: right;\">\n",
              "      <th></th>\n",
              "      <th>review</th>\n",
              "      <th>sentiment</th>\n",
              "    </tr>\n",
              "  </thead>\n",
              "  <tbody>\n",
              "    <tr>\n",
              "      <th>0</th>\n",
              "      <td>One of the other reviewers has mentioned that ...</td>\n",
              "      <td>positive</td>\n",
              "    </tr>\n",
              "    <tr>\n",
              "      <th>1</th>\n",
              "      <td>A wonderful little production. &lt;br /&gt;&lt;br /&gt;The...</td>\n",
              "      <td>positive</td>\n",
              "    </tr>\n",
              "    <tr>\n",
              "      <th>2</th>\n",
              "      <td>I thought this was a wonderful way to spend ti...</td>\n",
              "      <td>positive</td>\n",
              "    </tr>\n",
              "    <tr>\n",
              "      <th>3</th>\n",
              "      <td>Basically there's a family where a little boy ...</td>\n",
              "      <td>negative</td>\n",
              "    </tr>\n",
              "    <tr>\n",
              "      <th>4</th>\n",
              "      <td>Petter Mattei's \"Love in the Time of Money\" is...</td>\n",
              "      <td>positive</td>\n",
              "    </tr>\n",
              "  </tbody>\n",
              "</table>\n",
              "</div>\n",
              "      <button class=\"colab-df-convert\" onclick=\"convertToInteractive('df-cb1412b1-5e7f-4eaf-a869-438c311f4847')\"\n",
              "              title=\"Convert this dataframe to an interactive table.\"\n",
              "              style=\"display:none;\">\n",
              "        \n",
              "  <svg xmlns=\"http://www.w3.org/2000/svg\" height=\"24px\"viewBox=\"0 0 24 24\"\n",
              "       width=\"24px\">\n",
              "    <path d=\"M0 0h24v24H0V0z\" fill=\"none\"/>\n",
              "    <path d=\"M18.56 5.44l.94 2.06.94-2.06 2.06-.94-2.06-.94-.94-2.06-.94 2.06-2.06.94zm-11 1L8.5 8.5l.94-2.06 2.06-.94-2.06-.94L8.5 2.5l-.94 2.06-2.06.94zm10 10l.94 2.06.94-2.06 2.06-.94-2.06-.94-.94-2.06-.94 2.06-2.06.94z\"/><path d=\"M17.41 7.96l-1.37-1.37c-.4-.4-.92-.59-1.43-.59-.52 0-1.04.2-1.43.59L10.3 9.45l-7.72 7.72c-.78.78-.78 2.05 0 2.83L4 21.41c.39.39.9.59 1.41.59.51 0 1.02-.2 1.41-.59l7.78-7.78 2.81-2.81c.8-.78.8-2.07 0-2.86zM5.41 20L4 18.59l7.72-7.72 1.47 1.35L5.41 20z\"/>\n",
              "  </svg>\n",
              "      </button>\n",
              "      \n",
              "  <style>\n",
              "    .colab-df-container {\n",
              "      display:flex;\n",
              "      flex-wrap:wrap;\n",
              "      gap: 12px;\n",
              "    }\n",
              "\n",
              "    .colab-df-convert {\n",
              "      background-color: #E8F0FE;\n",
              "      border: none;\n",
              "      border-radius: 50%;\n",
              "      cursor: pointer;\n",
              "      display: none;\n",
              "      fill: #1967D2;\n",
              "      height: 32px;\n",
              "      padding: 0 0 0 0;\n",
              "      width: 32px;\n",
              "    }\n",
              "\n",
              "    .colab-df-convert:hover {\n",
              "      background-color: #E2EBFA;\n",
              "      box-shadow: 0px 1px 2px rgba(60, 64, 67, 0.3), 0px 1px 3px 1px rgba(60, 64, 67, 0.15);\n",
              "      fill: #174EA6;\n",
              "    }\n",
              "\n",
              "    [theme=dark] .colab-df-convert {\n",
              "      background-color: #3B4455;\n",
              "      fill: #D2E3FC;\n",
              "    }\n",
              "\n",
              "    [theme=dark] .colab-df-convert:hover {\n",
              "      background-color: #434B5C;\n",
              "      box-shadow: 0px 1px 3px 1px rgba(0, 0, 0, 0.15);\n",
              "      filter: drop-shadow(0px 1px 2px rgba(0, 0, 0, 0.3));\n",
              "      fill: #FFFFFF;\n",
              "    }\n",
              "  </style>\n",
              "\n",
              "      <script>\n",
              "        const buttonEl =\n",
              "          document.querySelector('#df-cb1412b1-5e7f-4eaf-a869-438c311f4847 button.colab-df-convert');\n",
              "        buttonEl.style.display =\n",
              "          google.colab.kernel.accessAllowed ? 'block' : 'none';\n",
              "\n",
              "        async function convertToInteractive(key) {\n",
              "          const element = document.querySelector('#df-cb1412b1-5e7f-4eaf-a869-438c311f4847');\n",
              "          const dataTable =\n",
              "            await google.colab.kernel.invokeFunction('convertToInteractive',\n",
              "                                                     [key], {});\n",
              "          if (!dataTable) return;\n",
              "\n",
              "          const docLinkHtml = 'Like what you see? Visit the ' +\n",
              "            '<a target=\"_blank\" href=https://colab.research.google.com/notebooks/data_table.ipynb>data table notebook</a>'\n",
              "            + ' to learn more about interactive tables.';\n",
              "          element.innerHTML = '';\n",
              "          dataTable['output_type'] = 'display_data';\n",
              "          await google.colab.output.renderOutput(dataTable, element);\n",
              "          const docLink = document.createElement('div');\n",
              "          docLink.innerHTML = docLinkHtml;\n",
              "          element.appendChild(docLink);\n",
              "        }\n",
              "      </script>\n",
              "    </div>\n",
              "  </div>\n",
              "  "
            ],
            "text/plain": [
              "                                              review sentiment\n",
              "0  One of the other reviewers has mentioned that ...  positive\n",
              "1  A wonderful little production. <br /><br />The...  positive\n",
              "2  I thought this was a wonderful way to spend ti...  positive\n",
              "3  Basically there's a family where a little boy ...  negative\n",
              "4  Petter Mattei's \"Love in the Time of Money\" is...  positive"
            ]
          },
          "metadata": {},
          "execution_count": 29
        }
      ]
    },
    {
      "cell_type": "code",
      "source": [
        "data['review']=data['review'].apply(lower_case_conversion)"
      ],
      "metadata": {
        "id": "J0zjvg2jQwhl"
      },
      "execution_count": null,
      "outputs": []
    },
    {
      "cell_type": "code",
      "source": [
        "data['review']"
      ],
      "metadata": {
        "colab": {
          "base_uri": "https://localhost:8080/"
        },
        "id": "4TgsLeRoQy4E",
        "outputId": "9fa2afa2-3a57-4bd4-bdad-73bef49286b0"
      },
      "execution_count": null,
      "outputs": [
        {
          "output_type": "execute_result",
          "data": {
            "text/plain": [
              "0        one of the other reviewers has mentioned that ...\n",
              "1        a wonderful little production. <br /><br />the...\n",
              "2        i thought this was a wonderful way to spend ti...\n",
              "3        basically there's a family where a little boy ...\n",
              "4        petter mattei's \"love in the time of money\" is...\n",
              "                               ...                        \n",
              "49995    i thought this movie did a down right good job...\n",
              "49996    bad plot, bad dialogue, bad acting, idiotic di...\n",
              "49997    i am a catholic taught in parochial elementary...\n",
              "49998    i'm going to have to disagree with the previou...\n",
              "49999    no one expects the star trek movies to be high...\n",
              "Name: review, Length: 50000, dtype: object"
            ]
          },
          "metadata": {},
          "execution_count": 31
        }
      ]
    },
    {
      "cell_type": "code",
      "source": [
        ""
      ],
      "metadata": {
        "id": "gvhzt02-Q_V5"
      },
      "execution_count": null,
      "outputs": []
    }
  ]
}