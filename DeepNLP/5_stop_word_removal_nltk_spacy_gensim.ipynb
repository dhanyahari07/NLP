{
  "nbformat": 4,
  "nbformat_minor": 0,
  "metadata": {
    "colab": {
      "name": "5. stop_word_removal_nltk_spacy_gensim.ipynb",
      "provenance": [],
      "collapsed_sections": [],
      "authorship_tag": "ABX9TyMkjDfsvEflIG/9HoJWfIKV"
    },
    "kernelspec": {
      "name": "python3",
      "display_name": "Python 3"
    },
    "language_info": {
      "name": "python"
    }
  },
  "cells": [
    {
      "cell_type": "code",
      "execution_count": null,
      "metadata": {
        "colab": {
          "base_uri": "https://localhost:8080/"
        },
        "id": "x2Qgh_IZgwg2",
        "outputId": "b4db644c-5196-45a3-ec09-8c1e8978db9b"
      },
      "outputs": [
        {
          "output_type": "stream",
          "name": "stdout",
          "text": [
            "[nltk_data] Error loading stowords: Package 'stowords' not found in\n",
            "[nltk_data]     index\n"
          ]
        },
        {
          "output_type": "execute_result",
          "data": {
            "text/plain": [
              "False"
            ]
          },
          "metadata": {},
          "execution_count": 2
        }
      ],
      "source": [
        "import nltk\n",
        "from nltk.corpus import stopwords\n",
        "nltk.download('stopwords')"
      ]
    },
    {
      "cell_type": "code",
      "source": [
        "from nltk.tokenize import word_tokenize"
      ],
      "metadata": {
        "id": "XGIDH0-6nHpW"
      },
      "execution_count": null,
      "outputs": []
    },
    {
      "cell_type": "code",
      "source": [
        "text =\"nick likes to play football, however he is not too fond of tennis\""
      ],
      "metadata": {
        "id": "jWj6UkLSnWKk"
      },
      "execution_count": null,
      "outputs": []
    },
    {
      "cell_type": "code",
      "source": [
        "nltk.download('punkt')"
      ],
      "metadata": {
        "colab": {
          "base_uri": "https://localhost:8080/"
        },
        "id": "zmWjNhfvnn2f",
        "outputId": "d4352582-f9fe-4d21-da82-3728cdc591f7"
      },
      "execution_count": null,
      "outputs": [
        {
          "output_type": "stream",
          "name": "stdout",
          "text": [
            "[nltk_data] Downloading package punkt to /root/nltk_data...\n",
            "[nltk_data]   Unzipping tokenizers/punkt.zip.\n"
          ]
        },
        {
          "output_type": "execute_result",
          "data": {
            "text/plain": [
              "True"
            ]
          },
          "metadata": {},
          "execution_count": 6
        }
      ]
    },
    {
      "cell_type": "code",
      "source": [
        "nltk.download('stopwords')"
      ],
      "metadata": {
        "colab": {
          "base_uri": "https://localhost:8080/"
        },
        "id": "l6oQVBTGn_TH",
        "outputId": "8784b661-826d-41da-ce33-8ea5c5b52f63"
      },
      "execution_count": null,
      "outputs": [
        {
          "output_type": "stream",
          "name": "stdout",
          "text": [
            "[nltk_data] Downloading package stopwords to /root/nltk_data...\n",
            "[nltk_data]   Unzipping corpora/stopwords.zip.\n"
          ]
        },
        {
          "output_type": "execute_result",
          "data": {
            "text/plain": [
              "True"
            ]
          },
          "metadata": {},
          "execution_count": 9
        }
      ]
    },
    {
      "cell_type": "code",
      "source": [
        "text_tokens = word_tokenize(text)"
      ],
      "metadata": {
        "id": "yEIeugvpnfP7"
      },
      "execution_count": null,
      "outputs": []
    },
    {
      "cell_type": "code",
      "source": [
        "tokens_stop_rem=[word for word in text_tokens if not word in stopwords.words()]"
      ],
      "metadata": {
        "id": "p1hvWBd9nlKI"
      },
      "execution_count": null,
      "outputs": []
    },
    {
      "cell_type": "code",
      "source": [
        "tokens_stop_rem"
      ],
      "metadata": {
        "colab": {
          "base_uri": "https://localhost:8080/"
        },
        "id": "RFRqtxqqn7Sy",
        "outputId": "53cf7727-cc79-4822-b102-69eb05bdb20e"
      },
      "execution_count": null,
      "outputs": [
        {
          "output_type": "execute_result",
          "data": {
            "text/plain": [
              "['nick', 'likes', 'play', 'football', ',', 'however', 'fond', 'tennis']"
            ]
          },
          "metadata": {},
          "execution_count": 11
        }
      ]
    },
    {
      "cell_type": "code",
      "source": [
        "print(stopwords.words('english'))"
      ],
      "metadata": {
        "colab": {
          "base_uri": "https://localhost:8080/"
        },
        "id": "chlgWagcoC32",
        "outputId": "b39678c8-bdac-458d-9747-0b3f2b63ad44"
      },
      "execution_count": null,
      "outputs": [
        {
          "output_type": "stream",
          "name": "stdout",
          "text": [
            "['i', 'me', 'my', 'myself', 'we', 'our', 'ours', 'ourselves', 'you', \"you're\", \"you've\", \"you'll\", \"you'd\", 'your', 'yours', 'yourself', 'yourselves', 'he', 'him', 'his', 'himself', 'she', \"she's\", 'her', 'hers', 'herself', 'it', \"it's\", 'its', 'itself', 'they', 'them', 'their', 'theirs', 'themselves', 'what', 'which', 'who', 'whom', 'this', 'that', \"that'll\", 'these', 'those', 'am', 'is', 'are', 'was', 'were', 'be', 'been', 'being', 'have', 'has', 'had', 'having', 'do', 'does', 'did', 'doing', 'a', 'an', 'the', 'and', 'but', 'if', 'or', 'because', 'as', 'until', 'while', 'of', 'at', 'by', 'for', 'with', 'about', 'against', 'between', 'into', 'through', 'during', 'before', 'after', 'above', 'below', 'to', 'from', 'up', 'down', 'in', 'out', 'on', 'off', 'over', 'under', 'again', 'further', 'then', 'once', 'here', 'there', 'when', 'where', 'why', 'how', 'all', 'any', 'both', 'each', 'few', 'more', 'most', 'other', 'some', 'such', 'no', 'nor', 'not', 'only', 'own', 'same', 'so', 'than', 'too', 'very', 's', 't', 'can', 'will', 'just', 'don', \"don't\", 'should', \"should've\", 'now', 'd', 'll', 'm', 'o', 're', 've', 'y', 'ain', 'aren', \"aren't\", 'couldn', \"couldn't\", 'didn', \"didn't\", 'doesn', \"doesn't\", 'hadn', \"hadn't\", 'hasn', \"hasn't\", 'haven', \"haven't\", 'isn', \"isn't\", 'ma', 'mightn', \"mightn't\", 'mustn', \"mustn't\", 'needn', \"needn't\", 'shan', \"shan't\", 'shouldn', \"shouldn't\", 'wasn', \"wasn't\", 'weren', \"weren't\", 'won', \"won't\", 'wouldn', \"wouldn't\"]\n"
          ]
        }
      ]
    },
    {
      "cell_type": "markdown",
      "source": [
        "# Add stop words"
      ],
      "metadata": {
        "id": "oY7SYA1Lo9jZ"
      }
    },
    {
      "cell_type": "code",
      "source": [
        "all_stopwords=stopwords.words('english')\n",
        "all_stopwords.append('play')\n",
        "text_tokens = word_tokenize(text)\n",
        "tokens_stop_rem=[word for word in text_tokens if not word in all_stopwords]"
      ],
      "metadata": {
        "id": "RDLwFfyqotJN"
      },
      "execution_count": null,
      "outputs": []
    },
    {
      "cell_type": "code",
      "source": [
        "tokens_stop_rem"
      ],
      "metadata": {
        "colab": {
          "base_uri": "https://localhost:8080/"
        },
        "id": "haqvXv5xpND5",
        "outputId": "0730a279-a11d-4674-d21c-a24aa4c12cd4"
      },
      "execution_count": null,
      "outputs": [
        {
          "output_type": "execute_result",
          "data": {
            "text/plain": [
              "['nick', 'likes', 'football', ',', 'however', 'fond', 'tennis']"
            ]
          },
          "metadata": {},
          "execution_count": 19
        }
      ]
    },
    {
      "cell_type": "code",
      "source": [
        "sw_list=['likes','play']\n",
        "all_stopwords.extend(sw_list)\n",
        "text_tokens = word_tokenize(text)\n",
        "tokens_stop_rem=[word for word in text_tokens if not word in all_stopwords]\n",
        "tokens_stop_rem"
      ],
      "metadata": {
        "colab": {
          "base_uri": "https://localhost:8080/"
        },
        "id": "-V-Jg8pjpOr3",
        "outputId": "61b41f19-0684-446d-f158-8d390e1bf12f"
      },
      "execution_count": null,
      "outputs": [
        {
          "output_type": "execute_result",
          "data": {
            "text/plain": [
              "['nick', 'football', ',', 'however', 'fond', 'tennis']"
            ]
          },
          "metadata": {},
          "execution_count": 20
        }
      ]
    },
    {
      "cell_type": "markdown",
      "source": [
        "# remove"
      ],
      "metadata": {
        "id": "57lb0eCiqTd5"
      }
    },
    {
      "cell_type": "code",
      "source": [
        "all_stopwords=stopwords.words('english')\n",
        "all_stopwords.remove('not')\n",
        "text_tokens = word_tokenize(text)\n",
        "tokens_stop_rem=[word for word in text_tokens if not word in all_stopwords]\n",
        "tokens_stop_rem"
      ],
      "metadata": {
        "colab": {
          "base_uri": "https://localhost:8080/"
        },
        "id": "4j1uzQ3lpxAd",
        "outputId": "f3e77893-ce72-4781-a73d-8b3f37776717"
      },
      "execution_count": null,
      "outputs": [
        {
          "output_type": "execute_result",
          "data": {
            "text/plain": [
              "['nick', 'likes', 'play', 'football', ',', 'however', 'not', 'fond', 'tennis']"
            ]
          },
          "metadata": {},
          "execution_count": 21
        }
      ]
    },
    {
      "cell_type": "markdown",
      "source": [
        "#SPACY"
      ],
      "metadata": {
        "id": "zmMMgSLuq6Vw"
      }
    },
    {
      "cell_type": "code",
      "source": [
        "import spacy\n",
        "sp=spacy.load('en_core_web_sm')\n",
        "\n",
        "all_stopwords=sp.Defaults.stop_words"
      ],
      "metadata": {
        "id": "EFcvcuOiqjzz"
      },
      "execution_count": null,
      "outputs": []
    },
    {
      "cell_type": "code",
      "source": [
        "text_tokens = word_tokenize(text)\n",
        "tokens_stop_rem=[word for word in text_tokens if not word in all_stopwords]\n",
        "tokens_stop_rem"
      ],
      "metadata": {
        "colab": {
          "base_uri": "https://localhost:8080/"
        },
        "id": "ZXiAXSoNrfwp",
        "outputId": "a605b3a7-01dd-4e13-ce10-8f6f7fb26fde"
      },
      "execution_count": null,
      "outputs": [
        {
          "output_type": "execute_result",
          "data": {
            "text/plain": [
              "['nick', 'likes', 'play', 'football', ',', 'fond', 'tennis']"
            ]
          },
          "metadata": {},
          "execution_count": 24
        }
      ]
    },
    {
      "cell_type": "code",
      "source": [
        "print(len(all_stopwords))"
      ],
      "metadata": {
        "colab": {
          "base_uri": "https://localhost:8080/"
        },
        "id": "SdmAhsydroOs",
        "outputId": "1f7b1d80-88c0-4f1d-89d1-740a22533b42"
      },
      "execution_count": null,
      "outputs": [
        {
          "output_type": "stream",
          "name": "stdout",
          "text": [
            "326\n"
          ]
        }
      ]
    },
    {
      "cell_type": "code",
      "source": [
        "all_stopwords=sp.Defaults.stop_words\n",
        "all_stopwords.add(\"tennis\")\n",
        "text_tokens = word_tokenize(text)\n",
        "tokens_stop_rem=[word for word in text_tokens if not word in all_stopwords]\n",
        "tokens_stop_rem"
      ],
      "metadata": {
        "colab": {
          "base_uri": "https://localhost:8080/"
        },
        "id": "m-cDOV8VshXu",
        "outputId": "be7ba441-c71b-4023-bfb8-b4b9bcc815b6"
      },
      "execution_count": null,
      "outputs": [
        {
          "output_type": "execute_result",
          "data": {
            "text/plain": [
              "['nick', 'likes', 'play', 'football', ',', 'fond']"
            ]
          },
          "metadata": {},
          "execution_count": 28
        }
      ]
    },
    {
      "cell_type": "code",
      "source": [
        "all_stopwords=sp.Defaults.stop_words\n",
        "all_stopwords |={\"tennis\",\"likes\"}\n",
        "text_tokens = word_tokenize(text)\n",
        "tokens_stop_rem=[word for word in text_tokens if not word in all_stopwords]\n",
        "tokens_stop_rem"
      ],
      "metadata": {
        "colab": {
          "base_uri": "https://localhost:8080/"
        },
        "id": "3mMjloUZs1zT",
        "outputId": "2c31e9b2-5dfc-40d2-ddd5-14aabc4ecd8e"
      },
      "execution_count": null,
      "outputs": [
        {
          "output_type": "execute_result",
          "data": {
            "text/plain": [
              "['nick', 'play', 'football', ',', 'fond']"
            ]
          },
          "metadata": {},
          "execution_count": 29
        }
      ]
    },
    {
      "cell_type": "code",
      "source": [
        "all_stopwords=sp.Defaults.stop_words\n",
        "all_stopwords.remove('not')\n",
        "text_tokens = word_tokenize(text)\n",
        "tokens_stop_rem=[word for word in text_tokens if not word in all_stopwords]\n",
        "tokens_stop_rem"
      ],
      "metadata": {
        "colab": {
          "base_uri": "https://localhost:8080/"
        },
        "id": "AYJTYBbwtQ06",
        "outputId": "e148a668-b5c5-4074-e235-e45865fae62a"
      },
      "execution_count": null,
      "outputs": [
        {
          "output_type": "execute_result",
          "data": {
            "text/plain": [
              "['nick', 'play', 'football', ',', 'not', 'fond']"
            ]
          },
          "metadata": {},
          "execution_count": 30
        }
      ]
    },
    {
      "cell_type": "markdown",
      "source": [
        "#GenSim"
      ],
      "metadata": {
        "id": "HEcaxnBJuBw3"
      }
    },
    {
      "cell_type": "code",
      "source": [
        "from gensim.parsing.preprocessing import remove_stopwords"
      ],
      "metadata": {
        "id": "zMscOomBthXE"
      },
      "execution_count": null,
      "outputs": []
    },
    {
      "cell_type": "code",
      "source": [
        "text=\"Nick likes to play football, however he is not too font of tennis\""
      ],
      "metadata": {
        "id": "3WIbu4E6xEOd"
      },
      "execution_count": null,
      "outputs": []
    },
    {
      "cell_type": "code",
      "source": [
        "filtered_senetnce=remove_stopwords(text)"
      ],
      "metadata": {
        "id": "OYUXWOI9xOaR"
      },
      "execution_count": null,
      "outputs": []
    },
    {
      "cell_type": "code",
      "source": [
        "filtered_senetnce"
      ],
      "metadata": {
        "colab": {
          "base_uri": "https://localhost:8080/",
          "height": 37
        },
        "id": "LNu01555xWON",
        "outputId": "1545f0e9-cf59-464f-bf69-ed994c71cea9"
      },
      "execution_count": null,
      "outputs": [
        {
          "output_type": "execute_result",
          "data": {
            "application/vnd.google.colaboratory.intrinsic+json": {
              "type": "string"
            },
            "text/plain": [
              "'Nick likes play football, font tennis'"
            ]
          },
          "metadata": {},
          "execution_count": 4
        }
      ]
    },
    {
      "cell_type": "code",
      "source": [
        "import gensim\n",
        "all_stopwords=gensim.parsing.preprocessing.STOPWORDS"
      ],
      "metadata": {
        "id": "19MtOGE7xX0P"
      },
      "execution_count": null,
      "outputs": []
    },
    {
      "cell_type": "code",
      "source": [
        "len(all_stopwords)"
      ],
      "metadata": {
        "colab": {
          "base_uri": "https://localhost:8080/"
        },
        "id": "iMFIWt6mxwWO",
        "outputId": "68c12be5-14db-4e8d-cd26-4f250dc73fa9"
      },
      "execution_count": null,
      "outputs": [
        {
          "output_type": "execute_result",
          "data": {
            "text/plain": [
              "337"
            ]
          },
          "metadata": {},
          "execution_count": 8
        }
      ]
    },
    {
      "cell_type": "code",
      "source": [
        "from gensim.parsing.preprocessing import STOPWORDS"
      ],
      "metadata": {
        "id": "Tc9RAb14x0Kc"
      },
      "execution_count": null,
      "outputs": []
    },
    {
      "cell_type": "code",
      "source": [
        "\n",
        "import nltk\n",
        "nltk.download('punkt')"
      ],
      "metadata": {
        "colab": {
          "base_uri": "https://localhost:8080/"
        },
        "id": "bdrkRZ4-y7Ew",
        "outputId": "30a0635c-9a6f-4bd6-fa5f-e31b6ba02448"
      },
      "execution_count": null,
      "outputs": [
        {
          "output_type": "stream",
          "name": "stdout",
          "text": [
            "[nltk_data] Downloading package punkt to /root/nltk_data...\n",
            "[nltk_data]   Unzipping tokenizers/punkt.zip.\n"
          ]
        },
        {
          "output_type": "execute_result",
          "data": {
            "text/plain": [
              "True"
            ]
          },
          "metadata": {},
          "execution_count": 14
        }
      ]
    },
    {
      "cell_type": "code",
      "source": [
        "all_stopwords_gensim=STOPWORDS.union(set(['likes','play']))\n",
        "text_tokens=word_tokenize(text)\n",
        "tokens_without_sw=\n",
        "[word for word in text_tokens if not word in all_stopwords_gensim]"
      ],
      "metadata": {
        "id": "lbbsAv8jyLoV"
      },
      "execution_count": null,
      "outputs": []
    },
    {
      "cell_type": "code",
      "source": [
        "tokens_without_sw"
      ],
      "metadata": {
        "colab": {
          "base_uri": "https://localhost:8080/"
        },
        "id": "UJ_kQi-_yzK9",
        "outputId": "66eeec7a-4498-4567-d10c-054644d39be9"
      },
      "execution_count": null,
      "outputs": [
        {
          "output_type": "execute_result",
          "data": {
            "text/plain": [
              "['Nick', 'football', ',', 'font', 'tennis']"
            ]
          },
          "metadata": {},
          "execution_count": 16
        }
      ]
    },
    {
      "cell_type": "code",
      "source": [
        "all_stopwords_gensim=STOPWORDS\n",
        "sw_list={\"not\"}\n",
        "all_stopwords_gensim=STOPWORDS.difference(sw_list)\n",
        "text_tokens=word_tokenize(text)\n",
        "tokens_without_sw=[word for word in text_tokens if not word in all_stopwords_gensim]\n",
        "tokens_without_sw"
      ],
      "metadata": {
        "colab": {
          "base_uri": "https://localhost:8080/"
        },
        "id": "glP7uslfzC49",
        "outputId": "4f59dde3-ea5c-460b-e48e-69f5d13d8d3b"
      },
      "execution_count": null,
      "outputs": [
        {
          "output_type": "execute_result",
          "data": {
            "text/plain": [
              "['Nick', 'likes', 'play', 'football', ',', 'not', 'font', 'tennis']"
            ]
          },
          "metadata": {},
          "execution_count": 18
        }
      ]
    },
    {
      "cell_type": "code",
      "source": [
        ""
      ],
      "metadata": {
        "id": "8fytXcvW0RNJ"
      },
      "execution_count": null,
      "outputs": []
    }
  ]
}